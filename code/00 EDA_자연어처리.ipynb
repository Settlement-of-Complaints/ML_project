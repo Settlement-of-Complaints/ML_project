{
 "cells": [
  {
   "cell_type": "markdown",
   "metadata": {},
   "source": [
    "### 자연어 처리에서의 EDA"
   ]
  },
  {
   "cell_type": "code",
   "execution_count": 12,
   "metadata": {},
   "outputs": [],
   "source": [
    "# 한글 폰트 사용을 위해서 세팅\n",
    "from matplotlib import font_manager, rc\n",
    "font_path = \"C:/Windows/Fonts/NGULIM.TTF\"\n",
    "font = font_manager.FontProperties(fname=font_path).get_name()\n",
    "rc('font', family=font)"
   ]
  },
  {
   "cell_type": "markdown",
   "metadata": {},
   "source": [
    "#### 제목 길이 분포"
   ]
  },
  {
   "cell_type": "code",
   "execution_count": 13,
   "metadata": {},
   "outputs": [],
   "source": [
    "import pandas as pd"
   ]
  },
  {
   "cell_type": "code",
   "execution_count": 14,
   "metadata": {},
   "outputs": [
    {
     "name": "stdout",
     "output_type": "stream",
     "text": [
      "c:\\머신러닝\\미니프로젝트\\데이터\n"
     ]
    }
   ],
   "source": [
    "# 주소 확인\n",
    "os.chdir(\"c:/머신러닝/미니프로젝트/데이터\")\n",
    "print(os.getcwd())"
   ]
  },
  {
   "cell_type": "code",
   "execution_count": 15,
   "metadata": {},
   "outputs": [
    {
     "name": "stdout",
     "output_type": "stream",
     "text": [
      "Collecting package\n",
      "  Using cached package-0.1.1.tar.gz (13 kB)\n",
      "Note: you may need to restart the kernel to use updated packages.\n"
     ]
    },
    {
     "name": "stderr",
     "output_type": "stream",
     "text": [
      "    ERROR: Command errored out with exit status 1:\n",
      "     command: 'C:\\Users\\dkq50\\anaconda3\\envs\\hamtori\\python.exe' -c 'import io, os, sys, setuptools, tokenize; sys.argv[0] = '\"'\"'C:\\\\Users\\\\dkq50\\\\AppData\\\\Local\\\\Temp\\\\pip-install-imhhd1i1\\\\package_d087d78f6cf84f788f07a612b64dba99\\\\setup.py'\"'\"'; __file__='\"'\"'C:\\\\Users\\\\dkq50\\\\AppData\\\\Local\\\\Temp\\\\pip-install-imhhd1i1\\\\package_d087d78f6cf84f788f07a612b64dba99\\\\setup.py'\"'\"';f = getattr(tokenize, '\"'\"'open'\"'\"', open)(__file__) if os.path.exists(__file__) else io.StringIO('\"'\"'from setuptools import setup; setup()'\"'\"');code = f.read().replace('\"'\"'\\r\\n'\"'\"', '\"'\"'\\n'\"'\"');f.close();exec(compile(code, __file__, '\"'\"'exec'\"'\"'))' egg_info --egg-base 'C:\\Users\\dkq50\\AppData\\Local\\Temp\\pip-pip-egg-info-pvfu_0gr'\n",
      "         cwd: C:\\Users\\dkq50\\AppData\\Local\\Temp\\pip-install-imhhd1i1\\package_d087d78f6cf84f788f07a612b64dba99\\\n",
      "    Complete output (6 lines):\n",
      "    Traceback (most recent call last):\n",
      "      File \"<string>\", line 1, in <module>\n",
      "      File \"C:\\Users\\dkq50\\AppData\\Local\\Temp\\pip-install-imhhd1i1\\package_d087d78f6cf84f788f07a612b64dba99\\setup.py\", line 4\n",
      "        print \"\"\"\n",
      "              ^\n",
      "    SyntaxError: Missing parentheses in call to 'print'. Did you mean print(\"\"\")?\n",
      "    ----------------------------------------\n",
      "WARNING: Discarding https://files.pythonhosted.org/packages/27/16/89ea913b3e70256b9abe4f222543553fcce8bafc7ff3774a8802a054e6b8/package-0.1.1.tar.gz#sha256=01eee19a56a936bd63222f0a3c531fcdba37b5ad1bd833b960d62fb960b4955e (from https://pypi.org/simple/package/). Command errored out with exit status 1: python setup.py egg_info Check the logs for full command output.\n",
      "ERROR: Could not find a version that satisfies the requirement package (from versions: 0.1.1)\n",
      "ERROR: No matching distribution found for package\n"
     ]
    }
   ],
   "source": [
    "pip install package openpyxl"
   ]
  },
  {
   "cell_type": "code",
   "execution_count": 16,
   "metadata": {},
   "outputs": [],
   "source": [
    "# 데이터 불러오기\n",
    "train = pd.read_csv('train.csv',sep='\\t')\n",
    "#test1 = pd.read_excel(\"민주주의 서울 자유제안 정보_17_19.xlsx\")\n",
    "test2 = pd.read_csv(\"민주주의 서울 자유제안 정보_20_22.csv\",encoding='cp949')"
   ]
  },
  {
   "cell_type": "code",
   "execution_count": 17,
   "metadata": {},
   "outputs": [
    {
     "data": {
      "text/html": [
       "<div>\n",
       "<style scoped>\n",
       "    .dataframe tbody tr th:only-of-type {\n",
       "        vertical-align: middle;\n",
       "    }\n",
       "\n",
       "    .dataframe tbody tr th {\n",
       "        vertical-align: top;\n",
       "    }\n",
       "\n",
       "    .dataframe thead th {\n",
       "        text-align: right;\n",
       "    }\n",
       "</style>\n",
       "<table border=\"1\" class=\"dataframe\">\n",
       "  <thead>\n",
       "    <tr style=\"text-align: right;\">\n",
       "      <th></th>\n",
       "      <th>글번호</th>\n",
       "      <th>제목</th>\n",
       "      <th>작성일</th>\n",
       "      <th>분류</th>\n",
       "      <th>내용</th>\n",
       "      <th>부서의견</th>\n",
       "    </tr>\n",
       "  </thead>\n",
       "  <tbody>\n",
       "    <tr>\n",
       "      <th>0</th>\n",
       "      <td>150587</td>\n",
       "      <td>횡단보도 사각지대 반사경</td>\n",
       "      <td>2012-10-30</td>\n",
       "      <td>교통</td>\n",
       "      <td>운전을 하다보면 횡단보도 주변에 적치물들 때문에 사각지대가 형성되어 사람이 보이지 ...</td>\n",
       "      <td>좋은 제안 주신 whatsmatter 님께 감사드리며, 제안을 검토한 결과를 다음과...</td>\n",
       "    </tr>\n",
       "  </tbody>\n",
       "</table>\n",
       "</div>"
      ],
      "text/plain": [
       "      글번호             제목         작성일  분류  \\\n",
       "0  150587  횡단보도 사각지대 반사경  2012-10-30  교통   \n",
       "\n",
       "                                                  내용  \\\n",
       "0  운전을 하다보면 횡단보도 주변에 적치물들 때문에 사각지대가 형성되어 사람이 보이지 ...   \n",
       "\n",
       "                                                부서의견  \n",
       "0  좋은 제안 주신 whatsmatter 님께 감사드리며, 제안을 검토한 결과를 다음과...  "
      ]
     },
     "execution_count": 17,
     "metadata": {},
     "output_type": "execute_result"
    }
   ],
   "source": [
    "train.head(1)"
   ]
  },
  {
   "cell_type": "code",
   "execution_count": 24,
   "metadata": {},
   "outputs": [
    {
     "data": {
      "text/plain": [
       "Text(0, 0.5, '빈도 수')"
      ]
     },
     "execution_count": 24,
     "metadata": {},
     "output_type": "execute_result"
    },
    {
     "data": {
      "image/png": "[encoded data removed]",
      "text/plain": [
       "<Figure size 432x288 with 1 Axes>"
      ]
     },
     "metadata": {
      "needs_background": "light"
     },
     "output_type": "display_data"
    }
   ],
   "source": [
    "# 제목의  글자 수 히스토그램\n",
    "ax = train['제목'].str.len().hist()\n",
    "\n",
    "ax.set_xlabel('글자 수')\n",
    "ax.set_ylabel('빈도 수')"
   ]
  },
  {
   "cell_type": "markdown",
   "metadata": {},
   "source": [
    "#### 토큰 수 분포\n"
   ]
  },
  {
   "cell_type": "code",
   "execution_count": 32,
   "metadata": {},
   "outputs": [
    {
     "data": {
      "text/plain": [
       "Text(0, 0.5, '빈도 수')"
      ]
     },
     "execution_count": 32,
     "metadata": {},
     "output_type": "execute_result"
    },
    {
     "data": {
      "image/png": "[encoded data removed]",
      "text/plain": [
       "<Figure size 432x288 with 1 Axes>"
      ]
     },
     "metadata": {
      "needs_background": "light"
     },
     "output_type": "display_data"
    }
   ],
   "source": [
    "# 토큰 수\n",
    "ax = train['제목'].str.split().map(lambda x: len(x)).hist()\n",
    "\n",
    "ax.set_xlabel('토큰 수')\n",
    "ax.set_ylabel('빈도 수')"
   ]
  },
  {
   "cell_type": "markdown",
   "metadata": {},
   "source": [
    "#### 토큰별 길이 평균 분포"
   ]
  },
  {
   "cell_type": "code",
   "execution_count": 27,
   "metadata": {},
   "outputs": [],
   "source": [
    "import numpy as np"
   ]
  },
  {
   "cell_type": "code",
   "execution_count": 29,
   "metadata": {},
   "outputs": [
    {
     "data": {
      "text/plain": [
       "Text(0, 0.5, '빈도 수')"
      ]
     },
     "execution_count": 29,
     "metadata": {},
     "output_type": "execute_result"
    },
    {
     "data": {
      "image/png": "[encoded data removed]",
      "text/plain": [
       "<Figure size 432x288 with 1 Axes>"
      ]
     },
     "metadata": {
      "needs_background": "light"
     },
     "output_type": "display_data"
    }
   ],
   "source": [
    "#토큰별 길이 평균\n",
    "ax = train['제목'].str.split().\\\n",
    "   apply(lambda x : [len(i) for i in x]). \\\n",
    "   map(lambda x: np.mean(x)).hist()\n",
    "\n",
    "ax.set_xlabel('토큰 길이 평균')\n",
    "ax.set_ylabel('빈도 수')"
   ]
  },
  {
   "cell_type": "markdown",
   "metadata": {},
   "source": [
    "#### 명사 통계\n",
    " \n",
    "\n",
    "-mecab 형태소 분석기를 사용하였으며, 고유명사가 많이 쓰였으나, 실제로 명사 추출이 잘 수행되지는 않아서 데이터를 일부 살펴본 후 사용자 사전에서 추가해 주었다. \n",
    "\n",
    " \n",
    "\n",
    "-제목 중 명사들의 분포를 조사하고자 한다. 1글자로만 추출된 대상 중 의존명사처럼 의미 없다고 생각되는 경우들도 있어서 1글자를 제외한 내용들도 따로 시각화해 보았다.\n"
   ]
  },
  {
   "cell_type": "code",
   "execution_count": 112,
   "metadata": {},
   "outputs": [],
   "source": [
    "#사용자 사전 등록 \n",
    "user_dic_path = \"C:/머신러닝/미니프로젝트/데이터/dic.txt\"\n",
    "\n",
    "from PyKomoran import *\n",
    "\n",
    "komoran = Komoran('STABLE')\n",
    "komoran.set_user_dic(user_dic_path)"
   ]
  },
  {
   "cell_type": "code",
   "execution_count": 160,
   "metadata": {},
   "outputs": [
    {
     "data": {
      "text/plain": [
       "Text(0.5, 1.0, '명사통계')"
      ]
     },
     "execution_count": 160,
     "metadata": {},
     "output_type": "execute_result"
    },
    {
     "data": {
      "image/png": "[encoded data removed]",
      "text/plain": [
       "<Figure size 720x720 with 1 Axes>"
      ]
     },
     "metadata": {
      "needs_background": "light"
     },
     "output_type": "display_data"
    }
   ],
   "source": [
    "## 명사별 개수 \n",
    "# 명사 추출 > 전체 코퍼스로 구축 > 개수 세기 > 시각화 \n",
    "import collections \n",
    "import seaborn as sns \n",
    "import matplotlib.pyplot as plt \n",
    "\n",
    "titles = train['제목'].to_list() \n",
    "n_corpus = [] \n",
    "\n",
    "for t in titles: \n",
    "    n_corpus += komoran.nouns(t) #mecab에서 명사 추출 \n",
    "\n",
    "count = collections.Counter(n_corpus) \n",
    "most = count.most_common() #빈도 수 순으로 추출 \n",
    "\n",
    "x, y= [], [] \n",
    "for word,count in most[:40]: \n",
    "    x.append(word) \n",
    "    y.append(count) \n",
    "\n",
    "plt.rcParams['font.family'] = 'NanumGothic' \n",
    "plt.figure(figsize=(10,10)) \n",
    "sns.barplot(x=y,y=x)\n",
    "plt.title('명사통계')"
   ]
  },
  {
   "cell_type": "code",
   "execution_count": 163,
   "metadata": {},
   "outputs": [
    {
     "data": {
      "text/plain": [
       "Text(0.5, 1.0, '2글자 이상의 명사 통계')"
      ]
     },
     "execution_count": 163,
     "metadata": {},
     "output_type": "execute_result"
    },
    {
     "data": {
      "image/png": "[encoded data removed]",
      "text/plain": [
       "<Figure size 720x720 with 1 Axes>"
      ]
     },
     "metadata": {
      "needs_background": "light"
     },
     "output_type": "display_data"
    }
   ],
   "source": [
    "#2글자 이상의 명사 \n",
    "n_corpus2 = [] \n",
    "\n",
    "for t in titles: \n",
    "    for n in komoran.nouns(t): \n",
    "        if len(n)>1: \n",
    "            n_corpus2.append(n) \n",
    "\n",
    "count = collections.Counter(n_corpus2) \n",
    "most = count.most_common() #빈도 수 순으로 추출 \n",
    "\n",
    "x, y= [], [] \n",
    "for word,count in most[:40]: \n",
    "    x.append(word) \n",
    "    y.append(count) \n",
    "    \n",
    "plt.rcParams['font.family'] = 'NanumGothic' \n",
    "plt.figure(figsize=(10,10)) \n",
    "ax = sns.barplot(x=y,y=x) \n",
    "ax.set(xlabel = '빈도 수', ylabel = '명사')\n",
    "ax.set_title('2글자 이상의 명사 통계')"
   ]
  },
  {
   "cell_type": "markdown",
   "metadata": {},
   "source": [
    "#### 형태소 통계"
   ]
  },
  {
   "cell_type": "code",
   "execution_count": 102,
   "metadata": {},
   "outputs": [
    {
     "data": {
      "text/plain": [
       "0                                    횡단보도 사각지대 반사경\n",
       "1                                자전거 횡단보도 내려서 끌고가기\n",
       "2                             범죄예방을 위한 투도어현관보조문 설치\n",
       "3        각각 집마다 간이소화기를 만들어 배치하는 것을 의무로 하였으면 좋겠습니다.\n",
       "4                           예식장내 부대시설인 음식점의 횡포를...\n",
       "                           ...                    \n",
       "10672                               지하철 임산부 지정석 관련\n",
       "10673                      채동선 작곡가의 서울 집을 보존해 주세요.\n",
       "10674                                 한강및 지천에서의 안전\n",
       "10675                                세빛섬 이전 가능한가 ?\n",
       "10676         한강 시민공원 주차장에 태양광 패널로 지붕을 설치하면 좋겠습니다.\n",
       "Name: 제목, Length: 10677, dtype: object"
      ]
     },
     "execution_count": 102,
     "metadata": {},
     "output_type": "execute_result"
    }
   ],
   "source": [
    "train['제목']"
   ]
  },
  {
   "cell_type": "code",
   "execution_count": 162,
   "metadata": {},
   "outputs": [
    {
     "data": {
      "text/plain": [
       "Text(0.5, 1.0, '형태소 통계')"
      ]
     },
     "execution_count": 162,
     "metadata": {},
     "output_type": "execute_result"
    },
    {
     "data": {
      "image/png": "[encoded data removed]",
      "text/plain": [
       "<Figure size 432x288 with 1 Axes>"
      ]
     },
     "metadata": {
      "needs_background": "light"
     },
     "output_type": "display_data"
    }
   ],
   "source": [
    "#형태소 분석 후 형태소별 통계, 일반 명사, 고유명사 순 \n",
    "tags = [] \n",
    "for t in titles: \n",
    "    temp = komoran.get_list(t)\n",
    "    for p in temp: \n",
    "        tags.append(str(p).split('/')[1]) \n",
    "        \n",
    "counter=collections.Counter(tags) \n",
    "\n",
    "x,y=list(map(list,zip(*counter.most_common(10)))) \n",
    "ax = sns.barplot(x=y,y=x) \n",
    "ax.set(xlabel = '빈도 수', ylabel = '형태소')\n",
    "ax.set_title('형태소 통계')"
   ]
  },
  {
   "cell_type": "markdown",
   "metadata": {},
   "source": [
    "### Pandas Profiling"
   ]
  },
  {
   "cell_type": "code",
   "execution_count": null,
   "metadata": {},
   "outputs": [
    {
     "name": "stdout",
     "output_type": "stream",
     "text": [
      "c:\\머신러닝\\미니프로젝트\\데이터\n"
     ]
    }
   ],
   "source": [
    "# 주소 확인\n",
    "os.chdir(\"c:/머신러닝/미니프로젝트/데이터\")\n",
    "print(os.getcwd())"
   ]
  },
  {
   "cell_type": "code",
   "execution_count": null,
   "metadata": {},
   "outputs": [],
   "source": [
    "!pip install pandas_profiling"
   ]
  },
  {
   "cell_type": "code",
   "execution_count": null,
   "metadata": {},
   "outputs": [],
   "source": [
    "import pandas as pd\n",
    "from pandas_profiling import ProfileReport \n",
    "\n",
    "############ 한글 폰트 지정하는 부분 #################\n",
    "import matplotlib\n",
    "from matplotlib import font_manager, rc\n",
    "import platform\n",
    "\n",
    "if platform.system() == 'Windows':\n",
    "# 윈도우인 경우\n",
    "    font_name = font_manager.FontProperties(fname=r\"C:\\Users\\dkq50\\AppData\\Local\\Microsoft\\Windows\\Fonts\\a고딕12.ttf\").get_name()\n",
    "    rc('font', family=font_name)\n",
    "else:    \n",
    "# Mac 인 경우\n",
    "    rc('font', family='AppleGothic')\n",
    "    \n",
    "matplotlib.rcParams['axes.unicode_minus'] = False   \n",
    "#그래프에서 마이너스 기호가 표시되도록 하는 설정입니다.\n",
    "\n",
    "\n",
    "# 레포트 생성 --> html 파일로 저장하기  \n",
    "## 한글이 깨지시는 분은 제일 아래 코드로 실행해주세요\n",
    "# 데이터 불러오기\n",
    "train = pd.read_csv('train.csv',sep='\\t')\n",
    "test1 = pd.read_csv(\"민주주의 서울 자유제안 정보_17_19.csv\")\n",
    "test2 = pd.read_csv(\"민주주의 서울 자유제안 정보_20_22.csv\",encoding='cp949')\n",
    "report = test1.profile_report()\n",
    "report.to_file('글꼴깨지지마시오.html')"
   ]
  },
  {
   "cell_type": "code",
   "execution_count": null,
   "metadata": {},
   "outputs": [],
   "source": [
    "# 데이터 불러오기\n",
    "train = pd.read_csv('train.csv',sep='\\t')\n",
    "test1 = pd.read_csv(\"민주주의 서울 자유제안 정보_17_19.csv\")\n",
    "test2 = pd.read_csv(\"민주주의 서울 자유제안 정보_20_22.csv\",encoding='cp949')"
   ]
  },
  {
   "cell_type": "code",
   "execution_count": null,
   "metadata": {},
   "outputs": [],
   "source": [
    "# HTML 변환\n",
    "train.profile_report().to_file('./capdata_report_train.html')\n",
    "test1.profile_report().to_file('./capdata_report_test1.html')\n",
    "test2.profile_report().to_file('./capdata_report_test2.html')"
   ]
  }
 ],
 "metadata": {
  "interpreter": {
   "hash": "71983d4614f4bca5a3b402268e3287b05b08a37bb91635263544d2d0bb2a12a0"
  },
  "kernelspec": {
   "display_name": "Python 3.9.7 ('hamtori')",
   "language": "python",
   "name": "python3"
  },
  "language_info": {
   "codemirror_mode": {
    "name": "ipython",
    "version": 3
   },
   "file_extension": ".py",
   "mimetype": "text/x-python",
   "name": "python",
   "nbconvert_exporter": "python",
   "pygments_lexer": "ipython3",
   "version": "3.9.7"
  },
  "orig_nbformat": 4
 },
 "nbformat": 4,
 "nbformat_minor": 2
}
