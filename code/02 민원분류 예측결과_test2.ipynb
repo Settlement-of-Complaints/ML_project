{
 "cells": [
  {
   "cell_type": "markdown",
   "metadata": {},
   "source": [
    "# 00 라이브러리 로딩"
   ]
  },
  {
   "cell_type": "code",
   "execution_count": 1,
   "metadata": {},
   "outputs": [],
   "source": [
    "import pandas as pd\n",
    "import numpy as np\n",
    "import pickle\n",
    "\n",
    "from gensim.models import word2vec\n",
    "from sklearn.manifold import TSNE\n",
    "import matplotlib as mpl\n",
    "import matplotlib.pyplot as plt\n",
    "import gensim \n",
    "import gensim.models as g\n",
    "\n",
    "import logging\n",
    "logging.basicConfig(\n",
    "    format='%(asctime)s : %(levelname)s : %(message)s', \n",
    "    level=logging.INFO)\n",
    "\n",
    "import matplotlib as mpl\n",
    "import matplotlib.pyplot as plt\n",
    "import matplotlib.font_manager as fm\n",
    "plt.rc('font', family='Malgun Gothic')\n",
    "import matplotlib.pyplot as plt\n",
    "import seaborn as sns\n",
    "\n",
    "from sklearn.impute import SimpleImputer\n",
    "from sklearn.ensemble import RandomForestClassifier\n",
    "from sklearn.model_selection import cross_val_score"
   ]
  },
  {
   "cell_type": "code",
   "execution_count": 2,
   "metadata": {},
   "outputs": [],
   "source": [
    "def hangul():\n",
    "    # 한글 폰트 사용을 위해서 세팅\n",
    "    from matplotlib import font_manager, rc\n",
    "    font_path = \"C:/Windows/Fonts/NGULIM.TTF\"\n",
    "    font = font_manager.FontProperties(fname=font_path).get_name()\n",
    "    rc('font', family=font)"
   ]
  },
  {
   "cell_type": "code",
   "execution_count": 3,
   "metadata": {},
   "outputs": [
    {
     "name": "stdout",
     "output_type": "stream",
     "text": [
      "c:\\머신러닝\\미니프로젝트\\데이터\n"
     ]
    }
   ],
   "source": [
    "os.chdir(\"c:/머신러닝/미니프로젝트/데이터\")\n",
    "print(os.getcwd())"
   ]
  },
  {
   "cell_type": "code",
   "execution_count": 4,
   "metadata": {},
   "outputs": [],
   "source": [
    "# Load variables #\n",
    "# 전처리 완료된 학습/테스트 데이터 바로 불러오기 #\n",
    "with open('sample2.pickle', 'rb') as pic:\n",
    "    train_df, test_df = pickle.load(pic)"
   ]
  },
  {
   "cell_type": "code",
   "execution_count": 5,
   "metadata": {},
   "outputs": [
    {
     "data": {
      "text/html": [
       "<div>\n",
       "<style scoped>\n",
       "    .dataframe tbody tr th:only-of-type {\n",
       "        vertical-align: middle;\n",
       "    }\n",
       "\n",
       "    .dataframe tbody tr th {\n",
       "        vertical-align: top;\n",
       "    }\n",
       "\n",
       "    .dataframe thead th {\n",
       "        text-align: right;\n",
       "    }\n",
       "</style>\n",
       "<table border=\"1\" class=\"dataframe\">\n",
       "  <thead>\n",
       "    <tr style=\"text-align: right;\">\n",
       "      <th></th>\n",
       "      <th>글번호</th>\n",
       "      <th>제목</th>\n",
       "      <th>작성일</th>\n",
       "      <th>분류</th>\n",
       "      <th>내용</th>\n",
       "      <th>부서의견</th>\n",
       "      <th>contents</th>\n",
       "      <th>tokens</th>\n",
       "      <th>all_tokens</th>\n",
       "    </tr>\n",
       "  </thead>\n",
       "  <tbody>\n",
       "    <tr>\n",
       "      <th>0</th>\n",
       "      <td>150587</td>\n",
       "      <td>횡단보도 사각지대 반사경</td>\n",
       "      <td>2012-10-30</td>\n",
       "      <td>교통</td>\n",
       "      <td>운전을 하다보면 횡단보도 주변에 적치물들 때문에 사각지대가 형성되어 사람이 보이지 ...</td>\n",
       "      <td>좋은 제안 주신 whatsmatter 님께 감사드리며, 제안을 검토한 결과를 다음과...</td>\n",
       "      <td>횡단보도 사각지대 반사경\\n운전을 하다보면 횡단보도 주변에 적치물들 때문에 사각지대...</td>\n",
       "      <td>[횡단보도, 사각지대, 반사경, 운전, 횡단보도, 적치, 물, 사각지대, 형성, 때...</td>\n",
       "      <td>[횡단보도, 사각지대, 반사경, 운전, 하, 보, 면, 횡단보도, 에, 적치, 물,...</td>\n",
       "    </tr>\n",
       "    <tr>\n",
       "      <th>1</th>\n",
       "      <td>150594</td>\n",
       "      <td>자전거 횡단보도 내려서 끌고가기</td>\n",
       "      <td>2012-10-30</td>\n",
       "      <td>교통</td>\n",
       "      <td>자전거 횡단보도와 자전거 표지를 보면 마치 자전거를 타고 건너도 되는 것처럼 보이고...</td>\n",
       "      <td>- 말씀하신 제안에는 충분히 공감합니다. 다만 교통안전표지(노면표시)는 도로교통법상...</td>\n",
       "      <td>자전거 횡단보도 내려서 끌고가기\\n자전거 횡단보도와 자전거 표지를 보면 마치 자전거...</td>\n",
       "      <td>[자전거, 횡단보도, 내리다, 끌다, 자전거, 횡단보도, 자전거, 표지, 마치, 자...</td>\n",
       "      <td>[자전거, 횡단보도, 내리, 어서, 끌, 고, 가, 기, 자전거, 횡단보도, 와, ...</td>\n",
       "    </tr>\n",
       "    <tr>\n",
       "      <th>2</th>\n",
       "      <td>150597</td>\n",
       "      <td>범죄예방을 위한 투도어현관보조문 설치</td>\n",
       "      <td>2012-10-30</td>\n",
       "      <td>주택</td>\n",
       "      <td>- 주민을 위하여 노력하시는 직원여러분께 감사드립니다 - 아파트및 다세대 등 홀로 ...</td>\n",
       "      <td>000님 안녕하세요? 000님께서 공동주택(아파트, 다세대, 연립)의 현관문에 1인...</td>\n",
       "      <td>범죄예방을 위한 투도어현관보조문 설치\\n- 주민을 위하여 노력하시는 직원여러분께 감...</td>\n",
       "      <td>[범죄, 예방, 위하다, 도어, 현관, 보조, 문, 설치, 주민, 위하다, 노력, ...</td>\n",
       "      <td>[범죄, 예방, 위하, ㄴ, 투, 도어, 현관, 보조, 문, 설치, 주민, 위하, ...</td>\n",
       "    </tr>\n",
       "    <tr>\n",
       "      <th>3</th>\n",
       "      <td>150659</td>\n",
       "      <td>각각 집마다 간이소화기를 만들어 배치하는 것을 의무로 하였으면 좋겠습니다.</td>\n",
       "      <td>2012-10-31</td>\n",
       "      <td>안전</td>\n",
       "      <td>어제 어린 남매 두명이 집에 전자렌지로 인해 불이나서중태에 빠졌다는 기사를 보았습니...</td>\n",
       "      <td>기시행중임 -소방시설설치유지 및 안전관리에 관한 법률 제8조제1항 및 서울특별시 주...</td>\n",
       "      <td>각각 집마다 간이소화기를 만들어 배치하는 것을 의무로 하였으면 좋겠습니다.\\n어제 ...</td>\n",
       "      <td>[]</td>\n",
       "      <td>[각각 집마다 간이소화기를 만들어 배치하는 것을 의무로 하였으면 좋겠습니다어제 어린...</td>\n",
       "    </tr>\n",
       "    <tr>\n",
       "      <th>4</th>\n",
       "      <td>150660</td>\n",
       "      <td>예식장내 부대시설인 음식점의 횡포를...</td>\n",
       "      <td>2012-10-31</td>\n",
       "      <td>경제</td>\n",
       "      <td>자녀의 결혼등으로 인한 예식이나 회갑 칠순등으로 인하여 웨딩홀이나 호텔등을 이용시에...</td>\n",
       "      <td>안녕하십니까? 우리시정에 큰 관심을 보내주신 데 대하여 깊은 감사드립니다. dski...</td>\n",
       "      <td>예식장내 부대시설인 음식점의 횡포를...\\n자녀의 결혼등으로 인한 예식이나 회갑 칠...</td>\n",
       "      <td>[예식장, 부대시설, 음식점, 횡포, 자녀, 결혼, 예식, 회갑, 웨딩, 홀, 호텔...</td>\n",
       "      <td>[예식장, 내, 부대시설, ㄴ, 음식점, 의, 횡포, 를, 자녀, 의, 결혼, 등,...</td>\n",
       "    </tr>\n",
       "    <tr>\n",
       "      <th>...</th>\n",
       "      <td>...</td>\n",
       "      <td>...</td>\n",
       "      <td>...</td>\n",
       "      <td>...</td>\n",
       "      <td>...</td>\n",
       "      <td>...</td>\n",
       "      <td>...</td>\n",
       "      <td>...</td>\n",
       "      <td>...</td>\n",
       "    </tr>\n",
       "    <tr>\n",
       "      <th>9837</th>\n",
       "      <td>179105</td>\n",
       "      <td>버스 노약자보호석을 내리는 문이 보이는곳, 내리는문에 가까운 곳에 지정</td>\n",
       "      <td>2017-08-31</td>\n",
       "      <td>교통</td>\n",
       "      <td>보통 버스안에 보면 노약자 보호석은 타는 쪽 좌석에 지정되어 있고 내리는 문에서는 ...</td>\n",
       "      <td>NaN</td>\n",
       "      <td>버스 노약자보호석을 내리는 문이 보이는곳, 내리는문에 가까운 곳에 지정\\n보통 버스...</td>\n",
       "      <td>[버스, 노약자, 보호, 석, 내리다, 문, 곳, 내리다, 문, 가깝다, 곳, 지정...</td>\n",
       "      <td>[버스, 노약자, 보호, 석, 내리, 는, 문, 보이, 는, 곳, 내리, 는, 문,...</td>\n",
       "    </tr>\n",
       "    <tr>\n",
       "      <th>9838</th>\n",
       "      <td>179106</td>\n",
       "      <td>지하철 임산부 지정석 관련</td>\n",
       "      <td>2017-08-31</td>\n",
       "      <td>교통</td>\n",
       "      <td>안녕하세요  수고하십니다.다름이 아니오라 지하철 임산부지정석 관련 건의 드립니다.현...</td>\n",
       "      <td>김혁님 안녕하십니까? 제안 참여에 감사드리며 “지하철 임산부 지정석”건에 대하여 답...</td>\n",
       "      <td>지하철 임산부 지정석 관련\\n안녕하세요  수고하십니다.다름이 아니오라 지하철 임산부...</td>\n",
       "      <td>[지하철, 임산부, 지정석, 다르다, 오라, 지하철, 임산부, 지정석, 건의, 드리...</td>\n",
       "      <td>[지하철, 임산부, 지정석, 하, 시, ㅂ니다, 다르, ㅁ, 아니, 오라, 지하철,...</td>\n",
       "    </tr>\n",
       "    <tr>\n",
       "      <th>9839</th>\n",
       "      <td>179107</td>\n",
       "      <td>채동선 작곡가의 서울 집을 보존해 주세요.</td>\n",
       "      <td>2017-08-31</td>\n",
       "      <td>문화</td>\n",
       "      <td>서울 성북동의 옛날짜장면집 뒷 골목에 한옥집들 사이로 고풍스러운 2층 적산가옥이 보...</td>\n",
       "      <td>NaN</td>\n",
       "      <td>채동선 작곡가의 서울 집을 보존해 주세요.\\n서울 성북동의 옛날짜장면집 뒷 골목에 ...</td>\n",
       "      <td>[동서, 작곡가, 집, 보존, 성북동, 옛날, 짜장면, 집, 뒤, 골목, 한옥, 집...</td>\n",
       "      <td>[채, 동서, ㄴ, 작곡가, 의, 집, 보존, 하, 아, 주, 시, 어요, 성북동,...</td>\n",
       "    </tr>\n",
       "    <tr>\n",
       "      <th>9840</th>\n",
       "      <td>179108</td>\n",
       "      <td>한강및 지천에서의 안전</td>\n",
       "      <td>2017-08-31</td>\n",
       "      <td>환경</td>\n",
       "      <td>시민의 안전과 편의를 위하여 불철주야 수고 하심에 감사드립니다.저는 주로 한강및 한...</td>\n",
       "      <td>NaN</td>\n",
       "      <td>한강및 지천에서의 안전\\n시민의 안전과 편의를 위하여 불철주야 수고 하심에 감사드립...</td>\n",
       "      <td>[한강, 및, 지천, 안전, 시민, 안전, 편의, 위하다, 불철주야, 감사드리다, ...</td>\n",
       "      <td>[한강, 및, 지천, 에서, 의, 안전, 시민, 의, 안전, 과, 편의, 를, 위하...</td>\n",
       "    </tr>\n",
       "    <tr>\n",
       "      <th>9841</th>\n",
       "      <td>179110</td>\n",
       "      <td>한강 시민공원 주차장에 태양광 패널로 지붕을 설치하면 좋겠습니다.</td>\n",
       "      <td>2017-08-31</td>\n",
       "      <td>환경</td>\n",
       "      <td>한강시민공원에서 주차장으로 쓰이는 면적은 매우 넓습니다.대부분이 야외 공간이므로 여...</td>\n",
       "      <td>NaN</td>\n",
       "      <td>한강 시민공원 주차장에 태양광 패널로 지붕을 설치하면 좋겠습니다.\\n한강시민공원에서...</td>\n",
       "      <td>[한강, 시민공원, 주차장, 태양광, 패널, 지붕, 설치, 한강시민공원, 주차장, ...</td>\n",
       "      <td>[한강, 시민공원, 주차장, 에, 태양광, 패널, 로, 지붕, 설치, 하, 면, 좋...</td>\n",
       "    </tr>\n",
       "  </tbody>\n",
       "</table>\n",
       "<p>9842 rows × 9 columns</p>\n",
       "</div>"
      ],
      "text/plain": [
       "         글번호                                         제목        작성일  분류  \\\n",
       "0     150587                              횡단보도 사각지대 반사경 2012-10-30  교통   \n",
       "1     150594                          자전거 횡단보도 내려서 끌고가기 2012-10-30  교통   \n",
       "2     150597                       범죄예방을 위한 투도어현관보조문 설치 2012-10-30  주택   \n",
       "3     150659  각각 집마다 간이소화기를 만들어 배치하는 것을 의무로 하였으면 좋겠습니다. 2012-10-31  안전   \n",
       "4     150660                     예식장내 부대시설인 음식점의 횡포를... 2012-10-31  경제   \n",
       "...      ...                                        ...        ...  ..   \n",
       "9837  179105    버스 노약자보호석을 내리는 문이 보이는곳, 내리는문에 가까운 곳에 지정 2017-08-31  교통   \n",
       "9838  179106                             지하철 임산부 지정석 관련 2017-08-31  교통   \n",
       "9839  179107                    채동선 작곡가의 서울 집을 보존해 주세요. 2017-08-31  문화   \n",
       "9840  179108                               한강및 지천에서의 안전 2017-08-31  환경   \n",
       "9841  179110       한강 시민공원 주차장에 태양광 패널로 지붕을 설치하면 좋겠습니다. 2017-08-31  환경   \n",
       "\n",
       "                                                     내용  \\\n",
       "0     운전을 하다보면 횡단보도 주변에 적치물들 때문에 사각지대가 형성되어 사람이 보이지 ...   \n",
       "1     자전거 횡단보도와 자전거 표지를 보면 마치 자전거를 타고 건너도 되는 것처럼 보이고...   \n",
       "2     - 주민을 위하여 노력하시는 직원여러분께 감사드립니다 - 아파트및 다세대 등 홀로 ...   \n",
       "3     어제 어린 남매 두명이 집에 전자렌지로 인해 불이나서중태에 빠졌다는 기사를 보았습니...   \n",
       "4     자녀의 결혼등으로 인한 예식이나 회갑 칠순등으로 인하여 웨딩홀이나 호텔등을 이용시에...   \n",
       "...                                                 ...   \n",
       "9837  보통 버스안에 보면 노약자 보호석은 타는 쪽 좌석에 지정되어 있고 내리는 문에서는 ...   \n",
       "9838  안녕하세요  수고하십니다.다름이 아니오라 지하철 임산부지정석 관련 건의 드립니다.현...   \n",
       "9839  서울 성북동의 옛날짜장면집 뒷 골목에 한옥집들 사이로 고풍스러운 2층 적산가옥이 보...   \n",
       "9840  시민의 안전과 편의를 위하여 불철주야 수고 하심에 감사드립니다.저는 주로 한강및 한...   \n",
       "9841  한강시민공원에서 주차장으로 쓰이는 면적은 매우 넓습니다.대부분이 야외 공간이므로 여...   \n",
       "\n",
       "                                                   부서의견  \\\n",
       "0     좋은 제안 주신 whatsmatter 님께 감사드리며, 제안을 검토한 결과를 다음과...   \n",
       "1     - 말씀하신 제안에는 충분히 공감합니다. 다만 교통안전표지(노면표시)는 도로교통법상...   \n",
       "2     000님 안녕하세요? 000님께서 공동주택(아파트, 다세대, 연립)의 현관문에 1인...   \n",
       "3     기시행중임 -소방시설설치유지 및 안전관리에 관한 법률 제8조제1항 및 서울특별시 주...   \n",
       "4     안녕하십니까? 우리시정에 큰 관심을 보내주신 데 대하여 깊은 감사드립니다. dski...   \n",
       "...                                                 ...   \n",
       "9837                                                NaN   \n",
       "9838  김혁님 안녕하십니까? 제안 참여에 감사드리며 “지하철 임산부 지정석”건에 대하여 답...   \n",
       "9839                                                NaN   \n",
       "9840                                                NaN   \n",
       "9841                                                NaN   \n",
       "\n",
       "                                               contents  \\\n",
       "0     횡단보도 사각지대 반사경\\n운전을 하다보면 횡단보도 주변에 적치물들 때문에 사각지대...   \n",
       "1     자전거 횡단보도 내려서 끌고가기\\n자전거 횡단보도와 자전거 표지를 보면 마치 자전거...   \n",
       "2     범죄예방을 위한 투도어현관보조문 설치\\n- 주민을 위하여 노력하시는 직원여러분께 감...   \n",
       "3     각각 집마다 간이소화기를 만들어 배치하는 것을 의무로 하였으면 좋겠습니다.\\n어제 ...   \n",
       "4     예식장내 부대시설인 음식점의 횡포를...\\n자녀의 결혼등으로 인한 예식이나 회갑 칠...   \n",
       "...                                                 ...   \n",
       "9837  버스 노약자보호석을 내리는 문이 보이는곳, 내리는문에 가까운 곳에 지정\\n보통 버스...   \n",
       "9838  지하철 임산부 지정석 관련\\n안녕하세요  수고하십니다.다름이 아니오라 지하철 임산부...   \n",
       "9839  채동선 작곡가의 서울 집을 보존해 주세요.\\n서울 성북동의 옛날짜장면집 뒷 골목에 ...   \n",
       "9840  한강및 지천에서의 안전\\n시민의 안전과 편의를 위하여 불철주야 수고 하심에 감사드립...   \n",
       "9841  한강 시민공원 주차장에 태양광 패널로 지붕을 설치하면 좋겠습니다.\\n한강시민공원에서...   \n",
       "\n",
       "                                                 tokens  \\\n",
       "0     [횡단보도, 사각지대, 반사경, 운전, 횡단보도, 적치, 물, 사각지대, 형성, 때...   \n",
       "1     [자전거, 횡단보도, 내리다, 끌다, 자전거, 횡단보도, 자전거, 표지, 마치, 자...   \n",
       "2     [범죄, 예방, 위하다, 도어, 현관, 보조, 문, 설치, 주민, 위하다, 노력, ...   \n",
       "3                                                    []   \n",
       "4     [예식장, 부대시설, 음식점, 횡포, 자녀, 결혼, 예식, 회갑, 웨딩, 홀, 호텔...   \n",
       "...                                                 ...   \n",
       "9837  [버스, 노약자, 보호, 석, 내리다, 문, 곳, 내리다, 문, 가깝다, 곳, 지정...   \n",
       "9838  [지하철, 임산부, 지정석, 다르다, 오라, 지하철, 임산부, 지정석, 건의, 드리...   \n",
       "9839  [동서, 작곡가, 집, 보존, 성북동, 옛날, 짜장면, 집, 뒤, 골목, 한옥, 집...   \n",
       "9840  [한강, 및, 지천, 안전, 시민, 안전, 편의, 위하다, 불철주야, 감사드리다, ...   \n",
       "9841  [한강, 시민공원, 주차장, 태양광, 패널, 지붕, 설치, 한강시민공원, 주차장, ...   \n",
       "\n",
       "                                             all_tokens  \n",
       "0     [횡단보도, 사각지대, 반사경, 운전, 하, 보, 면, 횡단보도, 에, 적치, 물,...  \n",
       "1     [자전거, 횡단보도, 내리, 어서, 끌, 고, 가, 기, 자전거, 횡단보도, 와, ...  \n",
       "2     [범죄, 예방, 위하, ㄴ, 투, 도어, 현관, 보조, 문, 설치, 주민, 위하, ...  \n",
       "3     [각각 집마다 간이소화기를 만들어 배치하는 것을 의무로 하였으면 좋겠습니다어제 어린...  \n",
       "4     [예식장, 내, 부대시설, ㄴ, 음식점, 의, 횡포, 를, 자녀, 의, 결혼, 등,...  \n",
       "...                                                 ...  \n",
       "9837  [버스, 노약자, 보호, 석, 내리, 는, 문, 보이, 는, 곳, 내리, 는, 문,...  \n",
       "9838  [지하철, 임산부, 지정석, 하, 시, ㅂ니다, 다르, ㅁ, 아니, 오라, 지하철,...  \n",
       "9839  [채, 동서, ㄴ, 작곡가, 의, 집, 보존, 하, 아, 주, 시, 어요, 성북동,...  \n",
       "9840  [한강, 및, 지천, 에서, 의, 안전, 시민, 의, 안전, 과, 편의, 를, 위하...  \n",
       "9841  [한강, 시민공원, 주차장, 에, 태양광, 패널, 로, 지붕, 설치, 하, 면, 좋...  \n",
       "\n",
       "[9842 rows x 9 columns]"
      ]
     },
     "execution_count": 5,
     "metadata": {},
     "output_type": "execute_result"
    }
   ],
   "source": [
    "train_df"
   ]
  },
  {
   "cell_type": "code",
   "execution_count": 6,
   "metadata": {},
   "outputs": [
    {
     "data": {
      "text/html": [
       "<div>\n",
       "<style scoped>\n",
       "    .dataframe tbody tr th:only-of-type {\n",
       "        vertical-align: middle;\n",
       "    }\n",
       "\n",
       "    .dataframe tbody tr th {\n",
       "        vertical-align: top;\n",
       "    }\n",
       "\n",
       "    .dataframe thead th {\n",
       "        text-align: right;\n",
       "    }\n",
       "</style>\n",
       "<table border=\"1\" class=\"dataframe\">\n",
       "  <thead>\n",
       "    <tr style=\"text-align: right;\">\n",
       "      <th></th>\n",
       "      <th>제안번호</th>\n",
       "      <th>제안제목</th>\n",
       "      <th>제안내용</th>\n",
       "      <th>제안등록일자</th>\n",
       "      <th>contents</th>\n",
       "      <th>tokens</th>\n",
       "      <th>all_tokens</th>\n",
       "    </tr>\n",
       "  </thead>\n",
       "  <tbody>\n",
       "    <tr>\n",
       "      <th>0</th>\n",
       "      <td>192222</td>\n",
       "      <td>북부 직업훈련원  본부 장애인 화장실  문고리 중앙으로</td>\n",
       "      <td>http://democracy.seoul.go.kr/front/freeSuggest...</td>\n",
       "      <td>2022-03-10 22:40:32</td>\n",
       "      <td>북부 직업훈련원  본부 장애인 화장실  문고리 중앙으로</td>\n",
       "      <td>[북부, 직업, 훈련원, 본부, 장애인, 화장실, 문고리, 중앙]</td>\n",
       "      <td>[북부, 직업, 훈련원, , 본부, 장애인, 화장실, , 문고리, 중앙, 으로]</td>\n",
       "    </tr>\n",
       "    <tr>\n",
       "      <th>1</th>\n",
       "      <td>192221</td>\n",
       "      <td>수도요금 고지서를 개선하여 시민들에게 납부편의(식별용이)를 제공해 주세요!</td>\n",
       "      <td>http://democracy.seoul.go.kr/front/freeSuggest...</td>\n",
       "      <td>2022-03-10 22:22:22</td>\n",
       "      <td>수도요금 고지서를 개선하여 시민들에게 납부편의(식별용이)를 제공해 주세요!</td>\n",
       "      <td>[수도, 요금, 고지서, 시민, 납부, 편의, 식별, 용이]</td>\n",
       "      <td>[수도, 요금, 고지서, 를, 하, 아, 시민, 들, 에게, 납부, 편의, 식별, ...</td>\n",
       "    </tr>\n",
       "    <tr>\n",
       "      <th>2</th>\n",
       "      <td>192220</td>\n",
       "      <td>환경미화원 안전과 인권을 위해 작업시간 변경을 요청합니다</td>\n",
       "      <td>http://democracy.seoul.go.kr/front/freeSuggest...</td>\n",
       "      <td>2022-03-10 19:10:58</td>\n",
       "      <td>환경미화원 안전과 인권을 위해 작업시간 변경을 요청합니다</td>\n",
       "      <td>[환경미화, 안전, 인권, 위하다, 작업, 변경]</td>\n",
       "      <td>[환경미화, 원, 안전, 과, 인권, 위하, 아, 작업, 변경, 하, ㅂ니다]</td>\n",
       "    </tr>\n",
       "    <tr>\n",
       "      <th>3</th>\n",
       "      <td>192219</td>\n",
       "      <td>비리가 없는 공무직 채용으로 바꿔주세요</td>\n",
       "      <td>http://democracy.seoul.go.kr/front/freeSuggest...</td>\n",
       "      <td>2022-03-10 18:20:48</td>\n",
       "      <td>비리가 없는 공무직 채용으로 바꿔주세요</td>\n",
       "      <td>[비리, 공무, 채용, 바꾸다]</td>\n",
       "      <td>[비리, 가, 없, 는, 공무, 직, 채용, 으로, 바꾸, 어, 주, 시, 어요]</td>\n",
       "    </tr>\n",
       "    <tr>\n",
       "      <th>4</th>\n",
       "      <td>192218</td>\n",
       "      <td>희년제도부활 희년자유경제특구개발130. 5개년</td>\n",
       "      <td>http://democracy.seoul.go.kr/front/freeSuggest...</td>\n",
       "      <td>2022-03-10 07:29:25</td>\n",
       "      <td>희년제도부활 희년자유경제특구개발130. 5개년</td>\n",
       "      <td>[희년, 부활, 희년, 자유, 경제특구, 개발]</td>\n",
       "      <td>[희년, 제, 도, 부활, 희년, 자유, 경제특구, 개발, 130, 5, 개년]</td>\n",
       "    </tr>\n",
       "    <tr>\n",
       "      <th>...</th>\n",
       "      <td>...</td>\n",
       "      <td>...</td>\n",
       "      <td>...</td>\n",
       "      <td>...</td>\n",
       "      <td>...</td>\n",
       "      <td>...</td>\n",
       "      <td>...</td>\n",
       "    </tr>\n",
       "    <tr>\n",
       "      <th>4883</th>\n",
       "      <td>186616</td>\n",
       "      <td>코로나로 인해 사회멈춤이 해결방안이 맞나요</td>\n",
       "      <td>http://democracy.seoul.go.kr/front/freeSuggest...</td>\n",
       "      <td>2020-03-11 10:14:32</td>\n",
       "      <td>코로나로 인해 사회멈춤이 해결방안이 맞나요</td>\n",
       "      <td>[코로나, 사회, 멈추다, 해결방안, 맞다]</td>\n",
       "      <td>[코로나, 로, 인하, 아, 사회, 멈추, ㅁ, 해결방안, 맞, 나요]</td>\n",
       "    </tr>\n",
       "    <tr>\n",
       "      <th>4884</th>\n",
       "      <td>186615</td>\n",
       "      <td>코로나 바이러스로 교회예배를 금지해주세요</td>\n",
       "      <td>http://democracy.seoul.go.kr/front/freeSuggest...</td>\n",
       "      <td>2020-03-11 10:00:19</td>\n",
       "      <td>코로나 바이러스로 교회예배를 금지해주세요</td>\n",
       "      <td>[코로나, 바이러스, 교회, 예배, 금지]</td>\n",
       "      <td>[코로나, 바이러스, 로, 교회, 예배, 를, 금지, 하, 아, 주, 시, 어요]</td>\n",
       "    </tr>\n",
       "    <tr>\n",
       "      <th>4885</th>\n",
       "      <td>186614</td>\n",
       "      <td>마스크 5부제 수량 증가 요청</td>\n",
       "      <td>http://democracy.seoul.go.kr/front/freeSuggest...</td>\n",
       "      <td>2020-03-11 09:58:25</td>\n",
       "      <td>마스크 5부제 수량 증가 요청</td>\n",
       "      <td>[마스크, 수량, 증가]</td>\n",
       "      <td>[마스크, 5, 부제, 수량, 증가]</td>\n",
       "    </tr>\n",
       "    <tr>\n",
       "      <th>4886</th>\n",
       "      <td>186613</td>\n",
       "      <td>콜센타인근학원휴강권고요청</td>\n",
       "      <td>http://democracy.seoul.go.kr/front/freeSuggest...</td>\n",
       "      <td>2020-03-11 09:56:02</td>\n",
       "      <td>콜센타인근학원휴강권고요청</td>\n",
       "      <td>[콜, 센타, 인근, 학원, 휴강, 권고]</td>\n",
       "      <td>[콜, 센타, 인근, 학원, 휴강, 권고]</td>\n",
       "    </tr>\n",
       "    <tr>\n",
       "      <th>4887</th>\n",
       "      <td>186612</td>\n",
       "      <td>서울 전국 콜센터 관련하여</td>\n",
       "      <td>http://democracy.seoul.go.kr/front/freeSuggest...</td>\n",
       "      <td>2020-03-11 09:46:58</td>\n",
       "      <td>서울 전국 콜센터 관련하여</td>\n",
       "      <td>[전국, 콜센터]</td>\n",
       "      <td>[전국, 콜센터, 하, 아]</td>\n",
       "    </tr>\n",
       "  </tbody>\n",
       "</table>\n",
       "<p>4814 rows × 7 columns</p>\n",
       "</div>"
      ],
      "text/plain": [
       "        제안번호                                       제안제목  \\\n",
       "0     192222             북부 직업훈련원  본부 장애인 화장실  문고리 중앙으로   \n",
       "1     192221  수도요금 고지서를 개선하여 시민들에게 납부편의(식별용이)를 제공해 주세요!   \n",
       "2     192220            환경미화원 안전과 인권을 위해 작업시간 변경을 요청합니다   \n",
       "3     192219                      비리가 없는 공무직 채용으로 바꿔주세요   \n",
       "4     192218                  희년제도부활 희년자유경제특구개발130. 5개년   \n",
       "...      ...                                        ...   \n",
       "4883  186616                    코로나로 인해 사회멈춤이 해결방안이 맞나요   \n",
       "4884  186615                     코로나 바이러스로 교회예배를 금지해주세요   \n",
       "4885  186614                           마스크 5부제 수량 증가 요청   \n",
       "4886  186613                              콜센타인근학원휴강권고요청   \n",
       "4887  186612                             서울 전국 콜센터 관련하여   \n",
       "\n",
       "                                                   제안내용              제안등록일자  \\\n",
       "0     http://democracy.seoul.go.kr/front/freeSuggest... 2022-03-10 22:40:32   \n",
       "1     http://democracy.seoul.go.kr/front/freeSuggest... 2022-03-10 22:22:22   \n",
       "2     http://democracy.seoul.go.kr/front/freeSuggest... 2022-03-10 19:10:58   \n",
       "3     http://democracy.seoul.go.kr/front/freeSuggest... 2022-03-10 18:20:48   \n",
       "4     http://democracy.seoul.go.kr/front/freeSuggest... 2022-03-10 07:29:25   \n",
       "...                                                 ...                 ...   \n",
       "4883  http://democracy.seoul.go.kr/front/freeSuggest... 2020-03-11 10:14:32   \n",
       "4884  http://democracy.seoul.go.kr/front/freeSuggest... 2020-03-11 10:00:19   \n",
       "4885  http://democracy.seoul.go.kr/front/freeSuggest... 2020-03-11 09:58:25   \n",
       "4886  http://democracy.seoul.go.kr/front/freeSuggest... 2020-03-11 09:56:02   \n",
       "4887  http://democracy.seoul.go.kr/front/freeSuggest... 2020-03-11 09:46:58   \n",
       "\n",
       "                                       contents  \\\n",
       "0                북부 직업훈련원  본부 장애인 화장실  문고리 중앙으로   \n",
       "1     수도요금 고지서를 개선하여 시민들에게 납부편의(식별용이)를 제공해 주세요!   \n",
       "2               환경미화원 안전과 인권을 위해 작업시간 변경을 요청합니다   \n",
       "3                         비리가 없는 공무직 채용으로 바꿔주세요   \n",
       "4                     희년제도부활 희년자유경제특구개발130. 5개년   \n",
       "...                                         ...   \n",
       "4883                    코로나로 인해 사회멈춤이 해결방안이 맞나요   \n",
       "4884                     코로나 바이러스로 교회예배를 금지해주세요   \n",
       "4885                           마스크 5부제 수량 증가 요청   \n",
       "4886                              콜센타인근학원휴강권고요청   \n",
       "4887                             서울 전국 콜센터 관련하여   \n",
       "\n",
       "                                    tokens  \\\n",
       "0     [북부, 직업, 훈련원, 본부, 장애인, 화장실, 문고리, 중앙]   \n",
       "1        [수도, 요금, 고지서, 시민, 납부, 편의, 식별, 용이]   \n",
       "2              [환경미화, 안전, 인권, 위하다, 작업, 변경]   \n",
       "3                        [비리, 공무, 채용, 바꾸다]   \n",
       "4               [희년, 부활, 희년, 자유, 경제특구, 개발]   \n",
       "...                                    ...   \n",
       "4883              [코로나, 사회, 멈추다, 해결방안, 맞다]   \n",
       "4884               [코로나, 바이러스, 교회, 예배, 금지]   \n",
       "4885                         [마스크, 수량, 증가]   \n",
       "4886               [콜, 센타, 인근, 학원, 휴강, 권고]   \n",
       "4887                             [전국, 콜센터]   \n",
       "\n",
       "                                             all_tokens  \n",
       "0          [북부, 직업, 훈련원, , 본부, 장애인, 화장실, , 문고리, 중앙, 으로]  \n",
       "1     [수도, 요금, 고지서, 를, 하, 아, 시민, 들, 에게, 납부, 편의, 식별, ...  \n",
       "2           [환경미화, 원, 안전, 과, 인권, 위하, 아, 작업, 변경, 하, ㅂ니다]  \n",
       "3         [비리, 가, 없, 는, 공무, 직, 채용, 으로, 바꾸, 어, 주, 시, 어요]  \n",
       "4          [희년, 제, 도, 부활, 희년, 자유, 경제특구, 개발, 130, 5, 개년]  \n",
       "...                                                 ...  \n",
       "4883            [코로나, 로, 인하, 아, 사회, 멈추, ㅁ, 해결방안, 맞, 나요]  \n",
       "4884      [코로나, 바이러스, 로, 교회, 예배, 를, 금지, 하, 아, 주, 시, 어요]  \n",
       "4885                               [마스크, 5, 부제, 수량, 증가]  \n",
       "4886                            [콜, 센타, 인근, 학원, 휴강, 권고]  \n",
       "4887                                    [전국, 콜센터, 하, 아]  \n",
       "\n",
       "[4814 rows x 7 columns]"
      ]
     },
     "execution_count": 6,
     "metadata": {},
     "output_type": "execute_result"
    }
   ],
   "source": [
    "test_df"
   ]
  },
  {
   "cell_type": "markdown",
   "metadata": {},
   "source": [
    "# 민원 건당 단어 수 #\n",
    "## Word2vec 모델 파라메터 값 설정에 참고될 통계량 ##"
   ]
  },
  {
   "cell_type": "markdown",
   "metadata": {},
   "source": [
    "### 학습 데이터 ###"
   ]
  },
  {
   "cell_type": "code",
   "execution_count": 7,
   "metadata": {},
   "outputs": [
    {
     "data": {
      "text/plain": [
       "count    9842.000000\n",
       "mean      103.691933\n",
       "std       104.520968\n",
       "min         0.000000\n",
       "25%        47.000000\n",
       "50%        77.000000\n",
       "75%       127.000000\n",
       "max      3364.000000\n",
       "Name: tokens, dtype: float64"
      ]
     },
     "execution_count": 7,
     "metadata": {},
     "output_type": "execute_result"
    }
   ],
   "source": [
    "train_df['tokens'].str.len().describe()"
   ]
  },
  {
   "cell_type": "markdown",
   "metadata": {},
   "source": [
    "### 테스트 데이터 ###"
   ]
  },
  {
   "cell_type": "code",
   "execution_count": 8,
   "metadata": {},
   "outputs": [
    {
     "data": {
      "text/plain": [
       "count    4814.000000\n",
       "mean        5.233486\n",
       "std         2.978194\n",
       "min         0.000000\n",
       "25%         3.000000\n",
       "50%         5.000000\n",
       "75%         7.000000\n",
       "max        85.000000\n",
       "Name: tokens, dtype: float64"
      ]
     },
     "execution_count": 8,
     "metadata": {},
     "output_type": "execute_result"
    }
   ],
   "source": [
    "test_df['tokens'].str.len().describe()"
   ]
  },
  {
   "cell_type": "markdown",
   "metadata": {},
   "source": [
    "# 01 Word2vec 모델링 #\n",
    "## 코드 참고 : https://programmers.co.kr/learn/courses/21"
   ]
  },
  {
   "cell_type": "markdown",
   "metadata": {},
   "source": [
    "## Word2vec 파라미터 값 지정 ##"
   ]
  },
  {
   "cell_type": "code",
   "execution_count": 10,
   "metadata": {},
   "outputs": [],
   "source": [
    "train = pd.read_csv('train.csv',sep='\\t')\n",
    "test = pd.read_csv('민주주의 서울 자유제안 정보_20_22.csv',encoding='cp949')"
   ]
  },
  {
   "cell_type": "code",
   "execution_count": 11,
   "metadata": {},
   "outputs": [],
   "source": [
    "train_documents = train_df['tokens'].to_list() # 학습데이터 토크나이징 완료한 문서\n",
    "test_documents = test_df['tokens'].to_list() # 학습데이터 토크나이징 완료한 문서"
   ]
  },
  {
   "cell_type": "code",
   "execution_count": 18,
   "metadata": {},
   "outputs": [],
   "source": [
    "num_features = 500 # 문자 벡터 차원 수\n",
    "min_word_count = 10 # 최소 문자 수 (등장빈도 10회 이하인 단어는 취급 X)\n",
    "num_workers = 6 # 병렬 처리 스레드 수\n",
    "context = 20 # 문자열 창 크기\n",
    "downsampling = 1e-3 # 문자 빈도수 Downsample"
   ]
  },
  {
   "cell_type": "markdown",
   "metadata": {},
   "source": [
    "## 모델 학습 ##"
   ]
  },
  {
   "cell_type": "code",
   "execution_count": 19,
   "metadata": {},
   "outputs": [
    {
     "name": "stderr",
     "output_type": "stream",
     "text": [
      "2022-03-11 09:10:19,774 : INFO : collecting all words and their counts\n",
      "2022-03-11 09:10:19,774 : INFO : PROGRESS: at sentence #0, processed 0 words, keeping 0 word types\n",
      "2022-03-11 09:10:19,991 : INFO : collected 28790 word types from a corpus of 1020536 raw words and 9842 sentences\n",
      "2022-03-11 09:10:19,991 : INFO : Creating a fresh vocabulary\n",
      "2022-03-11 09:10:20,072 : INFO : Word2Vec lifecycle event {'msg': 'effective_min_count=10 retains 9033 unique words (31.375477596387636%% of original 28790, drops 19757)', 'datetime': '2022-03-11T09:10:20.072283', 'gensim': '4.1.2', 'python': '3.9.7 (default, Sep 16 2021, 16:59:28) [MSC v.1916 64 bit (AMD64)]', 'platform': 'Windows-10-10.0.22000-SP0', 'event': 'prepare_vocab'}\n",
      "2022-03-11 09:10:20,072 : INFO : Word2Vec lifecycle event {'msg': 'effective_min_count=10 leaves 965969 word corpus (94.65310385914853%% of original 1020536, drops 54567)', 'datetime': '2022-03-11T09:10:20.072283', 'gensim': '4.1.2', 'python': '3.9.7 (default, Sep 16 2021, 16:59:28) [MSC v.1916 64 bit (AMD64)]', 'platform': 'Windows-10-10.0.22000-SP0', 'event': 'prepare_vocab'}\n",
      "2022-03-11 09:10:20,173 : INFO : deleting the raw counts dictionary of 28790 items\n",
      "2022-03-11 09:10:20,173 : INFO : sample=0.001 downsamples 25 most-common words\n",
      "2022-03-11 09:10:20,173 : INFO : Word2Vec lifecycle event {'msg': 'downsampling leaves estimated 940521.4456600236 word corpus (97.4%% of prior 965969)', 'datetime': '2022-03-11T09:10:20.173585', 'gensim': '4.1.2', 'python': '3.9.7 (default, Sep 16 2021, 16:59:28) [MSC v.1916 64 bit (AMD64)]', 'platform': 'Windows-10-10.0.22000-SP0', 'event': 'prepare_vocab'}\n",
      "2022-03-11 09:10:20,305 : INFO : estimated required memory for 9033 words and 500 dimensions: 40648500 bytes\n",
      "2022-03-11 09:10:20,306 : INFO : resetting layer weights\n",
      "2022-03-11 09:10:20,326 : INFO : Word2Vec lifecycle event {'update': False, 'trim_rule': 'None', 'datetime': '2022-03-11T09:10:20.326889', 'gensim': '4.1.2', 'python': '3.9.7 (default, Sep 16 2021, 16:59:28) [MSC v.1916 64 bit (AMD64)]', 'platform': 'Windows-10-10.0.22000-SP0', 'event': 'build_vocab'}\n",
      "2022-03-11 09:10:20,326 : INFO : Word2Vec lifecycle event {'msg': 'training model with 6 workers on 9033 vocabulary and 500 features, using sg=0 hs=0 sample=0.001 negative=5 window=20 shrink_windows=True', 'datetime': '2022-03-11T09:10:20.326889', 'gensim': '4.1.2', 'python': '3.9.7 (default, Sep 16 2021, 16:59:28) [MSC v.1916 64 bit (AMD64)]', 'platform': 'Windows-10-10.0.22000-SP0', 'event': 'train'}\n",
      "2022-03-11 09:10:21,333 : INFO : EPOCH 1 - PROGRESS: at 70.17% examples, 628472 words/s, in_qsize 11, out_qsize 0\n",
      "2022-03-11 09:10:21,672 : INFO : worker thread finished; awaiting finish of 5 more threads\n",
      "2022-03-11 09:10:21,681 : INFO : worker thread finished; awaiting finish of 4 more threads\n",
      "2022-03-11 09:10:21,689 : INFO : worker thread finished; awaiting finish of 3 more threads\n",
      "2022-03-11 09:10:21,697 : INFO : worker thread finished; awaiting finish of 2 more threads\n",
      "2022-03-11 09:10:21,706 : INFO : worker thread finished; awaiting finish of 1 more threads\n",
      "2022-03-11 09:10:21,722 : INFO : worker thread finished; awaiting finish of 0 more threads\n",
      "2022-03-11 09:10:21,722 : INFO : EPOCH - 1 : training on 1020536 raw words (940538 effective words) took 1.4s, 676994 effective words/s\n",
      "2022-03-11 09:10:22,734 : INFO : EPOCH 2 - PROGRESS: at 83.34% examples, 760256 words/s, in_qsize 12, out_qsize 0\n",
      "2022-03-11 09:10:22,901 : INFO : worker thread finished; awaiting finish of 5 more threads\n",
      "2022-03-11 09:10:22,909 : INFO : worker thread finished; awaiting finish of 4 more threads\n",
      "2022-03-11 09:10:22,917 : INFO : worker thread finished; awaiting finish of 3 more threads\n",
      "2022-03-11 09:10:22,917 : INFO : worker thread finished; awaiting finish of 2 more threads\n",
      "2022-03-11 09:10:22,933 : INFO : worker thread finished; awaiting finish of 1 more threads\n",
      "2022-03-11 09:10:22,933 : INFO : worker thread finished; awaiting finish of 0 more threads\n",
      "2022-03-11 09:10:22,933 : INFO : EPOCH - 2 : training on 1020536 raw words (940708 effective words) took 1.2s, 776052 effective words/s\n",
      "2022-03-11 09:10:23,959 : INFO : EPOCH 3 - PROGRESS: at 81.73% examples, 746571 words/s, in_qsize 11, out_qsize 0\n",
      "2022-03-11 09:10:24,158 : INFO : worker thread finished; awaiting finish of 5 more threads\n",
      "2022-03-11 09:10:24,166 : INFO : worker thread finished; awaiting finish of 4 more threads\n",
      "2022-03-11 09:10:24,166 : INFO : worker thread finished; awaiting finish of 3 more threads\n",
      "2022-03-11 09:10:24,182 : INFO : worker thread finished; awaiting finish of 2 more threads\n",
      "2022-03-11 09:10:24,191 : INFO : worker thread finished; awaiting finish of 1 more threads\n",
      "2022-03-11 09:10:24,191 : INFO : worker thread finished; awaiting finish of 0 more threads\n",
      "2022-03-11 09:10:24,191 : INFO : EPOCH - 3 : training on 1020536 raw words (940307 effective words) took 1.2s, 758958 effective words/s\n",
      "2022-03-11 09:10:25,205 : INFO : EPOCH 4 - PROGRESS: at 86.85% examples, 798521 words/s, in_qsize 11, out_qsize 0\n",
      "2022-03-11 09:10:25,321 : INFO : worker thread finished; awaiting finish of 5 more threads\n",
      "2022-03-11 09:10:25,332 : INFO : worker thread finished; awaiting finish of 4 more threads\n",
      "2022-03-11 09:10:25,332 : INFO : worker thread finished; awaiting finish of 3 more threads\n",
      "2022-03-11 09:10:25,349 : INFO : worker thread finished; awaiting finish of 2 more threads\n",
      "2022-03-11 09:10:25,357 : INFO : worker thread finished; awaiting finish of 1 more threads\n",
      "2022-03-11 09:10:25,365 : INFO : worker thread finished; awaiting finish of 0 more threads\n",
      "2022-03-11 09:10:25,365 : INFO : EPOCH - 4 : training on 1020536 raw words (940322 effective words) took 1.2s, 806974 effective words/s\n",
      "2022-03-11 09:10:26,379 : INFO : EPOCH 5 - PROGRESS: at 88.15% examples, 805404 words/s, in_qsize 12, out_qsize 0\n",
      "2022-03-11 09:10:26,488 : INFO : worker thread finished; awaiting finish of 5 more threads\n",
      "2022-03-11 09:10:26,489 : INFO : worker thread finished; awaiting finish of 4 more threads\n",
      "2022-03-11 09:10:26,497 : INFO : worker thread finished; awaiting finish of 3 more threads\n",
      "2022-03-11 09:10:26,513 : INFO : worker thread finished; awaiting finish of 2 more threads\n",
      "2022-03-11 09:10:26,521 : INFO : worker thread finished; awaiting finish of 1 more threads\n",
      "2022-03-11 09:10:26,521 : INFO : worker thread finished; awaiting finish of 0 more threads\n",
      "2022-03-11 09:10:26,530 : INFO : EPOCH - 5 : training on 1020536 raw words (940789 effective words) took 1.2s, 811943 effective words/s\n",
      "2022-03-11 09:10:26,530 : INFO : Word2Vec lifecycle event {'msg': 'training on 5102680 raw words (4702664 effective words) took 6.2s, 758431 effective words/s', 'datetime': '2022-03-11T09:10:26.530087', 'gensim': '4.1.2', 'python': '3.9.7 (default, Sep 16 2021, 16:59:28) [MSC v.1916 64 bit (AMD64)]', 'platform': 'Windows-10-10.0.22000-SP0', 'event': 'train'}\n",
      "2022-03-11 09:10:26,530 : INFO : Word2Vec lifecycle event {'params': 'Word2Vec(vocab=9033, vector_size=500, alpha=0.025)', 'datetime': '2022-03-11T09:10:26.530087', 'gensim': '4.1.2', 'python': '3.9.7 (default, Sep 16 2021, 16:59:28) [MSC v.1916 64 bit (AMD64)]', 'platform': 'Windows-10-10.0.22000-SP0', 'event': 'created'}\n"
     ]
    }
   ],
   "source": [
    "# 문장을 이용하여 단어와 벡터를 생성한다.\n",
    "model = word2vec.Word2Vec(train_documents,\n",
    "                          workers=num_workers, \n",
    "                          vector_size=num_features, \n",
    "                          min_count=min_word_count,\n",
    "                          window=context,\n",
    "                          sample=downsampling)"
   ]
  },
  {
   "cell_type": "code",
   "execution_count": 20,
   "metadata": {},
   "outputs": [
    {
     "data": {
      "text/plain": [
       "<gensim.models.word2vec.Word2Vec at 0x1d1aea32100>"
      ]
     },
     "execution_count": 20,
     "metadata": {},
     "output_type": "execute_result"
    }
   ],
   "source": [
    "# 모델 확인\n",
    "model"
   ]
  },
  {
   "cell_type": "markdown",
   "metadata": {},
   "source": [
    "### 특정 단어와 가장 유사한 단어 추출 ###"
   ]
  },
  {
   "cell_type": "code",
   "execution_count": 25,
   "metadata": {},
   "outputs": [
    {
     "data": {
      "text/plain": [
       "[('자전', 0.8271397352218628),\n",
       " ('따릉이', 0.7933324575424194),\n",
       " ('공공자전거', 0.7899010181427002),\n",
       " ('도난', 0.786166250705719),\n",
       " ('자전거도로', 0.7291296720504761),\n",
       " ('주입기', 0.7019433975219727),\n",
       " ('거치', 0.684582531452179),\n",
       " ('대여소', 0.6806490421295166),\n",
       " ('펑크', 0.6782065033912659),\n",
       " ('보관대', 0.6568393707275391)]"
      ]
     },
     "execution_count": 25,
     "metadata": {},
     "output_type": "execute_result"
    }
   ],
   "source": [
    "model.wv.most_similar('자전거')"
   ]
  },
  {
   "cell_type": "code",
   "execution_count": 64,
   "metadata": {},
   "outputs": [
    {
     "data": {
      "text/plain": [
       "[('면역력', 0.9048550128936768),\n",
       " ('감염', 0.9042322635650635),\n",
       " ('질병', 0.8655791878700256),\n",
       " ('감기', 0.8641196489334106),\n",
       " ('호흡기', 0.8595758676528931),\n",
       " ('전염', 0.8592144846916199),\n",
       " ('약물', 0.8470553755760193),\n",
       " ('증상', 0.8232318758964539),\n",
       " ('증후군', 0.809160590171814),\n",
       " ('질환', 0.8080140352249146)]"
      ]
     },
     "execution_count": 64,
     "metadata": {},
     "output_type": "execute_result"
    }
   ],
   "source": [
    "model.wv.most_similar('바이러스')"
   ]
  },
  {
   "cell_type": "code",
   "execution_count": 67,
   "metadata": {},
   "outputs": [
    {
     "data": {
      "text/plain": [
       "[('트럭', 0.780640721321106),\n",
       " ('밀리다', 0.7682144641876221),\n",
       " ('승합차', 0.7646933794021606),\n",
       " ('훨', 0.7615028023719788),\n",
       " ('차량', 0.7526183128356934),\n",
       " ('경적', 0.7380327582359314),\n",
       " ('뒤', 0.7241901159286499),\n",
       " ('몰다', 0.7130261659622192),\n",
       " ('앞차', 0.7105354070663452),\n",
       " ('끼어들다', 0.7093767523765564)]"
      ]
     },
     "execution_count": 67,
     "metadata": {},
     "output_type": "execute_result"
    }
   ],
   "source": [
    "model.wv.most_similar('차')"
   ]
  },
  {
   "cell_type": "markdown",
   "metadata": {},
   "source": [
    "### 입력한 복수의 단어 中 유사하지 않은 단어 추출 ###"
   ]
  },
  {
   "cell_type": "code",
   "execution_count": 26,
   "metadata": {},
   "outputs": [
    {
     "data": {
      "text/plain": [
       "'자전거'"
      ]
     },
     "execution_count": 26,
     "metadata": {},
     "output_type": "execute_result"
    }
   ],
   "source": [
    "model.wv.doesnt_match('자전거 버스 택시'.split())"
   ]
  },
  {
   "cell_type": "code",
   "execution_count": 27,
   "metadata": {},
   "outputs": [
    {
     "data": {
      "text/plain": [
       "'시민'"
      ]
     },
     "execution_count": 27,
     "metadata": {},
     "output_type": "execute_result"
    }
   ],
   "source": [
    "model.wv.doesnt_match('임산부 노인 시민'.split())"
   ]
  },
  {
   "cell_type": "code",
   "execution_count": 42,
   "metadata": {},
   "outputs": [
    {
     "name": "stderr",
     "output_type": "stream",
     "text": [
      "2022-03-11 09:15:46,903 : WARNING : vectors for words {'코로나'} are not present in the model, ignoring these words\n"
     ]
    },
    {
     "data": {
      "text/plain": [
       "'감기'"
      ]
     },
     "execution_count": 42,
     "metadata": {},
     "output_type": "execute_result"
    }
   ],
   "source": [
    "model.wv.doesnt_match('코로나 감기 바이러스'.split())"
   ]
  },
  {
   "cell_type": "markdown",
   "metadata": {},
   "source": [
    "### 학습 완료 후 필요없는 메모리 unload ###"
   ]
  },
  {
   "cell_type": "code",
   "execution_count": 28,
   "metadata": {},
   "outputs": [
    {
     "name": "stderr",
     "output_type": "stream",
     "text": [
      "C:\\Users\\dkq50\\AppData\\Local\\Temp/ipykernel_21756/1992334471.py:1: DeprecationWarning: Call to deprecated `init_sims` (Gensim 4.0.0 implemented internal optimizations that make calls to init_sims() unnecessary. init_sims() is now obsoleted and will be completely removed in future versions. See https://github.com/RaRe-Technologies/gensim/wiki/Migrating-from-Gensim-3.x-to-4).\n",
      "  model.init_sims(replace=True)\n",
      "2022-03-11 09:11:07,125 : WARNING : destructive init_sims(replace=True) deprecated & no longer required for space-efficiency\n"
     ]
    }
   ],
   "source": [
    "model.init_sims(replace=True)"
   ]
  },
  {
   "cell_type": "markdown",
   "metadata": {},
   "source": [
    "### 모델 저장 ###"
   ]
  },
  {
   "cell_type": "code",
   "execution_count": 29,
   "metadata": {},
   "outputs": [
    {
     "name": "stderr",
     "output_type": "stream",
     "text": [
      "2022-03-11 09:11:20,739 : INFO : Word2Vec lifecycle event {'fname_or_handle': './500features_40minwords_20context2', 'separately': 'None', 'sep_limit': 10485760, 'ignore': frozenset(), 'datetime': '2022-03-11T09:11:20.739665', 'gensim': '4.1.2', 'python': '3.9.7 (default, Sep 16 2021, 16:59:28) [MSC v.1916 64 bit (AMD64)]', 'platform': 'Windows-10-10.0.22000-SP0', 'event': 'saving'}\n",
      "2022-03-11 09:11:20,747 : INFO : not storing attribute cum_table\n",
      "2022-03-11 09:11:20,779 : INFO : saved ./500features_40minwords_20context2\n"
     ]
    }
   ],
   "source": [
    "model_name = '500features_40minwords_20context2' #모델 이름 지정\n",
    "model.save(f'./{model_name}')"
   ]
  },
  {
   "cell_type": "markdown",
   "metadata": {},
   "source": [
    "### 모델 로드"
   ]
  },
  {
   "cell_type": "code",
   "execution_count": 30,
   "metadata": {},
   "outputs": [
    {
     "name": "stderr",
     "output_type": "stream",
     "text": [
      "2022-03-11 09:11:25,961 : INFO : loading Word2Vec object from ./500features_40minwords_20context2\n",
      "2022-03-11 09:11:25,985 : INFO : loading wv recursively from ./500features_40minwords_20context2.wv.* with mmap=None\n",
      "2022-03-11 09:11:25,985 : INFO : setting ignored attribute cum_table to None\n",
      "2022-03-11 09:11:26,063 : INFO : Word2Vec lifecycle event {'fname': './500features_40minwords_20context2', 'datetime': '2022-03-11T09:11:26.063635', 'gensim': '4.1.2', 'python': '3.9.7 (default, Sep 16 2021, 16:59:28) [MSC v.1916 64 bit (AMD64)]', 'platform': 'Windows-10-10.0.22000-SP0', 'event': 'loaded'}\n"
     ]
    }
   ],
   "source": [
    "# 추후 필요할 때 활용\n",
    "model = word2vec.Word2Vec.load('./500features_40minwords_20context2')"
   ]
  },
  {
   "cell_type": "markdown",
   "metadata": {},
   "source": [
    "### Word2Vec 모델"
   ]
  },
  {
   "cell_type": "code",
   "execution_count": 31,
   "metadata": {},
   "outputs": [],
   "source": [
    "from gensim.models import Word2Vec\n",
    "\n",
    "# 단어벡터를 구한다.\n",
    "word_vectors = model.wv\n",
    "\n",
    "vocabs= word_vectors.key_to_index.keys()\n",
    "word_vectors_list = [word_vectors[v] for v in vocabs]"
   ]
  },
  {
   "cell_type": "markdown",
   "metadata": {},
   "source": [
    "### 임베딩 결과 시각화\n",
    "#### 1) PCA\n",
    "300차원 벡터를 시각화하기 위해서는 2차원 혹은 3차원으로 벡터를 축소하는 과정이 필요합니다. 이런 방식을 '차원 축소'라고 부르고, PCA는 대표적인 차원 축소 방식 중 하나 입니다. "
   ]
  },
  {
   "cell_type": "code",
   "execution_count": 32,
   "metadata": {},
   "outputs": [],
   "source": [
    "from sklearn.decomposition import PCA\n",
    "pca = PCA(n_components=2)\n",
    "xys = pca.fit_transform(word_vectors_list[:100])\n",
    "xs = xys[:,0]\n",
    "ys = xys[:,1]"
   ]
  },
  {
   "cell_type": "markdown",
   "metadata": {},
   "source": [
    "사이킷런의 PCA 모듈을 이용했다. n_components는 input 데이터를 몇 차원으로 축소시킬 것인지를 의미합니다. 2차원 벡터의 x 값은 xs에, y 값은 ys에 저장했습니다."
   ]
  },
  {
   "cell_type": "code",
   "execution_count": 33,
   "metadata": {},
   "outputs": [],
   "source": [
    "# 단어와 2차원 X축의 값, Y축의 값을 입력받아 2차원 그래프를 그린다\n",
    "def plot_2d_graph(vocabs, xs, ys):\n",
    "    plt.figure(figsize=(15 ,10))\n",
    "    plt.scatter(xs, ys, marker = 'o')\n",
    "    for i, v in enumerate(list(vocabs)[:100]):\n",
    "        plt.annotate(v, xy=(xs[i], ys[i]))"
   ]
  },
  {
   "cell_type": "code",
   "execution_count": 34,
   "metadata": {},
   "outputs": [
    {
     "data": {
      "image/png": "[encoded data removed]",
      "text/plain": [
       "<Figure size 1080x720 with 1 Axes>"
      ]
     },
     "metadata": {
      "needs_background": "light"
     },
     "output_type": "display_data"
    }
   ],
   "source": [
    "hangul()\n",
    "plot_2d_graph(vocabs, xs, ys)"
   ]
  },
  {
   "cell_type": "markdown",
   "metadata": {},
   "source": [
    "많은 벡터가 가운데에 모여 있는 것을 확인할 수 있습니다. 300차원의 벡터를 2차원에 나타내다 보니 결과가 아주 우수하다고 보기는 어려움"
   ]
  },
  {
   "cell_type": "markdown",
   "metadata": {},
   "source": [
    "#### 2) t-SNE\n",
    "PCA가 자주 이용되는 차원 축소 방식이긴 하지만, 위의 결과와 같이 PCA는 군집의 변별력을 죽인다는 단점이 있습니다. (자세한 내용은 여기서 확인할 수 있다.) 이러한 단점을 개선한 방식이 t-SNE 차원축소 방식입니다. 실제로 임베딩 결과는 t-SNE로 나타내는 경우가 많습니다."
   ]
  },
  {
   "cell_type": "code",
   "execution_count": 43,
   "metadata": {},
   "outputs": [
    {
     "name": "stderr",
     "output_type": "stream",
     "text": [
      "C:\\Users\\dkq50\\anaconda3\\envs\\hamtori\\lib\\site-packages\\sklearn\\manifold\\_t_sne.py:780: FutureWarning: The default initialization in TSNE will change from 'random' to 'pca' in 1.2.\n",
      "  warnings.warn(\n"
     ]
    },
    {
     "data": {
      "image/png": "[encoded data removed]",
      "text/plain": [
       "<Figure size 1800x720 with 1 Axes>"
      ]
     },
     "metadata": {
      "needs_background": "light"
     },
     "output_type": "display_data"
    }
   ],
   "source": [
    "from sklearn.manifold import TSNE\n",
    "\n",
    "model2 = TSNE(learning_rate=100)\n",
    "transformed = model2.fit_transform(word_vectors_list[:100])\n",
    "\n",
    "xs2 = transformed[:,0]\n",
    "ys2 = transformed[:,1]\n",
    "\n",
    "plt.figure(figsize=(25,10))\n",
    "\n",
    "plt.scatter(xs2, ys2)\n",
    "for i,v in enumerate(list(vocabs)[:100]):\n",
    "    plt.annotate(v, xy=(xs2[i], ys2[i]))\n",
    "\n",
    "plt.show()"
   ]
  },
  {
   "cell_type": "code",
   "execution_count": 44,
   "metadata": {},
   "outputs": [
    {
     "name": "stderr",
     "output_type": "stream",
     "text": [
      "C:\\Users\\dkq50\\anaconda3\\envs\\hamtori\\lib\\site-packages\\sklearn\\manifold\\_t_sne.py:780: FutureWarning: The default initialization in TSNE will change from 'random' to 'pca' in 1.2.\n",
      "  warnings.warn(\n",
      "C:\\Users\\dkq50\\anaconda3\\envs\\hamtori\\lib\\site-packages\\sklearn\\manifold\\_t_sne.py:790: FutureWarning: The default learning rate in TSNE will change from 200.0 to 'auto' in 1.2.\n",
      "  warnings.warn(\n",
      "C:\\Users\\dkq50\\anaconda3\\envs\\hamtori\\lib\\site-packages\\sklearn\\manifold\\_t_sne.py:780: FutureWarning: The default initialization in TSNE will change from 'random' to 'pca' in 1.2.\n",
      "  warnings.warn(\n",
      "C:\\Users\\dkq50\\anaconda3\\envs\\hamtori\\lib\\site-packages\\sklearn\\manifold\\_t_sne.py:790: FutureWarning: The default learning rate in TSNE will change from 200.0 to 'auto' in 1.2.\n",
      "  warnings.warn(\n"
     ]
    }
   ],
   "source": [
    "from sklearn.manifold import TSNE\n",
    "\n",
    "# 2차원 t-SNE 임베딩\n",
    "model2 = TSNE(n_components=2)\n",
    "transformed2 = model2.fit_transform(word_vectors_list[:100])\n",
    "\n",
    "# 3차원 t-SNE 임베딩\n",
    "model3 = TSNE(n_components=3)\n",
    "transformed3 = model3.fit_transform(word_vectors_list)\n",
    "\n",
    "# numpy array -> DataFrame 변환\n",
    "tsne_df2 = pd.DataFrame(transformed2, columns = ['component 0', 'component 1'])\n",
    "tsne_df3 = pd.DataFrame(transformed3, columns = ['component 0', 'component 1','component 2'])"
   ]
  },
  {
   "cell_type": "code",
   "execution_count": 37,
   "metadata": {},
   "outputs": [
    {
     "data": {
      "text/plain": [
       "{nan, '건강', '경제', '교통', '문화', '복지', '세금', '안전', '여성', '주택', '환경'}"
      ]
     },
     "execution_count": 37,
     "metadata": {},
     "output_type": "execute_result"
    }
   ],
   "source": [
    "set(train['분류'])"
   ]
  },
  {
   "cell_type": "markdown",
   "metadata": {},
   "source": [
    "2차원"
   ]
  },
  {
   "cell_type": "code",
   "execution_count": 45,
   "metadata": {},
   "outputs": [
    {
     "name": "stdout",
     "output_type": "stream",
     "text": [
      "<민원 분류 개수> \n",
      " 교통    18\n",
      "안전    15\n",
      "건강    15\n",
      "환경    13\n",
      "문화    11\n",
      "복지    10\n",
      "주택     8\n",
      "경제     6\n",
      "여성     4\n",
      "Name: target, dtype: int64\n"
     ]
    },
    {
     "data": {
      "image/png": "[encoded data removed]",
      "text/plain": [
       "<Figure size 1800x1080 with 1 Axes>"
      ]
     },
     "metadata": {
      "needs_background": "light"
     },
     "output_type": "display_data"
    }
   ],
   "source": [
    "import matplotlib.pyplot as plt\n",
    "\n",
    "tsne_df = tsne_df2\n",
    "# class target 정보 불러오기 \n",
    "tsne_df['target'] = train['분류']\n",
    "\n",
    "# target 별 분리\n",
    "tsne_df_0 = tsne_df[tsne_df['target'] == '건강']\n",
    "tsne_df_1 = tsne_df[tsne_df['target'] == '경제']\n",
    "tsne_df_2 = tsne_df[tsne_df['target'] == '교통']\n",
    "tsne_df_3 = tsne_df[tsne_df['target'] == '문화']\n",
    "tsne_df_4 = tsne_df[tsne_df['target'] == '복지']\n",
    "tsne_df_5 = tsne_df[tsne_df['target'] == '세금']\n",
    "tsne_df_6 = tsne_df[tsne_df['target'] == '안전']\n",
    "tsne_df_7 = tsne_df[tsne_df['target'] == '여성']\n",
    "tsne_df_8 = tsne_df[tsne_df['target'] == '주택']\n",
    "tsne_df_9 = tsne_df[tsne_df['target'] == '환경']\n",
    "\n",
    "\n",
    "plt.figure(figsize=(25,15))\n",
    "print('<민원 분류 개수> \\n',tsne_df2['target'].value_counts())\n",
    "\n",
    "# target 별 시각화\n",
    "plt.scatter(tsne_df_0['component 0'], tsne_df_0['component 1'], color = 'hotpink', label = '건강')\n",
    "plt.scatter(tsne_df_1['component 0'], tsne_df_1['component 1'], color = 'purple', label = '경제')\n",
    "plt.scatter(tsne_df_2['component 0'], tsne_df_2['component 1'], color = 'yellow', label = '교통')\n",
    "plt.scatter(tsne_df_3['component 0'], tsne_df_3['component 1'], color = 'red', label = '문화')\n",
    "plt.scatter(tsne_df_4['component 0'], tsne_df_4['component 1'], color = 'blue', label = '복지')\n",
    "plt.scatter(tsne_df_5['component 0'], tsne_df_5['component 1'], color = 'green', label = '세금')\n",
    "plt.scatter(tsne_df_6['component 0'], tsne_df_6['component 1'], color = 'skyblue', label = '안전')\n",
    "plt.scatter(tsne_df_7['component 0'], tsne_df_7['component 1'], color = 'orange', label = '여성')\n",
    "plt.scatter(tsne_df_8['component 0'], tsne_df_8['component 1'], color = 'springgreen', label = '주택')\n",
    "plt.scatter(tsne_df_9['component 0'], tsne_df_9['component 1'], color = 'slategray', label = '환경')\n",
    "\n",
    "for i,v in enumerate(list(vocabs)[:100]):\n",
    "    plt.annotate(v, xy=(tsne_df2['component 0'][i], tsne_df2['component 1'][i]))\n",
    "\n",
    "\n",
    "\n",
    "\n",
    "plt.xlabel('component 0')\n",
    "plt.ylabel('component 1')\n",
    "plt.legend()\n",
    "plt.show()\n"
   ]
  },
  {
   "cell_type": "markdown",
   "metadata": {},
   "source": [
    "3차원"
   ]
  },
  {
   "cell_type": "code",
   "execution_count": 46,
   "metadata": {},
   "outputs": [
    {
     "data": {
      "image/png": "[encoded data removed]",
      "text/plain": [
       "<Figure size 1080x720 with 1 Axes>"
      ]
     },
     "metadata": {
      "needs_background": "light"
     },
     "output_type": "display_data"
    }
   ],
   "source": [
    "from mpl_toolkits.mplot3d import Axes3D\n",
    "\n",
    "# 3차원 그래프 세팅\n",
    "fig = plt.figure(figsize=(15, 10))\n",
    "ax = fig.add_subplot(111, projection='3d')\n",
    "\n",
    "# class target 정보 불러오기 \n",
    "tsne_df['target'] = train['분류']\n",
    "\n",
    "# target 별 분리\n",
    "tsne_df_0 = tsne_df[tsne_df['target'] == '건강']\n",
    "tsne_df_1 = tsne_df[tsne_df['target'] == '경제']\n",
    "tsne_df_2 = tsne_df[tsne_df['target'] == '교통']\n",
    "tsne_df_3 = tsne_df[tsne_df['target'] == '문화']\n",
    "tsne_df_4 = tsne_df[tsne_df['target'] == '복지']\n",
    "tsne_df_5 = tsne_df[tsne_df['target'] == '세금']\n",
    "tsne_df_6 = tsne_df[tsne_df['target'] == '안전']\n",
    "tsne_df_7 = tsne_df[tsne_df['target'] == '여성']\n",
    "tsne_df_8 = tsne_df[tsne_df['target'] == '주택']\n",
    "tsne_df_9 = tsne_df[tsne_df['target'] == '환경']\n",
    "\n",
    "# target 별 시각화\n",
    "ax.scatter(tsne_df_0['component 0'][:10], tsne_df_0['component 1'][:10], color = 'hotpink', label = '건강')\n",
    "ax.scatter(tsne_df_1['component 0'][:10], tsne_df_1['component 1'][:10], color = 'purple', label = '경제')\n",
    "ax.scatter(tsne_df_2['component 0'][:10], tsne_df_2['component 1'][:10], color = 'yellow', label = '교통')\n",
    "ax.scatter(tsne_df_3['component 0'][:10], tsne_df_3['component 1'][:10], color = 'red', label = '문화')\n",
    "ax.scatter(tsne_df_4['component 0'][:10], tsne_df_4['component 1'][:10], color = 'blue', label = '복지')\n",
    "ax.scatter(tsne_df_5['component 0'][:10], tsne_df_5['component 1'][:10], color = 'green', label = '세금')\n",
    "ax.scatter(tsne_df_6['component 0'][:10], tsne_df_6['component 1'][:10], color = 'skyblue', label = '안전')\n",
    "ax.scatter(tsne_df_7['component 0'][:10], tsne_df_7['component 1'][:10], color = 'orange', label = '여성')\n",
    "ax.scatter(tsne_df_8['component 0'][:10], tsne_df_8['component 1'][:10], color = 'springgreen', label = '주택')\n",
    "ax.scatter(tsne_df_9['component 0'][:10], tsne_df_9['component 1'][:10], color = 'slategray', label = '환경')\n",
    "\n",
    "ax.set_xlabel('component 0')\n",
    "ax.set_ylabel('component 1')\n",
    "ax.set_zlabel('component 2')\n",
    "ax.legend()\n",
    "plt.show()\n"
   ]
  },
  {
   "cell_type": "markdown",
   "metadata": {},
   "source": [
    "## 문서별 평균 feature 계산 ##"
   ]
  },
  {
   "cell_type": "markdown",
   "metadata": {},
   "source": [
    "### 주어진 민원 문서에서 단어 벡터의 평균 구하는 함수 ###"
   ]
  },
  {
   "cell_type": "code",
   "execution_count": 47,
   "metadata": {},
   "outputs": [],
   "source": [
    "def makeFeatureVec(words, model, num_features):\n",
    "    featureVec = np.zeros((num_features,),dtype=\"float32\")\n",
    "    nwords = 0.\n",
    "    index2word_set = set(model.wv.index_to_key)\n",
    "    for word in words:\n",
    "        if word in index2word_set:\n",
    "            nwords = nwords + 1.\n",
    "            featureVec = np.add(featureVec,word_vectors[word])\n",
    "    np.seterr(divide='ignore')\n",
    "    featureVec = np.divide(featureVec,nwords)\n",
    "    return featureVec"
   ]
  },
  {
   "cell_type": "markdown",
   "metadata": {},
   "source": [
    "### 단어 평균 feature 벡터를 배열로 반환 ###"
   ]
  },
  {
   "cell_type": "code",
   "execution_count": 48,
   "metadata": {},
   "outputs": [],
   "source": [
    "def getAvgFeatureVecs(documents, model, num_features):\n",
    "    counter = 0.\n",
    "    documentFeatureVecs = np.zeros(\n",
    "        (len(documents),num_features),dtype=\"float32\")\n",
    "    for document in documents:\n",
    "       if counter%2000. == 0.:\n",
    "           print(\"민원 %d of %d\" % (counter, len(documents)))\n",
    "       documentFeatureVecs[int(counter)] = makeFeatureVec(document, model, num_features)\n",
    "       counter = counter + 1.\n",
    "    return documentFeatureVecs"
   ]
  },
  {
   "cell_type": "markdown",
   "metadata": {},
   "source": [
    "### 학습 데이터 평균 feature 계산 ###"
   ]
  },
  {
   "cell_type": "code",
   "execution_count": 49,
   "metadata": {},
   "outputs": [
    {
     "name": "stdout",
     "output_type": "stream",
     "text": [
      "민원 0 of 9842\n"
     ]
    },
    {
     "name": "stderr",
     "output_type": "stream",
     "text": [
      "C:\\Users\\dkq50\\AppData\\Local\\Temp/ipykernel_21756/325302873.py:10: RuntimeWarning: invalid value encountered in true_divide\n",
      "  featureVec = np.divide(featureVec,nwords)\n"
     ]
    },
    {
     "name": "stdout",
     "output_type": "stream",
     "text": [
      "민원 2000 of 9842\n",
      "민원 4000 of 9842\n",
      "민원 6000 of 9842\n",
      "민원 8000 of 9842\n",
      "Wall time: 5.75 s\n"
     ]
    }
   ],
   "source": [
    "%time trainDataVecs = getAvgFeatureVecs(\\\n",
    "    train_documents, model, num_features)\n"
   ]
  },
  {
   "cell_type": "code",
   "execution_count": 50,
   "metadata": {},
   "outputs": [],
   "source": [
    "imp = SimpleImputer(missing_values=np.nan, strategy='mean')\n",
    "imp.fit(trainDataVecs)\n",
    "trainDataVecs=imp.transform(trainDataVecs) ##nan, infinite 제거"
   ]
  },
  {
   "cell_type": "markdown",
   "metadata": {},
   "source": [
    "## 랜덤 포레스트로 민원 자동분류 ##"
   ]
  },
  {
   "cell_type": "markdown",
   "metadata": {},
   "source": [
    "### 랜덤 포레스트 분류기 설정 ###\n",
    "  - n_estimators : 생성할 트리 개수 (k)\n",
    "  - n_jobs : 학습을 수행하기 위해 CPU 코어 2개를 병렬적으로 활용한다는 의미\n",
    "  - 같은 결과를 만들어야 한다면 random_state 값을 고정해야함 "
   ]
  },
  {
   "cell_type": "code",
   "execution_count": 51,
   "metadata": {},
   "outputs": [],
   "source": [
    "forest_w2v = RandomForestClassifier(n_estimators = 300, random_state=1, class_weight='balanced')"
   ]
  },
  {
   "cell_type": "markdown",
   "metadata": {},
   "source": [
    "### 랜덤포레스트 모델 = Y: 민원분류, X:민원 문서당 평균 단어 feature ###"
   ]
  },
  {
   "cell_type": "code",
   "execution_count": 52,
   "metadata": {},
   "outputs": [
    {
     "name": "stdout",
     "output_type": "stream",
     "text": [
      "Wall time: 53 s\n"
     ]
    }
   ],
   "source": [
    "%time forest_w2v_fit = forest_w2v.fit(trainDataVecs, train_df[\"분류\"])"
   ]
  },
  {
   "cell_type": "markdown",
   "metadata": {},
   "source": [
    "### 최종 모델을 활용해서 테스트 데이터 민원 자동 분류 ###"
   ]
  },
  {
   "cell_type": "code",
   "execution_count": 54,
   "metadata": {},
   "outputs": [
    {
     "name": "stdout",
     "output_type": "stream",
     "text": [
      "민원 0 of 4814\n"
     ]
    },
    {
     "name": "stderr",
     "output_type": "stream",
     "text": [
      "C:\\Users\\dkq50\\AppData\\Local\\Temp/ipykernel_21756/325302873.py:10: RuntimeWarning: invalid value encountered in true_divide\n",
      "  featureVec = np.divide(featureVec,nwords)\n"
     ]
    },
    {
     "name": "stdout",
     "output_type": "stream",
     "text": [
      "민원 2000 of 4814\n",
      "민원 4000 of 4814\n",
      "Wall time: 1.58 s\n"
     ]
    }
   ],
   "source": [
    "# 테스트 데이터 벡터화\n",
    "%time testDataVecs = getAvgFeatureVecs(\\\n",
    "        test_documents, model, num_features )\n",
    "imp.fit(testDataVecs)\n",
    "testDataVecs=imp.transform(testDataVecs) ##nan, infinite 제거"
   ]
  },
  {
   "cell_type": "code",
   "execution_count": 55,
   "metadata": {},
   "outputs": [],
   "source": [
    "# 문서별 민원 분류 확률값 저장\n",
    "forest_w2v_proba = forest_w2v.predict_proba(testDataVecs)"
   ]
  },
  {
   "cell_type": "code",
   "execution_count": 56,
   "metadata": {},
   "outputs": [],
   "source": [
    "# 민원 분류 확률 Top2\n",
    "topn = 2\n",
    "topn_class = np.argsort(forest_w2v_proba)[:,:-topn-1:-1]\n",
    "forest_w2v.classes_[topn_class]\n",
    "\n",
    "result_w2v_top1 = forest_w2v.classes_[topn_class][:,0]\n",
    "result_w2v_top2 = forest_w2v.classes_[topn_class][:,1]"
   ]
  },
  {
   "cell_type": "code",
   "execution_count": 57,
   "metadata": {},
   "outputs": [
    {
     "data": {
      "text/html": [
       "<div>\n",
       "<style scoped>\n",
       "    .dataframe tbody tr th:only-of-type {\n",
       "        vertical-align: middle;\n",
       "    }\n",
       "\n",
       "    .dataframe tbody tr th {\n",
       "        vertical-align: top;\n",
       "    }\n",
       "\n",
       "    .dataframe thead th {\n",
       "        text-align: right;\n",
       "    }\n",
       "</style>\n",
       "<table border=\"1\" class=\"dataframe\">\n",
       "  <thead>\n",
       "    <tr style=\"text-align: right;\">\n",
       "      <th></th>\n",
       "      <th>제안번호</th>\n",
       "      <th>분류</th>\n",
       "      <th>분류2</th>\n",
       "    </tr>\n",
       "  </thead>\n",
       "  <tbody>\n",
       "    <tr>\n",
       "      <th>0</th>\n",
       "      <td>192222</td>\n",
       "      <td>복지</td>\n",
       "      <td>교통</td>\n",
       "    </tr>\n",
       "    <tr>\n",
       "      <th>1</th>\n",
       "      <td>192221</td>\n",
       "      <td>환경</td>\n",
       "      <td>교통</td>\n",
       "    </tr>\n",
       "    <tr>\n",
       "      <th>2</th>\n",
       "      <td>192220</td>\n",
       "      <td>안전</td>\n",
       "      <td>교통</td>\n",
       "    </tr>\n",
       "    <tr>\n",
       "      <th>3</th>\n",
       "      <td>192219</td>\n",
       "      <td>경제</td>\n",
       "      <td>복지</td>\n",
       "    </tr>\n",
       "    <tr>\n",
       "      <th>4</th>\n",
       "      <td>192218</td>\n",
       "      <td>문화</td>\n",
       "      <td>주택</td>\n",
       "    </tr>\n",
       "    <tr>\n",
       "      <th>...</th>\n",
       "      <td>...</td>\n",
       "      <td>...</td>\n",
       "      <td>...</td>\n",
       "    </tr>\n",
       "    <tr>\n",
       "      <th>4883</th>\n",
       "      <td>186616</td>\n",
       "      <td>복지</td>\n",
       "      <td>교통</td>\n",
       "    </tr>\n",
       "    <tr>\n",
       "      <th>4884</th>\n",
       "      <td>186615</td>\n",
       "      <td>건강</td>\n",
       "      <td>환경</td>\n",
       "    </tr>\n",
       "    <tr>\n",
       "      <th>4885</th>\n",
       "      <td>186614</td>\n",
       "      <td>환경</td>\n",
       "      <td>교통</td>\n",
       "    </tr>\n",
       "    <tr>\n",
       "      <th>4886</th>\n",
       "      <td>186613</td>\n",
       "      <td>건강</td>\n",
       "      <td>여성</td>\n",
       "    </tr>\n",
       "    <tr>\n",
       "      <th>4887</th>\n",
       "      <td>186612</td>\n",
       "      <td>복지</td>\n",
       "      <td>여성</td>\n",
       "    </tr>\n",
       "  </tbody>\n",
       "</table>\n",
       "<p>4814 rows × 3 columns</p>\n",
       "</div>"
      ],
      "text/plain": [
       "        제안번호  분류 분류2\n",
       "0     192222  복지  교통\n",
       "1     192221  환경  교통\n",
       "2     192220  안전  교통\n",
       "3     192219  경제  복지\n",
       "4     192218  문화  주택\n",
       "...      ...  ..  ..\n",
       "4883  186616  복지  교통\n",
       "4884  186615  건강  환경\n",
       "4885  186614  환경  교통\n",
       "4886  186613  건강  여성\n",
       "4887  186612  복지  여성\n",
       "\n",
       "[4814 rows x 3 columns]"
      ]
     },
     "execution_count": 57,
     "metadata": {},
     "output_type": "execute_result"
    }
   ],
   "source": [
    "# 민원 분류 결과 데이터프레임으로 저장\n",
    "output_w2v = pd.DataFrame(data={'제안번호':test_df['제안번호'], '분류':result_w2v_top1,'분류2':result_w2v_top2})\n",
    "output_w2v"
   ]
  },
  {
   "cell_type": "code",
   "execution_count": 58,
   "metadata": {},
   "outputs": [
    {
     "name": "stdout",
     "output_type": "stream",
     "text": [
      "환경    1333\n",
      "교통    1115\n",
      "주택     516\n",
      "복지     399\n",
      "건강     380\n",
      "경제     351\n",
      "문화     314\n",
      "안전     237\n",
      "여성     159\n",
      "세금      10\n",
      "Name: 분류, dtype: int64\n"
     ]
    }
   ],
   "source": [
    "# 민원 예측 결과 통계량\n",
    "print(output_w2v['분류'].value_counts())"
   ]
  },
  {
   "cell_type": "code",
   "execution_count": 59,
   "metadata": {},
   "outputs": [
    {
     "data": {
      "text/html": [
       "<div>\n",
       "<style scoped>\n",
       "    .dataframe tbody tr th:only-of-type {\n",
       "        vertical-align: middle;\n",
       "    }\n",
       "\n",
       "    .dataframe tbody tr th {\n",
       "        vertical-align: top;\n",
       "    }\n",
       "\n",
       "    .dataframe thead th {\n",
       "        text-align: right;\n",
       "    }\n",
       "</style>\n",
       "<table border=\"1\" class=\"dataframe\">\n",
       "  <thead>\n",
       "    <tr style=\"text-align: right;\">\n",
       "      <th></th>\n",
       "      <th>제안번호</th>\n",
       "      <th>제안제목</th>\n",
       "      <th>제안내용</th>\n",
       "      <th>제안등록일자</th>\n",
       "      <th>contents</th>\n",
       "      <th>tokens</th>\n",
       "      <th>all_tokens</th>\n",
       "      <th>분류</th>\n",
       "      <th>분류2</th>\n",
       "    </tr>\n",
       "  </thead>\n",
       "  <tbody>\n",
       "    <tr>\n",
       "      <th>0</th>\n",
       "      <td>192222</td>\n",
       "      <td>북부 직업훈련원  본부 장애인 화장실  문고리 중앙으로</td>\n",
       "      <td>http://democracy.seoul.go.kr/front/freeSuggest...</td>\n",
       "      <td>2022-03-10 22:40:32</td>\n",
       "      <td>북부 직업훈련원  본부 장애인 화장실  문고리 중앙으로</td>\n",
       "      <td>[북부, 직업, 훈련원, 본부, 장애인, 화장실, 문고리, 중앙]</td>\n",
       "      <td>[북부, 직업, 훈련원, , 본부, 장애인, 화장실, , 문고리, 중앙, 으로]</td>\n",
       "      <td>복지</td>\n",
       "      <td>교통</td>\n",
       "    </tr>\n",
       "    <tr>\n",
       "      <th>1</th>\n",
       "      <td>192221</td>\n",
       "      <td>수도요금 고지서를 개선하여 시민들에게 납부편의(식별용이)를 제공해 주세요!</td>\n",
       "      <td>http://democracy.seoul.go.kr/front/freeSuggest...</td>\n",
       "      <td>2022-03-10 22:22:22</td>\n",
       "      <td>수도요금 고지서를 개선하여 시민들에게 납부편의(식별용이)를 제공해 주세요!</td>\n",
       "      <td>[수도, 요금, 고지서, 시민, 납부, 편의, 식별, 용이]</td>\n",
       "      <td>[수도, 요금, 고지서, 를, 하, 아, 시민, 들, 에게, 납부, 편의, 식별, ...</td>\n",
       "      <td>환경</td>\n",
       "      <td>교통</td>\n",
       "    </tr>\n",
       "    <tr>\n",
       "      <th>2</th>\n",
       "      <td>192220</td>\n",
       "      <td>환경미화원 안전과 인권을 위해 작업시간 변경을 요청합니다</td>\n",
       "      <td>http://democracy.seoul.go.kr/front/freeSuggest...</td>\n",
       "      <td>2022-03-10 19:10:58</td>\n",
       "      <td>환경미화원 안전과 인권을 위해 작업시간 변경을 요청합니다</td>\n",
       "      <td>[환경미화, 안전, 인권, 위하다, 작업, 변경]</td>\n",
       "      <td>[환경미화, 원, 안전, 과, 인권, 위하, 아, 작업, 변경, 하, ㅂ니다]</td>\n",
       "      <td>안전</td>\n",
       "      <td>교통</td>\n",
       "    </tr>\n",
       "    <tr>\n",
       "      <th>3</th>\n",
       "      <td>192219</td>\n",
       "      <td>비리가 없는 공무직 채용으로 바꿔주세요</td>\n",
       "      <td>http://democracy.seoul.go.kr/front/freeSuggest...</td>\n",
       "      <td>2022-03-10 18:20:48</td>\n",
       "      <td>비리가 없는 공무직 채용으로 바꿔주세요</td>\n",
       "      <td>[비리, 공무, 채용, 바꾸다]</td>\n",
       "      <td>[비리, 가, 없, 는, 공무, 직, 채용, 으로, 바꾸, 어, 주, 시, 어요]</td>\n",
       "      <td>경제</td>\n",
       "      <td>복지</td>\n",
       "    </tr>\n",
       "    <tr>\n",
       "      <th>4</th>\n",
       "      <td>192218</td>\n",
       "      <td>희년제도부활 희년자유경제특구개발130. 5개년</td>\n",
       "      <td>http://democracy.seoul.go.kr/front/freeSuggest...</td>\n",
       "      <td>2022-03-10 07:29:25</td>\n",
       "      <td>희년제도부활 희년자유경제특구개발130. 5개년</td>\n",
       "      <td>[희년, 부활, 희년, 자유, 경제특구, 개발]</td>\n",
       "      <td>[희년, 제, 도, 부활, 희년, 자유, 경제특구, 개발, 130, 5, 개년]</td>\n",
       "      <td>문화</td>\n",
       "      <td>주택</td>\n",
       "    </tr>\n",
       "    <tr>\n",
       "      <th>...</th>\n",
       "      <td>...</td>\n",
       "      <td>...</td>\n",
       "      <td>...</td>\n",
       "      <td>...</td>\n",
       "      <td>...</td>\n",
       "      <td>...</td>\n",
       "      <td>...</td>\n",
       "      <td>...</td>\n",
       "      <td>...</td>\n",
       "    </tr>\n",
       "    <tr>\n",
       "      <th>4809</th>\n",
       "      <td>186616</td>\n",
       "      <td>코로나로 인해 사회멈춤이 해결방안이 맞나요</td>\n",
       "      <td>http://democracy.seoul.go.kr/front/freeSuggest...</td>\n",
       "      <td>2020-03-11 10:14:32</td>\n",
       "      <td>코로나로 인해 사회멈춤이 해결방안이 맞나요</td>\n",
       "      <td>[코로나, 사회, 멈추다, 해결방안, 맞다]</td>\n",
       "      <td>[코로나, 로, 인하, 아, 사회, 멈추, ㅁ, 해결방안, 맞, 나요]</td>\n",
       "      <td>복지</td>\n",
       "      <td>교통</td>\n",
       "    </tr>\n",
       "    <tr>\n",
       "      <th>4810</th>\n",
       "      <td>186615</td>\n",
       "      <td>코로나 바이러스로 교회예배를 금지해주세요</td>\n",
       "      <td>http://democracy.seoul.go.kr/front/freeSuggest...</td>\n",
       "      <td>2020-03-11 10:00:19</td>\n",
       "      <td>코로나 바이러스로 교회예배를 금지해주세요</td>\n",
       "      <td>[코로나, 바이러스, 교회, 예배, 금지]</td>\n",
       "      <td>[코로나, 바이러스, 로, 교회, 예배, 를, 금지, 하, 아, 주, 시, 어요]</td>\n",
       "      <td>건강</td>\n",
       "      <td>환경</td>\n",
       "    </tr>\n",
       "    <tr>\n",
       "      <th>4811</th>\n",
       "      <td>186614</td>\n",
       "      <td>마스크 5부제 수량 증가 요청</td>\n",
       "      <td>http://democracy.seoul.go.kr/front/freeSuggest...</td>\n",
       "      <td>2020-03-11 09:58:25</td>\n",
       "      <td>마스크 5부제 수량 증가 요청</td>\n",
       "      <td>[마스크, 수량, 증가]</td>\n",
       "      <td>[마스크, 5, 부제, 수량, 증가]</td>\n",
       "      <td>환경</td>\n",
       "      <td>교통</td>\n",
       "    </tr>\n",
       "    <tr>\n",
       "      <th>4812</th>\n",
       "      <td>186613</td>\n",
       "      <td>콜센타인근학원휴강권고요청</td>\n",
       "      <td>http://democracy.seoul.go.kr/front/freeSuggest...</td>\n",
       "      <td>2020-03-11 09:56:02</td>\n",
       "      <td>콜센타인근학원휴강권고요청</td>\n",
       "      <td>[콜, 센타, 인근, 학원, 휴강, 권고]</td>\n",
       "      <td>[콜, 센타, 인근, 학원, 휴강, 권고]</td>\n",
       "      <td>건강</td>\n",
       "      <td>여성</td>\n",
       "    </tr>\n",
       "    <tr>\n",
       "      <th>4813</th>\n",
       "      <td>186612</td>\n",
       "      <td>서울 전국 콜센터 관련하여</td>\n",
       "      <td>http://democracy.seoul.go.kr/front/freeSuggest...</td>\n",
       "      <td>2020-03-11 09:46:58</td>\n",
       "      <td>서울 전국 콜센터 관련하여</td>\n",
       "      <td>[전국, 콜센터]</td>\n",
       "      <td>[전국, 콜센터, 하, 아]</td>\n",
       "      <td>복지</td>\n",
       "      <td>여성</td>\n",
       "    </tr>\n",
       "  </tbody>\n",
       "</table>\n",
       "<p>4814 rows × 9 columns</p>\n",
       "</div>"
      ],
      "text/plain": [
       "        제안번호                                       제안제목  \\\n",
       "0     192222             북부 직업훈련원  본부 장애인 화장실  문고리 중앙으로   \n",
       "1     192221  수도요금 고지서를 개선하여 시민들에게 납부편의(식별용이)를 제공해 주세요!   \n",
       "2     192220            환경미화원 안전과 인권을 위해 작업시간 변경을 요청합니다   \n",
       "3     192219                      비리가 없는 공무직 채용으로 바꿔주세요   \n",
       "4     192218                  희년제도부활 희년자유경제특구개발130. 5개년   \n",
       "...      ...                                        ...   \n",
       "4809  186616                    코로나로 인해 사회멈춤이 해결방안이 맞나요   \n",
       "4810  186615                     코로나 바이러스로 교회예배를 금지해주세요   \n",
       "4811  186614                           마스크 5부제 수량 증가 요청   \n",
       "4812  186613                              콜센타인근학원휴강권고요청   \n",
       "4813  186612                             서울 전국 콜센터 관련하여   \n",
       "\n",
       "                                                   제안내용              제안등록일자  \\\n",
       "0     http://democracy.seoul.go.kr/front/freeSuggest... 2022-03-10 22:40:32   \n",
       "1     http://democracy.seoul.go.kr/front/freeSuggest... 2022-03-10 22:22:22   \n",
       "2     http://democracy.seoul.go.kr/front/freeSuggest... 2022-03-10 19:10:58   \n",
       "3     http://democracy.seoul.go.kr/front/freeSuggest... 2022-03-10 18:20:48   \n",
       "4     http://democracy.seoul.go.kr/front/freeSuggest... 2022-03-10 07:29:25   \n",
       "...                                                 ...                 ...   \n",
       "4809  http://democracy.seoul.go.kr/front/freeSuggest... 2020-03-11 10:14:32   \n",
       "4810  http://democracy.seoul.go.kr/front/freeSuggest... 2020-03-11 10:00:19   \n",
       "4811  http://democracy.seoul.go.kr/front/freeSuggest... 2020-03-11 09:58:25   \n",
       "4812  http://democracy.seoul.go.kr/front/freeSuggest... 2020-03-11 09:56:02   \n",
       "4813  http://democracy.seoul.go.kr/front/freeSuggest... 2020-03-11 09:46:58   \n",
       "\n",
       "                                       contents  \\\n",
       "0                북부 직업훈련원  본부 장애인 화장실  문고리 중앙으로   \n",
       "1     수도요금 고지서를 개선하여 시민들에게 납부편의(식별용이)를 제공해 주세요!   \n",
       "2               환경미화원 안전과 인권을 위해 작업시간 변경을 요청합니다   \n",
       "3                         비리가 없는 공무직 채용으로 바꿔주세요   \n",
       "4                     희년제도부활 희년자유경제특구개발130. 5개년   \n",
       "...                                         ...   \n",
       "4809                    코로나로 인해 사회멈춤이 해결방안이 맞나요   \n",
       "4810                     코로나 바이러스로 교회예배를 금지해주세요   \n",
       "4811                           마스크 5부제 수량 증가 요청   \n",
       "4812                              콜센타인근학원휴강권고요청   \n",
       "4813                             서울 전국 콜센터 관련하여   \n",
       "\n",
       "                                    tokens  \\\n",
       "0     [북부, 직업, 훈련원, 본부, 장애인, 화장실, 문고리, 중앙]   \n",
       "1        [수도, 요금, 고지서, 시민, 납부, 편의, 식별, 용이]   \n",
       "2              [환경미화, 안전, 인권, 위하다, 작업, 변경]   \n",
       "3                        [비리, 공무, 채용, 바꾸다]   \n",
       "4               [희년, 부활, 희년, 자유, 경제특구, 개발]   \n",
       "...                                    ...   \n",
       "4809              [코로나, 사회, 멈추다, 해결방안, 맞다]   \n",
       "4810               [코로나, 바이러스, 교회, 예배, 금지]   \n",
       "4811                         [마스크, 수량, 증가]   \n",
       "4812               [콜, 센타, 인근, 학원, 휴강, 권고]   \n",
       "4813                             [전국, 콜센터]   \n",
       "\n",
       "                                             all_tokens  분류 분류2  \n",
       "0          [북부, 직업, 훈련원, , 본부, 장애인, 화장실, , 문고리, 중앙, 으로]  복지  교통  \n",
       "1     [수도, 요금, 고지서, 를, 하, 아, 시민, 들, 에게, 납부, 편의, 식별, ...  환경  교통  \n",
       "2           [환경미화, 원, 안전, 과, 인권, 위하, 아, 작업, 변경, 하, ㅂ니다]  안전  교통  \n",
       "3         [비리, 가, 없, 는, 공무, 직, 채용, 으로, 바꾸, 어, 주, 시, 어요]  경제  복지  \n",
       "4          [희년, 제, 도, 부활, 희년, 자유, 경제특구, 개발, 130, 5, 개년]  문화  주택  \n",
       "...                                                 ...  ..  ..  \n",
       "4809            [코로나, 로, 인하, 아, 사회, 멈추, ㅁ, 해결방안, 맞, 나요]  복지  교통  \n",
       "4810      [코로나, 바이러스, 로, 교회, 예배, 를, 금지, 하, 아, 주, 시, 어요]  건강  환경  \n",
       "4811                               [마스크, 5, 부제, 수량, 증가]  환경  교통  \n",
       "4812                            [콜, 센타, 인근, 학원, 휴강, 권고]  건강  여성  \n",
       "4813                                    [전국, 콜센터, 하, 아]  복지  여성  \n",
       "\n",
       "[4814 rows x 9 columns]"
      ]
     },
     "execution_count": 59,
     "metadata": {},
     "output_type": "execute_result"
    }
   ],
   "source": [
    "# 민원 분류 예측 결과를 test_df에 merge\n",
    "result_df=pd.merge(test_df,output_w2v,on='제안번호')\n",
    "result_df"
   ]
  },
  {
   "cell_type": "markdown",
   "metadata": {},
   "source": [
    "### 민원분류 예측결과 엑셀파일로 저장"
   ]
  },
  {
   "cell_type": "code",
   "execution_count": 60,
   "metadata": {},
   "outputs": [
    {
     "name": "stdout",
     "output_type": "stream",
     "text": [
      "Requirement already satisfied: xlsxwriter in c:\\users\\dkq50\\anaconda3\\envs\\hamtori\\lib\\site-packages (3.0.3)\n",
      "Note: you may need to restart the kernel to use updated packages.\n"
     ]
    }
   ],
   "source": [
    "pip install xlsxwriter"
   ]
  },
  {
   "cell_type": "code",
   "execution_count": 61,
   "metadata": {},
   "outputs": [],
   "source": [
    "result_df.to_excel('민원분류_20_22 예측결과.xlsx',index=None)"
   ]
  },
  {
   "cell_type": "markdown",
   "metadata": {},
   "source": [
    "### 분류 결과 도표 시각화 ###"
   ]
  },
  {
   "cell_type": "code",
   "execution_count": 62,
   "metadata": {},
   "outputs": [
    {
     "name": "stderr",
     "output_type": "stream",
     "text": [
      "C:\\Users\\dkq50\\anaconda3\\envs\\hamtori\\lib\\site-packages\\seaborn\\_decorators.py:36: FutureWarning: Pass the following variable as a keyword arg: x. From version 0.12, the only valid positional argument will be `data`, and passing other arguments without an explicit keyword will result in an error or misinterpretation.\n",
      "  warnings.warn(\n",
      "C:\\Users\\dkq50\\anaconda3\\envs\\hamtori\\lib\\site-packages\\seaborn\\_decorators.py:36: FutureWarning: Pass the following variable as a keyword arg: x. From version 0.12, the only valid positional argument will be `data`, and passing other arguments without an explicit keyword will result in an error or misinterpretation.\n",
      "  warnings.warn(\n"
     ]
    },
    {
     "data": {
      "text/plain": [
       "Text(0.5, 1.0, '테스트 데이터')"
      ]
     },
     "execution_count": 62,
     "metadata": {},
     "output_type": "execute_result"
    },
    {
     "data": {
      "image/png": "[encoded data removed]",
      "text/plain": [
       "<Figure size 864x360 with 2 Axes>"
      ]
     },
     "metadata": {
      "needs_background": "light"
     },
     "output_type": "display_data"
    }
   ],
   "source": [
    "#학습 데이터 민원 분류 비율 vs 테스트 데이터 민원 분류 비율 #\n",
    "fig, axes = plt.subplots(ncols=2)\n",
    "fig.set_size_inches(12,5)\n",
    "\n",
    "#학습 데이터 플롯\n",
    "train_plot = sns.countplot(train_df['분류'], ax=axes[0],order=train_df['분류'].value_counts().index.to_list())\n",
    "train_plot.set_xticklabels(train_plot.get_xticklabels(),rotation=45,ha='right')\n",
    "train_plot.set_title('학습 데이터')\n",
    "\n",
    "#테스트 데이터 플롯\n",
    "test_plot = sns.countplot(output_w2v['분류'], ax=axes[1],order=result_df['분류'].value_counts().index.to_list())\n",
    "test_plot.set_xticklabels(test_plot.get_xticklabels(),rotation=45,ha='right')\n",
    "test_plot.set_title('테스트 데이터')"
   ]
  }
 ],
 "metadata": {
  "file_extension": ".py",
  "interpreter": {
   "hash": "71983d4614f4bca5a3b402268e3287b05b08a37bb91635263544d2d0bb2a12a0"
  },
  "kernelspec": {
   "display_name": "Python 3.9.7 ('hamtori')",
   "language": "python",
   "name": "python3"
  },
  "language_info": {
   "codemirror_mode": {
    "name": "ipython",
    "version": 3
   },
   "file_extension": ".py",
   "mimetype": "text/x-python",
   "name": "python",
   "nbconvert_exporter": "python",
   "pygments_lexer": "ipython3",
   "version": "3.9.7"
  },
  "mimetype": "text/x-python",
  "name": "python",
  "npconvert_exporter": "python",
  "orig_nbformat": 2,
  "pygments_lexer": "ipython3",
  "version": 3
 },
 "nbformat": 4,
 "nbformat_minor": 2
}
