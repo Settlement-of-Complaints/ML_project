{
 "cells": [
  {
   "cell_type": "markdown",
   "metadata": {},
   "source": [
    "# 00 라이브러리 로딩"
   ]
  },
  {
   "cell_type": "code",
   "execution_count": 1,
   "metadata": {},
   "outputs": [],
   "source": [
    "import pandas as pd\n",
    "import numpy as np\n",
    "import pickle\n",
    "\n",
    "from gensim.models import word2vec\n",
    "from sklearn.manifold import TSNE\n",
    "import matplotlib as mpl\n",
    "import matplotlib.pyplot as plt\n",
    "import gensim \n",
    "import gensim.models as g\n",
    "\n",
    "import logging\n",
    "logging.basicConfig(\n",
    "    format='%(asctime)s : %(levelname)s : %(message)s', \n",
    "    level=logging.INFO)\n",
    "\n",
    "import matplotlib as mpl\n",
    "import matplotlib.pyplot as plt\n",
    "import matplotlib.font_manager as fm\n",
    "plt.rc('font', family='Malgun Gothic')\n",
    "import matplotlib.pyplot as plt\n",
    "import seaborn as sns\n",
    "\n",
    "from sklearn.impute import SimpleImputer\n",
    "from sklearn.ensemble import RandomForestClassifier\n",
    "from sklearn.model_selection import cross_val_score"
   ]
  },
  {
   "cell_type": "code",
   "execution_count": 2,
   "metadata": {},
   "outputs": [],
   "source": [
    "def hangul():\n",
    "    # 한글 폰트 사용을 위해서 세팅\n",
    "    from matplotlib import font_manager, rc\n",
    "    font_path = \"C:/Windows/Fonts/NGULIM.TTF\"\n",
    "    font = font_manager.FontProperties(fname=font_path).get_name()\n",
    "    rc('font', family=font)"
   ]
  },
  {
   "cell_type": "code",
   "execution_count": 3,
   "metadata": {},
   "outputs": [
    {
     "name": "stdout",
     "output_type": "stream",
     "text": [
      "c:\\머신러닝\\미니프로젝트\\데이터\n"
     ]
    }
   ],
   "source": [
    "os.chdir(\"c:/머신러닝/미니프로젝트/데이터\")\n",
    "print(os.getcwd())"
   ]
  },
  {
   "cell_type": "code",
   "execution_count": 4,
   "metadata": {},
   "outputs": [],
   "source": [
    "# Load variables #\n",
    "# 전처리 완료된 학습/테스트 데이터 바로 불러오기 #\n",
    "with open('sample.pickle', 'rb') as pic:\n",
    "    train_df, test_df = pickle.load(pic)"
   ]
  },
  {
   "cell_type": "code",
   "execution_count": 5,
   "metadata": {},
   "outputs": [
    {
     "data": {
      "text/html": [
       "<div>\n",
       "<style scoped>\n",
       "    .dataframe tbody tr th:only-of-type {\n",
       "        vertical-align: middle;\n",
       "    }\n",
       "\n",
       "    .dataframe tbody tr th {\n",
       "        vertical-align: top;\n",
       "    }\n",
       "\n",
       "    .dataframe thead th {\n",
       "        text-align: right;\n",
       "    }\n",
       "</style>\n",
       "<table border=\"1\" class=\"dataframe\">\n",
       "  <thead>\n",
       "    <tr style=\"text-align: right;\">\n",
       "      <th></th>\n",
       "      <th>글번호</th>\n",
       "      <th>제목</th>\n",
       "      <th>작성일</th>\n",
       "      <th>분류</th>\n",
       "      <th>내용</th>\n",
       "      <th>부서의견</th>\n",
       "      <th>contents</th>\n",
       "      <th>tokens</th>\n",
       "      <th>all_tokens</th>\n",
       "    </tr>\n",
       "  </thead>\n",
       "  <tbody>\n",
       "    <tr>\n",
       "      <th>0</th>\n",
       "      <td>150587</td>\n",
       "      <td>횡단보도 사각지대 반사경</td>\n",
       "      <td>2012-10-30</td>\n",
       "      <td>교통</td>\n",
       "      <td>운전을 하다보면 횡단보도 주변에 적치물들 때문에 사각지대가 형성되어 사람이 보이지 ...</td>\n",
       "      <td>좋은 제안 주신 whatsmatter 님께 감사드리며, 제안을 검토한 결과를 다음과...</td>\n",
       "      <td>횡단보도 사각지대 반사경\\n운전을 하다보면 횡단보도 주변에 적치물들 때문에 사각지대...</td>\n",
       "      <td>[횡단보도, 사각지대, 반사경, 운전, 횡단보도, 적치, 물, 사각지대, 형성, 때...</td>\n",
       "      <td>[횡단보도, 사각지대, 반사경, 운전, 하, 보, 면, 횡단보도, 에, 적치, 물,...</td>\n",
       "    </tr>\n",
       "    <tr>\n",
       "      <th>1</th>\n",
       "      <td>150594</td>\n",
       "      <td>자전거 횡단보도 내려서 끌고가기</td>\n",
       "      <td>2012-10-30</td>\n",
       "      <td>교통</td>\n",
       "      <td>자전거 횡단보도와 자전거 표지를 보면 마치 자전거를 타고 건너도 되는 것처럼 보이고...</td>\n",
       "      <td>- 말씀하신 제안에는 충분히 공감합니다. 다만 교통안전표지(노면표시)는 도로교통법상...</td>\n",
       "      <td>자전거 횡단보도 내려서 끌고가기\\n자전거 횡단보도와 자전거 표지를 보면 마치 자전거...</td>\n",
       "      <td>[자전거, 횡단보도, 내리다, 끌다, 자전거, 횡단보도, 자전거, 표지, 마치, 자...</td>\n",
       "      <td>[자전거, 횡단보도, 내리, 어서, 끌, 고, 가, 기, 자전거, 횡단보도, 와, ...</td>\n",
       "    </tr>\n",
       "    <tr>\n",
       "      <th>2</th>\n",
       "      <td>150597</td>\n",
       "      <td>범죄예방을 위한 투도어현관보조문 설치</td>\n",
       "      <td>2012-10-30</td>\n",
       "      <td>주택</td>\n",
       "      <td>- 주민을 위하여 노력하시는 직원여러분께 감사드립니다 - 아파트및 다세대 등 홀로 ...</td>\n",
       "      <td>000님 안녕하세요? 000님께서 공동주택(아파트, 다세대, 연립)의 현관문에 1인...</td>\n",
       "      <td>범죄예방을 위한 투도어현관보조문 설치\\n- 주민을 위하여 노력하시는 직원여러분께 감...</td>\n",
       "      <td>[범죄, 예방, 위하다, 도어, 현관, 보조, 문, 설치, 주민, 위하다, 노력, ...</td>\n",
       "      <td>[범죄, 예방, 위하, ㄴ, 투, 도어, 현관, 보조, 문, 설치, 주민, 위하, ...</td>\n",
       "    </tr>\n",
       "    <tr>\n",
       "      <th>3</th>\n",
       "      <td>150659</td>\n",
       "      <td>각각 집마다 간이소화기를 만들어 배치하는 것을 의무로 하였으면 좋겠습니다.</td>\n",
       "      <td>2012-10-31</td>\n",
       "      <td>안전</td>\n",
       "      <td>어제 어린 남매 두명이 집에 전자렌지로 인해 불이나서중태에 빠졌다는 기사를 보았습니...</td>\n",
       "      <td>기시행중임 -소방시설설치유지 및 안전관리에 관한 법률 제8조제1항 및 서울특별시 주...</td>\n",
       "      <td>각각 집마다 간이소화기를 만들어 배치하는 것을 의무로 하였으면 좋겠습니다.\\n어제 ...</td>\n",
       "      <td>[]</td>\n",
       "      <td>[각각 집마다 간이소화기를 만들어 배치하는 것을 의무로 하였으면 좋겠습니다어제 어린...</td>\n",
       "    </tr>\n",
       "    <tr>\n",
       "      <th>4</th>\n",
       "      <td>150660</td>\n",
       "      <td>예식장내 부대시설인 음식점의 횡포를...</td>\n",
       "      <td>2012-10-31</td>\n",
       "      <td>경제</td>\n",
       "      <td>자녀의 결혼등으로 인한 예식이나 회갑 칠순등으로 인하여 웨딩홀이나 호텔등을 이용시에...</td>\n",
       "      <td>안녕하십니까? 우리시정에 큰 관심을 보내주신 데 대하여 깊은 감사드립니다. dski...</td>\n",
       "      <td>예식장내 부대시설인 음식점의 횡포를...\\n자녀의 결혼등으로 인한 예식이나 회갑 칠...</td>\n",
       "      <td>[예식장, 부대시설, 음식점, 횡포, 자녀, 결혼, 예식, 회갑, 웨딩, 홀, 호텔...</td>\n",
       "      <td>[예식장, 내, 부대시설, ㄴ, 음식점, 의, 횡포, 를, 자녀, 의, 결혼, 등,...</td>\n",
       "    </tr>\n",
       "    <tr>\n",
       "      <th>...</th>\n",
       "      <td>...</td>\n",
       "      <td>...</td>\n",
       "      <td>...</td>\n",
       "      <td>...</td>\n",
       "      <td>...</td>\n",
       "      <td>...</td>\n",
       "      <td>...</td>\n",
       "      <td>...</td>\n",
       "      <td>...</td>\n",
       "    </tr>\n",
       "    <tr>\n",
       "      <th>10672</th>\n",
       "      <td>179106</td>\n",
       "      <td>지하철 임산부 지정석 관련</td>\n",
       "      <td>2017-08-31</td>\n",
       "      <td>교통</td>\n",
       "      <td>안녕하세요  수고하십니다.다름이 아니오라 지하철 임산부지정석 관련 건의 드립니다.현...</td>\n",
       "      <td>김혁님 안녕하십니까? 제안 참여에 감사드리며 “지하철 임산부 지정석”건에 대하여 답...</td>\n",
       "      <td>지하철 임산부 지정석 관련\\n안녕하세요  수고하십니다.다름이 아니오라 지하철 임산부...</td>\n",
       "      <td>[지하철, 임산부, 지정석, 다르다, 오라, 지하철, 임산부, 지정석, 건의, 드리...</td>\n",
       "      <td>[지하철, 임산부, 지정석, 하, 시, ㅂ니다, 다르, ㅁ, 아니, 오라, 지하철,...</td>\n",
       "    </tr>\n",
       "    <tr>\n",
       "      <th>10673</th>\n",
       "      <td>179107</td>\n",
       "      <td>채동선 작곡가의 서울 집을 보존해 주세요.</td>\n",
       "      <td>2017-08-31</td>\n",
       "      <td>문화</td>\n",
       "      <td>서울 성북동의 옛날짜장면집 뒷 골목에 한옥집들 사이로 고풍스러운 2층 적산가옥이 보...</td>\n",
       "      <td>NaN</td>\n",
       "      <td>채동선 작곡가의 서울 집을 보존해 주세요.\\n서울 성북동의 옛날짜장면집 뒷 골목에 ...</td>\n",
       "      <td>[동서, 작곡가, 집, 보존, 성북동, 옛날, 짜장면, 집, 뒤, 골목, 한옥, 집...</td>\n",
       "      <td>[채, 동서, ㄴ, 작곡가, 의, 집, 보존, 하, 아, 주, 시, 어요, 성북동,...</td>\n",
       "    </tr>\n",
       "    <tr>\n",
       "      <th>10674</th>\n",
       "      <td>179108</td>\n",
       "      <td>한강및 지천에서의 안전</td>\n",
       "      <td>2017-08-31</td>\n",
       "      <td>환경</td>\n",
       "      <td>시민의 안전과 편의를 위하여 불철주야 수고 하심에 감사드립니다.저는 주로 한강및 한...</td>\n",
       "      <td>NaN</td>\n",
       "      <td>한강및 지천에서의 안전\\n시민의 안전과 편의를 위하여 불철주야 수고 하심에 감사드립...</td>\n",
       "      <td>[한강, 및, 지천, 안전, 시민, 안전, 편의, 위하다, 불철주야, 감사드리다, ...</td>\n",
       "      <td>[한강, 및, 지천, 에서, 의, 안전, 시민, 의, 안전, 과, 편의, 를, 위하...</td>\n",
       "    </tr>\n",
       "    <tr>\n",
       "      <th>10675</th>\n",
       "      <td>179109</td>\n",
       "      <td>세빛섬 이전 가능한가 ?</td>\n",
       "      <td>2017-08-31</td>\n",
       "      <td>환경</td>\n",
       "      <td>안녕하세요 ?최근에 노들섬이 2018년 말 경 개발된다는 기사를 본것 같습니다.예전...</td>\n",
       "      <td>NaN</td>\n",
       "      <td>세빛섬 이전 가능한가 ?\\n안녕하세요 ?최근에 노들섬이 2018년 말 경 개발된다는...</td>\n",
       "      <td>[]</td>\n",
       "      <td>[세빛섬 이전 가능한가 안녕하세요 최근에 노들섬이 2018년 말 경 개발된다는 기사...</td>\n",
       "    </tr>\n",
       "    <tr>\n",
       "      <th>10676</th>\n",
       "      <td>179110</td>\n",
       "      <td>한강 시민공원 주차장에 태양광 패널로 지붕을 설치하면 좋겠습니다.</td>\n",
       "      <td>2017-08-31</td>\n",
       "      <td>환경</td>\n",
       "      <td>한강시민공원에서 주차장으로 쓰이는 면적은 매우 넓습니다.대부분이 야외 공간이므로 여...</td>\n",
       "      <td>NaN</td>\n",
       "      <td>한강 시민공원 주차장에 태양광 패널로 지붕을 설치하면 좋겠습니다.\\n한강시민공원에서...</td>\n",
       "      <td>[한강, 시민공원, 주차장, 태양광, 패널, 지붕, 설치, 한강시민공원, 주차장, ...</td>\n",
       "      <td>[한강, 시민공원, 주차장, 에, 태양광, 패널, 로, 지붕, 설치, 하, 면, 좋...</td>\n",
       "    </tr>\n",
       "  </tbody>\n",
       "</table>\n",
       "<p>9872 rows × 9 columns</p>\n",
       "</div>"
      ],
      "text/plain": [
       "          글번호                                         제목        작성일  분류  \\\n",
       "0      150587                              횡단보도 사각지대 반사경 2012-10-30  교통   \n",
       "1      150594                          자전거 횡단보도 내려서 끌고가기 2012-10-30  교통   \n",
       "2      150597                       범죄예방을 위한 투도어현관보조문 설치 2012-10-30  주택   \n",
       "3      150659  각각 집마다 간이소화기를 만들어 배치하는 것을 의무로 하였으면 좋겠습니다. 2012-10-31  안전   \n",
       "4      150660                     예식장내 부대시설인 음식점의 횡포를... 2012-10-31  경제   \n",
       "...       ...                                        ...        ...  ..   \n",
       "10672  179106                             지하철 임산부 지정석 관련 2017-08-31  교통   \n",
       "10673  179107                    채동선 작곡가의 서울 집을 보존해 주세요. 2017-08-31  문화   \n",
       "10674  179108                               한강및 지천에서의 안전 2017-08-31  환경   \n",
       "10675  179109                              세빛섬 이전 가능한가 ? 2017-08-31  환경   \n",
       "10676  179110       한강 시민공원 주차장에 태양광 패널로 지붕을 설치하면 좋겠습니다. 2017-08-31  환경   \n",
       "\n",
       "                                                      내용  \\\n",
       "0      운전을 하다보면 횡단보도 주변에 적치물들 때문에 사각지대가 형성되어 사람이 보이지 ...   \n",
       "1      자전거 횡단보도와 자전거 표지를 보면 마치 자전거를 타고 건너도 되는 것처럼 보이고...   \n",
       "2      - 주민을 위하여 노력하시는 직원여러분께 감사드립니다 - 아파트및 다세대 등 홀로 ...   \n",
       "3      어제 어린 남매 두명이 집에 전자렌지로 인해 불이나서중태에 빠졌다는 기사를 보았습니...   \n",
       "4      자녀의 결혼등으로 인한 예식이나 회갑 칠순등으로 인하여 웨딩홀이나 호텔등을 이용시에...   \n",
       "...                                                  ...   \n",
       "10672  안녕하세요  수고하십니다.다름이 아니오라 지하철 임산부지정석 관련 건의 드립니다.현...   \n",
       "10673  서울 성북동의 옛날짜장면집 뒷 골목에 한옥집들 사이로 고풍스러운 2층 적산가옥이 보...   \n",
       "10674  시민의 안전과 편의를 위하여 불철주야 수고 하심에 감사드립니다.저는 주로 한강및 한...   \n",
       "10675  안녕하세요 ?최근에 노들섬이 2018년 말 경 개발된다는 기사를 본것 같습니다.예전...   \n",
       "10676  한강시민공원에서 주차장으로 쓰이는 면적은 매우 넓습니다.대부분이 야외 공간이므로 여...   \n",
       "\n",
       "                                                    부서의견  \\\n",
       "0      좋은 제안 주신 whatsmatter 님께 감사드리며, 제안을 검토한 결과를 다음과...   \n",
       "1      - 말씀하신 제안에는 충분히 공감합니다. 다만 교통안전표지(노면표시)는 도로교통법상...   \n",
       "2      000님 안녕하세요? 000님께서 공동주택(아파트, 다세대, 연립)의 현관문에 1인...   \n",
       "3      기시행중임 -소방시설설치유지 및 안전관리에 관한 법률 제8조제1항 및 서울특별시 주...   \n",
       "4      안녕하십니까? 우리시정에 큰 관심을 보내주신 데 대하여 깊은 감사드립니다. dski...   \n",
       "...                                                  ...   \n",
       "10672  김혁님 안녕하십니까? 제안 참여에 감사드리며 “지하철 임산부 지정석”건에 대하여 답...   \n",
       "10673                                                NaN   \n",
       "10674                                                NaN   \n",
       "10675                                                NaN   \n",
       "10676                                                NaN   \n",
       "\n",
       "                                                contents  \\\n",
       "0      횡단보도 사각지대 반사경\\n운전을 하다보면 횡단보도 주변에 적치물들 때문에 사각지대...   \n",
       "1      자전거 횡단보도 내려서 끌고가기\\n자전거 횡단보도와 자전거 표지를 보면 마치 자전거...   \n",
       "2      범죄예방을 위한 투도어현관보조문 설치\\n- 주민을 위하여 노력하시는 직원여러분께 감...   \n",
       "3      각각 집마다 간이소화기를 만들어 배치하는 것을 의무로 하였으면 좋겠습니다.\\n어제 ...   \n",
       "4      예식장내 부대시설인 음식점의 횡포를...\\n자녀의 결혼등으로 인한 예식이나 회갑 칠...   \n",
       "...                                                  ...   \n",
       "10672  지하철 임산부 지정석 관련\\n안녕하세요  수고하십니다.다름이 아니오라 지하철 임산부...   \n",
       "10673  채동선 작곡가의 서울 집을 보존해 주세요.\\n서울 성북동의 옛날짜장면집 뒷 골목에 ...   \n",
       "10674  한강및 지천에서의 안전\\n시민의 안전과 편의를 위하여 불철주야 수고 하심에 감사드립...   \n",
       "10675  세빛섬 이전 가능한가 ?\\n안녕하세요 ?최근에 노들섬이 2018년 말 경 개발된다는...   \n",
       "10676  한강 시민공원 주차장에 태양광 패널로 지붕을 설치하면 좋겠습니다.\\n한강시민공원에서...   \n",
       "\n",
       "                                                  tokens  \\\n",
       "0      [횡단보도, 사각지대, 반사경, 운전, 횡단보도, 적치, 물, 사각지대, 형성, 때...   \n",
       "1      [자전거, 횡단보도, 내리다, 끌다, 자전거, 횡단보도, 자전거, 표지, 마치, 자...   \n",
       "2      [범죄, 예방, 위하다, 도어, 현관, 보조, 문, 설치, 주민, 위하다, 노력, ...   \n",
       "3                                                     []   \n",
       "4      [예식장, 부대시설, 음식점, 횡포, 자녀, 결혼, 예식, 회갑, 웨딩, 홀, 호텔...   \n",
       "...                                                  ...   \n",
       "10672  [지하철, 임산부, 지정석, 다르다, 오라, 지하철, 임산부, 지정석, 건의, 드리...   \n",
       "10673  [동서, 작곡가, 집, 보존, 성북동, 옛날, 짜장면, 집, 뒤, 골목, 한옥, 집...   \n",
       "10674  [한강, 및, 지천, 안전, 시민, 안전, 편의, 위하다, 불철주야, 감사드리다, ...   \n",
       "10675                                                 []   \n",
       "10676  [한강, 시민공원, 주차장, 태양광, 패널, 지붕, 설치, 한강시민공원, 주차장, ...   \n",
       "\n",
       "                                              all_tokens  \n",
       "0      [횡단보도, 사각지대, 반사경, 운전, 하, 보, 면, 횡단보도, 에, 적치, 물,...  \n",
       "1      [자전거, 횡단보도, 내리, 어서, 끌, 고, 가, 기, 자전거, 횡단보도, 와, ...  \n",
       "2      [범죄, 예방, 위하, ㄴ, 투, 도어, 현관, 보조, 문, 설치, 주민, 위하, ...  \n",
       "3      [각각 집마다 간이소화기를 만들어 배치하는 것을 의무로 하였으면 좋겠습니다어제 어린...  \n",
       "4      [예식장, 내, 부대시설, ㄴ, 음식점, 의, 횡포, 를, 자녀, 의, 결혼, 등,...  \n",
       "...                                                  ...  \n",
       "10672  [지하철, 임산부, 지정석, 하, 시, ㅂ니다, 다르, ㅁ, 아니, 오라, 지하철,...  \n",
       "10673  [채, 동서, ㄴ, 작곡가, 의, 집, 보존, 하, 아, 주, 시, 어요, 성북동,...  \n",
       "10674  [한강, 및, 지천, 에서, 의, 안전, 시민, 의, 안전, 과, 편의, 를, 위하...  \n",
       "10675  [세빛섬 이전 가능한가 안녕하세요 최근에 노들섬이 2018년 말 경 개발된다는 기사...  \n",
       "10676  [한강, 시민공원, 주차장, 에, 태양광, 패널, 로, 지붕, 설치, 하, 면, 좋...  \n",
       "\n",
       "[9872 rows x 9 columns]"
      ]
     },
     "execution_count": 5,
     "metadata": {},
     "output_type": "execute_result"
    }
   ],
   "source": [
    "train_df"
   ]
  },
  {
   "cell_type": "code",
   "execution_count": 6,
   "metadata": {},
   "outputs": [
    {
     "data": {
      "text/html": [
       "<div>\n",
       "<style scoped>\n",
       "    .dataframe tbody tr th:only-of-type {\n",
       "        vertical-align: middle;\n",
       "    }\n",
       "\n",
       "    .dataframe tbody tr th {\n",
       "        vertical-align: top;\n",
       "    }\n",
       "\n",
       "    .dataframe thead th {\n",
       "        text-align: right;\n",
       "    }\n",
       "</style>\n",
       "<table border=\"1\" class=\"dataframe\">\n",
       "  <thead>\n",
       "    <tr style=\"text-align: right;\">\n",
       "      <th></th>\n",
       "      <th>제안번호</th>\n",
       "      <th>제안제목</th>\n",
       "      <th>제안내용</th>\n",
       "      <th>득표</th>\n",
       "      <th>제안등록일자</th>\n",
       "      <th>contents</th>\n",
       "      <th>tokens</th>\n",
       "      <th>all_tokens</th>\n",
       "    </tr>\n",
       "  </thead>\n",
       "  <tbody>\n",
       "    <tr>\n",
       "      <th>0</th>\n",
       "      <td>186203</td>\n",
       "      <td>중금속 문제가 심각해지고 있는데 중금속으로 분리할수 있는 방법은 없을까요?</td>\n",
       "      <td>&lt;span style=\"font-size: 12px;\"&gt;중금속 문제가 심각해지고 있...</td>\n",
       "      <td>0</td>\n",
       "      <td>2019-12-18 01:21:40</td>\n",
       "      <td>중금속 문제가 심각해지고 있는데 중금속으로 분리할수 있는 방법은 없을까요?\\n중금속...</td>\n",
       "      <td>[중금속, 중금속, 분리, 중금속, 중금속, 분리, 폐수, 속, 강물, 속, 수돗물...</td>\n",
       "      <td>[중금속, 가, 심각, 하, 고, 있, 는데, 중금속, 으로, 분리, 하, ㄹ, 수...</td>\n",
       "    </tr>\n",
       "    <tr>\n",
       "      <th>1</th>\n",
       "      <td>186202</td>\n",
       "      <td>제설제에 사용되는 cacl2에서 염소가 환경오염을 일으킨다는데 친환경적인걸로 바꿔주새요</td>\n",
       "      <td>제설제에 사용되는 cacl2에서 염소가 환경오염을 일으킨다는데 친환경적인걸로 바꿔주...</td>\n",
       "      <td>0</td>\n",
       "      <td>2019-12-18 00:41:00</td>\n",
       "      <td>제설제에 사용되는 cacl2에서 염소가 환경오염을 일으킨다는데 친환경적인걸로 바꿔주...</td>\n",
       "      <td>[제설, 염소, 환경오염, 일으키다, 환경, 바꾸다, 새, 요, 제설, 염소, 환경...</td>\n",
       "      <td>[제설, 제, 에, 되, 는, cacl, 2, 에서, 염소, 가, 환경오염, 일으키...</td>\n",
       "    </tr>\n",
       "    <tr>\n",
       "      <th>2</th>\n",
       "      <td>186201</td>\n",
       "      <td>지하철역 위의 임대아파트 건설 후 청년, 신혼부분에게 임대</td>\n",
       "      <td>서울시의 경우 지하철이 상당히 발달되어 있어 교통서비스를 제공하고 있습니다.&amp;nbs...</td>\n",
       "      <td>0</td>\n",
       "      <td>2019-12-17 13:41:34</td>\n",
       "      <td>지하철역 위의 임대아파트 건설 후 청년, 신혼부분에게 임대\\n서울시의 경우 지하철이...</td>\n",
       "      <td>[지하철역, 위, 임대아파트, 건설, 청년, 신혼, 임대, 지하철, 상당히, 발달,...</td>\n",
       "      <td>[지하철역, 위, 의, 임대아파트, 건설, 청년, 신혼, 에게, 임대, 의, 지하철...</td>\n",
       "    </tr>\n",
       "    <tr>\n",
       "      <th>3</th>\n",
       "      <td>186200</td>\n",
       "      <td>재활용 정거장이나 원룸에 재활용 쓰레기통 지원을 늘려주세요</td>\n",
       "      <td>몇몇구에서는 재활용 쓰레기 분리수거함을 원룸촌에 제공해주는 것으로 알고있는데요. 대...</td>\n",
       "      <td>0</td>\n",
       "      <td>2019-12-17 11:10:03</td>\n",
       "      <td>재활용 정거장이나 원룸에 재활용 쓰레기통 지원을 늘려주세요\\n몇몇구에서는 재활용 쓰...</td>\n",
       "      <td>[재활용, 정거장, 원룸, 재활용, 쓰레기통, 지원, 늘리다, 세요, 몇몇, 구, ...</td>\n",
       "      <td>[재활용, 정거장, 이나, 원룸, 에, 재활용, 쓰레기통, 지원, 늘리, 어, 주,...</td>\n",
       "    </tr>\n",
       "    <tr>\n",
       "      <th>4</th>\n",
       "      <td>186199</td>\n",
       "      <td>임산부석을 마냥 비워두지 않는 방법</td>\n",
       "      <td>&lt;p&gt;저는 지하철을 자주 애용하는 여성입니다.&lt;/p&gt;&lt;p&gt;임산부석이 지정되어 있어 ...</td>\n",
       "      <td>0</td>\n",
       "      <td>2019-12-17 10:55:54</td>\n",
       "      <td>임산부석을 마냥 비워두지 않는 방법\\n저는 지하철을 자주 애용하는 여성입니다.임산부...</td>\n",
       "      <td>[임산부, 석, 마냥, 비우다, 지하철, 자주, 애용, 여성, 임산부, 석이, 지정...</td>\n",
       "      <td>[임산부, 석, 마냥, 비우, 어, 두, 지, 않, 는, 저는, 지하철, 자주, 애...</td>\n",
       "    </tr>\n",
       "    <tr>\n",
       "      <th>...</th>\n",
       "      <td>...</td>\n",
       "      <td>...</td>\n",
       "      <td>...</td>\n",
       "      <td>...</td>\n",
       "      <td>...</td>\n",
       "      <td>...</td>\n",
       "      <td>...</td>\n",
       "      <td>...</td>\n",
       "    </tr>\n",
       "    <tr>\n",
       "      <th>4319</th>\n",
       "      <td>180039</td>\n",
       "      <td>버스 정류장 근처의 빛  공해를   해결해 주세요  !</td>\n",
       "      <td>&amp;nbsp;강동구 5호선 명일역 3번 출구에서 올라오면&amp;nbsp; &amp;nbsp;바로&amp;...</td>\n",
       "      <td>0</td>\n",
       "      <td>2017-12-22 16:37:33</td>\n",
       "      <td>버스 정류장 근처의 빛  공해를   해결해 주세요  !\\n강동구 5호선 명일역 3번...</td>\n",
       "      <td>[버스, 정류장, 근처, 빛, 공해, 해결, 강동구, 명일, 역, 출구, 올라오다,...</td>\n",
       "      <td>[버스, 정류장, 근처, 의, 빛, , 공해, 를, , , 해결, 하, 아, 주, ...</td>\n",
       "    </tr>\n",
       "    <tr>\n",
       "      <th>4320</th>\n",
       "      <td>180038</td>\n",
       "      <td>서울시내버스 안내방송을 부탁드려요 !</td>\n",
       "      <td>&amp;nbsp;서울 시내 버스를 자주 이용하는 편입니다.&amp;nbsp; 버스 내부에는 주로...</td>\n",
       "      <td>1</td>\n",
       "      <td>2017-12-21 18:44:46</td>\n",
       "      <td>서울시내버스 안내방송을 부탁드려요 !\\n서울 시내 버스를 자주 이용하는 편입니다. ...</td>\n",
       "      <td>[서울시내, 버스, 안내, 방송, 드리다, 시내, 버스, 자주, 버스, 내부, 주로...</td>\n",
       "      <td>[서울시내, 버스, 안내, 방송, 드리, 어요, 시내, 버스, 를, 자주, 하, 는...</td>\n",
       "    </tr>\n",
       "    <tr>\n",
       "      <th>4321</th>\n",
       "      <td>180037</td>\n",
       "      <td>서울역 인근 버스정류장 명 병행표기 제안.</td>\n",
       "      <td>&lt;p&gt;안녕하세요.&lt;/p&gt;&lt;p&gt;버스를 타고 서울역을 자주 지나는데 항상 이에 의문을 ...</td>\n",
       "      <td>1</td>\n",
       "      <td>2017-12-21 11:13:14</td>\n",
       "      <td>서울역 인근 버스정류장 명 병행표기 제안.\\n안녕하세요.버스를 타고 서울역을 자주 ...</td>\n",
       "      <td>[서울역, 인근, 버스정류장, 병행, 표기, 버스, 타다, 서울역, 자주, 항상, ...</td>\n",
       "      <td>[서울역, 인근, 버스정류장, 명, 병행, 표기, 버스, 를, 타, 고, 서울역, ...</td>\n",
       "    </tr>\n",
       "    <tr>\n",
       "      <th>4322</th>\n",
       "      <td>180036</td>\n",
       "      <td>따릉이 보관소 설치 제안</td>\n",
       "      <td>서초역 주변에 따릉이 보관소 설치를 제안합니다!</td>\n",
       "      <td>0</td>\n",
       "      <td>2017-12-20 18:54:23</td>\n",
       "      <td>따릉이 보관소 설치 제안\\n서초역 주변에 따릉이 보관소 설치를 제안합니다!</td>\n",
       "      <td>[따릉이, 보관소, 설치, 서초역, 따릉이, 보관소, 설치]</td>\n",
       "      <td>[따릉이, 보관소, 설치, 서초역, 에, 따릉이, 보관소, 설치, 를, 하, ㅂ니다]</td>\n",
       "    </tr>\n",
       "    <tr>\n",
       "      <th>4323</th>\n",
       "      <td>180033</td>\n",
       "      <td>이륜차(오토바이)업소 주변 행정지도 통해 거리질서 확립필요</td>\n",
       "      <td>&lt;p&gt;서울시내 어디를 가보든지간에 이륜차 수리업소를 쉽게 볼 수가 있다,&lt;/p&gt;&lt;p...</td>\n",
       "      <td>0</td>\n",
       "      <td>2017-12-18 20:33:46</td>\n",
       "      <td>이륜차(오토바이)업소 주변 행정지도 통해 거리질서 확립필요\\n서울시내 어디를 가보든...</td>\n",
       "      <td>[이륜차, 오토바이, 업소, 행정지, 거리, 질서, 확립, 필요, 서울시내, 가다,...</td>\n",
       "      <td>[이륜차, 오토바이, 업소, 행정지, 도, 통하, 아, 거리, 질서, 확립, 필요,...</td>\n",
       "    </tr>\n",
       "  </tbody>\n",
       "</table>\n",
       "<p>4195 rows × 8 columns</p>\n",
       "</div>"
      ],
      "text/plain": [
       "        제안번호                                              제안제목  \\\n",
       "0     186203         중금속 문제가 심각해지고 있는데 중금속으로 분리할수 있는 방법은 없을까요?   \n",
       "1     186202  제설제에 사용되는 cacl2에서 염소가 환경오염을 일으킨다는데 친환경적인걸로 바꿔주새요   \n",
       "2     186201                  지하철역 위의 임대아파트 건설 후 청년, 신혼부분에게 임대   \n",
       "3     186200                  재활용 정거장이나 원룸에 재활용 쓰레기통 지원을 늘려주세요   \n",
       "4     186199                               임산부석을 마냥 비워두지 않는 방법   \n",
       "...      ...                                               ...   \n",
       "4319  180039                    버스 정류장 근처의 빛  공해를   해결해 주세요  !   \n",
       "4320  180038                              서울시내버스 안내방송을 부탁드려요 !   \n",
       "4321  180037                           서울역 인근 버스정류장 명 병행표기 제안.   \n",
       "4322  180036                                     따릉이 보관소 설치 제안   \n",
       "4323  180033                  이륜차(오토바이)업소 주변 행정지도 통해 거리질서 확립필요   \n",
       "\n",
       "                                                   제안내용  득표  \\\n",
       "0     <span style=\"font-size: 12px;\">중금속 문제가 심각해지고 있...   0   \n",
       "1     제설제에 사용되는 cacl2에서 염소가 환경오염을 일으킨다는데 친환경적인걸로 바꿔주...   0   \n",
       "2     서울시의 경우 지하철이 상당히 발달되어 있어 교통서비스를 제공하고 있습니다.&nbs...   0   \n",
       "3     몇몇구에서는 재활용 쓰레기 분리수거함을 원룸촌에 제공해주는 것으로 알고있는데요. 대...   0   \n",
       "4     <p>저는 지하철을 자주 애용하는 여성입니다.</p><p>임산부석이 지정되어 있어 ...   0   \n",
       "...                                                 ...  ..   \n",
       "4319  &nbsp;강동구 5호선 명일역 3번 출구에서 올라오면&nbsp; &nbsp;바로&...   0   \n",
       "4320  &nbsp;서울 시내 버스를 자주 이용하는 편입니다.&nbsp; 버스 내부에는 주로...   1   \n",
       "4321  <p>안녕하세요.</p><p>버스를 타고 서울역을 자주 지나는데 항상 이에 의문을 ...   1   \n",
       "4322                         서초역 주변에 따릉이 보관소 설치를 제안합니다!   0   \n",
       "4323  <p>서울시내 어디를 가보든지간에 이륜차 수리업소를 쉽게 볼 수가 있다,</p><p...   0   \n",
       "\n",
       "                  제안등록일자                                           contents  \\\n",
       "0    2019-12-18 01:21:40  중금속 문제가 심각해지고 있는데 중금속으로 분리할수 있는 방법은 없을까요?\\n중금속...   \n",
       "1    2019-12-18 00:41:00  제설제에 사용되는 cacl2에서 염소가 환경오염을 일으킨다는데 친환경적인걸로 바꿔주...   \n",
       "2    2019-12-17 13:41:34  지하철역 위의 임대아파트 건설 후 청년, 신혼부분에게 임대\\n서울시의 경우 지하철이...   \n",
       "3    2019-12-17 11:10:03  재활용 정거장이나 원룸에 재활용 쓰레기통 지원을 늘려주세요\\n몇몇구에서는 재활용 쓰...   \n",
       "4    2019-12-17 10:55:54  임산부석을 마냥 비워두지 않는 방법\\n저는 지하철을 자주 애용하는 여성입니다.임산부...   \n",
       "...                  ...                                                ...   \n",
       "4319 2017-12-22 16:37:33  버스 정류장 근처의 빛  공해를   해결해 주세요  !\\n강동구 5호선 명일역 3번...   \n",
       "4320 2017-12-21 18:44:46  서울시내버스 안내방송을 부탁드려요 !\\n서울 시내 버스를 자주 이용하는 편입니다. ...   \n",
       "4321 2017-12-21 11:13:14  서울역 인근 버스정류장 명 병행표기 제안.\\n안녕하세요.버스를 타고 서울역을 자주 ...   \n",
       "4322 2017-12-20 18:54:23          따릉이 보관소 설치 제안\\n서초역 주변에 따릉이 보관소 설치를 제안합니다!   \n",
       "4323 2017-12-18 20:33:46  이륜차(오토바이)업소 주변 행정지도 통해 거리질서 확립필요\\n서울시내 어디를 가보든...   \n",
       "\n",
       "                                                 tokens  \\\n",
       "0     [중금속, 중금속, 분리, 중금속, 중금속, 분리, 폐수, 속, 강물, 속, 수돗물...   \n",
       "1     [제설, 염소, 환경오염, 일으키다, 환경, 바꾸다, 새, 요, 제설, 염소, 환경...   \n",
       "2     [지하철역, 위, 임대아파트, 건설, 청년, 신혼, 임대, 지하철, 상당히, 발달,...   \n",
       "3     [재활용, 정거장, 원룸, 재활용, 쓰레기통, 지원, 늘리다, 세요, 몇몇, 구, ...   \n",
       "4     [임산부, 석, 마냥, 비우다, 지하철, 자주, 애용, 여성, 임산부, 석이, 지정...   \n",
       "...                                                 ...   \n",
       "4319  [버스, 정류장, 근처, 빛, 공해, 해결, 강동구, 명일, 역, 출구, 올라오다,...   \n",
       "4320  [서울시내, 버스, 안내, 방송, 드리다, 시내, 버스, 자주, 버스, 내부, 주로...   \n",
       "4321  [서울역, 인근, 버스정류장, 병행, 표기, 버스, 타다, 서울역, 자주, 항상, ...   \n",
       "4322                  [따릉이, 보관소, 설치, 서초역, 따릉이, 보관소, 설치]   \n",
       "4323  [이륜차, 오토바이, 업소, 행정지, 거리, 질서, 확립, 필요, 서울시내, 가다,...   \n",
       "\n",
       "                                             all_tokens  \n",
       "0     [중금속, 가, 심각, 하, 고, 있, 는데, 중금속, 으로, 분리, 하, ㄹ, 수...  \n",
       "1     [제설, 제, 에, 되, 는, cacl, 2, 에서, 염소, 가, 환경오염, 일으키...  \n",
       "2     [지하철역, 위, 의, 임대아파트, 건설, 청년, 신혼, 에게, 임대, 의, 지하철...  \n",
       "3     [재활용, 정거장, 이나, 원룸, 에, 재활용, 쓰레기통, 지원, 늘리, 어, 주,...  \n",
       "4     [임산부, 석, 마냥, 비우, 어, 두, 지, 않, 는, 저는, 지하철, 자주, 애...  \n",
       "...                                                 ...  \n",
       "4319  [버스, 정류장, 근처, 의, 빛, , 공해, 를, , , 해결, 하, 아, 주, ...  \n",
       "4320  [서울시내, 버스, 안내, 방송, 드리, 어요, 시내, 버스, 를, 자주, 하, 는...  \n",
       "4321  [서울역, 인근, 버스정류장, 명, 병행, 표기, 버스, 를, 타, 고, 서울역, ...  \n",
       "4322    [따릉이, 보관소, 설치, 서초역, 에, 따릉이, 보관소, 설치, 를, 하, ㅂ니다]  \n",
       "4323  [이륜차, 오토바이, 업소, 행정지, 도, 통하, 아, 거리, 질서, 확립, 필요,...  \n",
       "\n",
       "[4195 rows x 8 columns]"
      ]
     },
     "execution_count": 6,
     "metadata": {},
     "output_type": "execute_result"
    }
   ],
   "source": [
    "test_df"
   ]
  },
  {
   "cell_type": "markdown",
   "metadata": {},
   "source": [
    "# 민원 건당 단어 수 #\n",
    "## Word2vec 모델 파라메터 값 설정에 참고될 통계량 ##"
   ]
  },
  {
   "cell_type": "markdown",
   "metadata": {},
   "source": [
    "### 학습 데이터 ###"
   ]
  },
  {
   "cell_type": "code",
   "execution_count": 7,
   "metadata": {},
   "outputs": [
    {
     "data": {
      "text/plain": [
       "count    9872.000000\n",
       "mean      103.408934\n",
       "std       104.499774\n",
       "min         0.000000\n",
       "25%        47.000000\n",
       "50%        76.000000\n",
       "75%       127.000000\n",
       "max      3364.000000\n",
       "Name: tokens, dtype: float64"
      ]
     },
     "execution_count": 7,
     "metadata": {},
     "output_type": "execute_result"
    }
   ],
   "source": [
    "train_df['tokens'].str.len().describe()"
   ]
  },
  {
   "cell_type": "markdown",
   "metadata": {},
   "source": [
    "### 테스트 데이터 ###"
   ]
  },
  {
   "cell_type": "code",
   "execution_count": 8,
   "metadata": {},
   "outputs": [
    {
     "data": {
      "text/plain": [
       "count    4195.000000\n",
       "mean       88.539690\n",
       "std       132.469984\n",
       "min         0.000000\n",
       "25%        24.000000\n",
       "50%        56.000000\n",
       "75%       110.000000\n",
       "max      3532.000000\n",
       "Name: tokens, dtype: float64"
      ]
     },
     "execution_count": 8,
     "metadata": {},
     "output_type": "execute_result"
    }
   ],
   "source": [
    "test_df['tokens'].str.len().describe()"
   ]
  },
  {
   "cell_type": "markdown",
   "metadata": {},
   "source": [
    "# 01 Word2vec 모델링 #\n",
    "## 코드 참고 : https://programmers.co.kr/learn/courses/21"
   ]
  },
  {
   "cell_type": "markdown",
   "metadata": {},
   "source": [
    "## Word2vec 파라미터 값 지정 ##"
   ]
  },
  {
   "cell_type": "code",
   "execution_count": 10,
   "metadata": {},
   "outputs": [
    {
     "name": "stderr",
     "output_type": "stream",
     "text": [
      "C:\\Users\\dkq50\\anaconda3\\envs\\hamtori\\lib\\site-packages\\openpyxl\\styles\\stylesheet.py:226: UserWarning: Workbook contains no default style, apply openpyxl's default\n",
      "  warn(\"Workbook contains no default style, apply openpyxl's default\")\n"
     ]
    }
   ],
   "source": [
    "train = pd.read_csv('train.csv',sep='\\t')\n",
    "test = pd.read_excel('민주주의 서울 자유제안 정보_17_19.xlsx')"
   ]
  },
  {
   "cell_type": "code",
   "execution_count": 11,
   "metadata": {},
   "outputs": [],
   "source": [
    "train_documents = train_df['tokens'].to_list() # 학습데이터 토크나이징 완료한 문서\n",
    "test_documents = test_df['tokens'].to_list() # 학습데이터 토크나이징 완료한 문서"
   ]
  },
  {
   "cell_type": "code",
   "execution_count": 12,
   "metadata": {},
   "outputs": [],
   "source": [
    "num_features = 500 # 문자 벡터 차원 수\n",
    "min_word_count = 40 # 최소 문자 수 (등장빈도 40회 이하인 단어는 취급 X)\n",
    "num_workers = 6 # 병렬 처리 스레드 수\n",
    "context = 20 # 문자열 창 크기\n",
    "downsampling = 1e-3 # 문자 빈도수 Downsample"
   ]
  },
  {
   "cell_type": "markdown",
   "metadata": {},
   "source": [
    "## 모델 학습 ##"
   ]
  },
  {
   "cell_type": "code",
   "execution_count": 13,
   "metadata": {},
   "outputs": [
    {
     "name": "stderr",
     "output_type": "stream",
     "text": [
      "2022-03-11 14:50:46,838 : INFO : collecting all words and their counts\n",
      "2022-03-11 14:50:46,840 : INFO : PROGRESS: at sentence #0, processed 0 words, keeping 0 word types\n",
      "2022-03-11 14:50:47,008 : INFO : collected 28791 word types from a corpus of 1020853 raw words and 9872 sentences\n",
      "2022-03-11 14:50:47,008 : INFO : Creating a fresh vocabulary\n",
      "2022-03-11 14:50:47,033 : INFO : Word2Vec lifecycle event {'msg': 'effective_min_count=40 retains 3843 unique words (13.347921225382931%% of original 28791, drops 24948)', 'datetime': '2022-03-11T14:50:47.033318', 'gensim': '4.1.2', 'python': '3.9.7 (default, Sep 16 2021, 16:59:28) [MSC v.1916 64 bit (AMD64)]', 'platform': 'Windows-10-10.0.22000-SP0', 'event': 'prepare_vocab'}\n",
      "2022-03-11 14:50:47,034 : INFO : Word2Vec lifecycle event {'msg': 'effective_min_count=40 leaves 864418 word corpus (84.67605032262236%% of original 1020853, drops 156435)', 'datetime': '2022-03-11T14:50:47.034318', 'gensim': '4.1.2', 'python': '3.9.7 (default, Sep 16 2021, 16:59:28) [MSC v.1916 64 bit (AMD64)]', 'platform': 'Windows-10-10.0.22000-SP0', 'event': 'prepare_vocab'}\n",
      "2022-03-11 14:50:47,053 : INFO : deleting the raw counts dictionary of 28791 items\n",
      "2022-03-11 14:50:47,054 : INFO : sample=0.001 downsamples 28 most-common words\n",
      "2022-03-11 14:50:47,054 : INFO : Word2Vec lifecycle event {'msg': 'downsampling leaves estimated 833399.8703963964 word corpus (96.4%% of prior 864418)', 'datetime': '2022-03-11T14:50:47.054570', 'gensim': '4.1.2', 'python': '3.9.7 (default, Sep 16 2021, 16:59:28) [MSC v.1916 64 bit (AMD64)]', 'platform': 'Windows-10-10.0.22000-SP0', 'event': 'prepare_vocab'}\n",
      "2022-03-11 14:50:47,085 : INFO : estimated required memory for 3843 words and 500 dimensions: 17293500 bytes\n",
      "2022-03-11 14:50:47,086 : INFO : resetting layer weights\n",
      "2022-03-11 14:50:47,093 : INFO : Word2Vec lifecycle event {'update': False, 'trim_rule': 'None', 'datetime': '2022-03-11T14:50:47.093097', 'gensim': '4.1.2', 'python': '3.9.7 (default, Sep 16 2021, 16:59:28) [MSC v.1916 64 bit (AMD64)]', 'platform': 'Windows-10-10.0.22000-SP0', 'event': 'build_vocab'}\n",
      "2022-03-11 14:50:47,094 : INFO : Word2Vec lifecycle event {'msg': 'training model with 6 workers on 3843 vocabulary and 500 features, using sg=0 hs=0 sample=0.001 negative=5 window=20 shrink_windows=True', 'datetime': '2022-03-11T14:50:47.094098', 'gensim': '4.1.2', 'python': '3.9.7 (default, Sep 16 2021, 16:59:28) [MSC v.1916 64 bit (AMD64)]', 'platform': 'Windows-10-10.0.22000-SP0', 'event': 'train'}\n",
      "2022-03-11 14:50:47,941 : INFO : worker thread finished; awaiting finish of 5 more threads\n",
      "2022-03-11 14:50:47,942 : INFO : worker thread finished; awaiting finish of 4 more threads\n",
      "2022-03-11 14:50:47,950 : INFO : worker thread finished; awaiting finish of 3 more threads\n",
      "2022-03-11 14:50:47,957 : INFO : worker thread finished; awaiting finish of 2 more threads\n",
      "2022-03-11 14:50:47,959 : INFO : worker thread finished; awaiting finish of 1 more threads\n",
      "2022-03-11 14:50:47,967 : INFO : worker thread finished; awaiting finish of 0 more threads\n",
      "2022-03-11 14:50:47,968 : INFO : EPOCH - 1 : training on 1020853 raw words (833342 effective words) took 0.9s, 958361 effective words/s\n",
      "2022-03-11 14:50:48,835 : INFO : worker thread finished; awaiting finish of 5 more threads\n",
      "2022-03-11 14:50:48,838 : INFO : worker thread finished; awaiting finish of 4 more threads\n",
      "2022-03-11 14:50:48,842 : INFO : worker thread finished; awaiting finish of 3 more threads\n",
      "2022-03-11 14:50:48,844 : INFO : worker thread finished; awaiting finish of 2 more threads\n",
      "2022-03-11 14:50:48,860 : INFO : worker thread finished; awaiting finish of 1 more threads\n",
      "2022-03-11 14:50:48,861 : INFO : worker thread finished; awaiting finish of 0 more threads\n",
      "2022-03-11 14:50:48,862 : INFO : EPOCH - 2 : training on 1020853 raw words (833594 effective words) took 0.9s, 935669 effective words/s\n",
      "2022-03-11 14:50:49,725 : INFO : worker thread finished; awaiting finish of 5 more threads\n",
      "2022-03-11 14:50:49,726 : INFO : worker thread finished; awaiting finish of 4 more threads\n",
      "2022-03-11 14:50:49,729 : INFO : worker thread finished; awaiting finish of 3 more threads\n",
      "2022-03-11 14:50:49,732 : INFO : worker thread finished; awaiting finish of 2 more threads\n",
      "2022-03-11 14:50:49,740 : INFO : worker thread finished; awaiting finish of 1 more threads\n",
      "2022-03-11 14:50:49,752 : INFO : worker thread finished; awaiting finish of 0 more threads\n",
      "2022-03-11 14:50:49,753 : INFO : EPOCH - 3 : training on 1020853 raw words (833335 effective words) took 0.9s, 939207 effective words/s\n",
      "2022-03-11 14:50:50,640 : INFO : worker thread finished; awaiting finish of 5 more threads\n",
      "2022-03-11 14:50:50,647 : INFO : worker thread finished; awaiting finish of 4 more threads\n",
      "2022-03-11 14:50:50,662 : INFO : worker thread finished; awaiting finish of 3 more threads\n",
      "2022-03-11 14:50:50,665 : INFO : worker thread finished; awaiting finish of 2 more threads\n",
      "2022-03-11 14:50:50,666 : INFO : worker thread finished; awaiting finish of 1 more threads\n",
      "2022-03-11 14:50:50,670 : INFO : worker thread finished; awaiting finish of 0 more threads\n",
      "2022-03-11 14:50:50,671 : INFO : EPOCH - 4 : training on 1020853 raw words (833593 effective words) took 0.9s, 910248 effective words/s\n",
      "2022-03-11 14:50:51,517 : INFO : worker thread finished; awaiting finish of 5 more threads\n",
      "2022-03-11 14:50:51,521 : INFO : worker thread finished; awaiting finish of 4 more threads\n",
      "2022-03-11 14:50:51,528 : INFO : worker thread finished; awaiting finish of 3 more threads\n",
      "2022-03-11 14:50:51,536 : INFO : worker thread finished; awaiting finish of 2 more threads\n",
      "2022-03-11 14:50:51,541 : INFO : worker thread finished; awaiting finish of 1 more threads\n",
      "2022-03-11 14:50:51,541 : INFO : worker thread finished; awaiting finish of 0 more threads\n",
      "2022-03-11 14:50:51,542 : INFO : EPOCH - 5 : training on 1020853 raw words (833236 effective words) took 0.9s, 961846 effective words/s\n",
      "2022-03-11 14:50:51,542 : INFO : Word2Vec lifecycle event {'msg': 'training on 5104265 raw words (4167100 effective words) took 4.4s, 936750 effective words/s', 'datetime': '2022-03-11T14:50:51.542732', 'gensim': '4.1.2', 'python': '3.9.7 (default, Sep 16 2021, 16:59:28) [MSC v.1916 64 bit (AMD64)]', 'platform': 'Windows-10-10.0.22000-SP0', 'event': 'train'}\n",
      "2022-03-11 14:50:51,543 : INFO : Word2Vec lifecycle event {'params': 'Word2Vec(vocab=3843, vector_size=500, alpha=0.025)', 'datetime': '2022-03-11T14:50:51.543776', 'gensim': '4.1.2', 'python': '3.9.7 (default, Sep 16 2021, 16:59:28) [MSC v.1916 64 bit (AMD64)]', 'platform': 'Windows-10-10.0.22000-SP0', 'event': 'created'}\n"
     ]
    }
   ],
   "source": [
    "# 문장을 이용하여 단어와 벡터를 생성한다.\n",
    "model = word2vec.Word2Vec(train_documents,\n",
    "                          workers=num_workers, \n",
    "                          vector_size=num_features, \n",
    "                          min_count=min_word_count,\n",
    "                          window=context,\n",
    "                          sample=downsampling)"
   ]
  },
  {
   "cell_type": "code",
   "execution_count": 14,
   "metadata": {},
   "outputs": [
    {
     "data": {
      "text/plain": [
       "<gensim.models.word2vec.Word2Vec at 0x1f95f30caf0>"
      ]
     },
     "execution_count": 14,
     "metadata": {},
     "output_type": "execute_result"
    }
   ],
   "source": [
    "# 모델 확인\n",
    "model"
   ]
  },
  {
   "cell_type": "markdown",
   "metadata": {},
   "source": [
    "### 특정 단어와 가장 유사한 단어 추출 ###"
   ]
  },
  {
   "cell_type": "code",
   "execution_count": 15,
   "metadata": {},
   "outputs": [
    {
     "data": {
      "text/plain": [
       "[('공공자전거', 0.7555918097496033),\n",
       " ('따릉이', 0.7238218784332275),\n",
       " ('도난', 0.7216523289680481),\n",
       " ('자전거도로', 0.7000136971473694),\n",
       " ('헬멧', 0.654982328414917),\n",
       " ('보관소', 0.6409268379211426),\n",
       " ('대여소', 0.6382239460945129),\n",
       " ('보관대', 0.6377372741699219),\n",
       " ('치대', 0.629435658454895),\n",
       " ('안전모', 0.5749517679214478)]"
      ]
     },
     "execution_count": 15,
     "metadata": {},
     "output_type": "execute_result"
    }
   ],
   "source": [
    "model.wv.most_similar('자전거')"
   ]
  },
  {
   "cell_type": "code",
   "execution_count": 16,
   "metadata": {},
   "outputs": [
    {
     "data": {
      "text/plain": [
       "[('도서', 0.8771714568138123),\n",
       " ('책', 0.8658676743507385),\n",
       " ('시립도서관', 0.855159342288971),\n",
       " ('공공도서관', 0.8231871128082275),\n",
       " ('열람실', 0.8025482296943665),\n",
       " ('독서', 0.691403865814209),\n",
       " ('서점', 0.6545568108558655),\n",
       " ('시립', 0.60478276014328),\n",
       " ('대출', 0.5985350608825684),\n",
       " ('구립', 0.5756791234016418)]"
      ]
     },
     "execution_count": 16,
     "metadata": {},
     "output_type": "execute_result"
    }
   ],
   "source": [
    "model.wv.most_similar('도서관')"
   ]
  },
  {
   "cell_type": "code",
   "execution_count": 17,
   "metadata": {},
   "outputs": [
    {
     "data": {
      "text/plain": [
       "[('흡연', 0.8614065647125244),\n",
       " ('흡연자', 0.8569605350494385),\n",
       " ('피우다', 0.8519216179847717),\n",
       " ('흡연구역', 0.8195040225982666),\n",
       " ('꽁초', 0.8059298396110535),\n",
       " ('간접흡연', 0.8048350214958191),\n",
       " ('술', 0.8011831641197205),\n",
       " ('담배꽁초', 0.756577730178833),\n",
       " ('침', 0.7064675688743591),\n",
       " ('금연구역', 0.697826623916626)]"
      ]
     },
     "execution_count": 17,
     "metadata": {},
     "output_type": "execute_result"
    }
   ],
   "source": [
    "model.wv.most_similar('담배')"
   ]
  },
  {
   "cell_type": "markdown",
   "metadata": {},
   "source": [
    "### 입력한 복수의 단어 中 유사하지 않은 단어 추출 ###"
   ]
  },
  {
   "cell_type": "code",
   "execution_count": 18,
   "metadata": {},
   "outputs": [
    {
     "data": {
      "text/plain": [
       "'자전거'"
      ]
     },
     "execution_count": 18,
     "metadata": {},
     "output_type": "execute_result"
    }
   ],
   "source": [
    "model.wv.doesnt_match('자전거 버스 택시'.split())"
   ]
  },
  {
   "cell_type": "code",
   "execution_count": 19,
   "metadata": {},
   "outputs": [
    {
     "data": {
      "text/plain": [
       "'시민'"
      ]
     },
     "execution_count": 19,
     "metadata": {},
     "output_type": "execute_result"
    }
   ],
   "source": [
    "model.wv.doesnt_match('임산부 노인 시민'.split())"
   ]
  },
  {
   "cell_type": "markdown",
   "metadata": {},
   "source": [
    "### 학습 완료 후 필요없는 메모리 unload ###"
   ]
  },
  {
   "cell_type": "code",
   "execution_count": 20,
   "metadata": {},
   "outputs": [
    {
     "name": "stderr",
     "output_type": "stream",
     "text": [
      "C:\\Users\\dkq50\\AppData\\Local\\Temp/ipykernel_21632/1992334471.py:1: DeprecationWarning: Call to deprecated `init_sims` (Gensim 4.0.0 implemented internal optimizations that make calls to init_sims() unnecessary. init_sims() is now obsoleted and will be completely removed in future versions. See https://github.com/RaRe-Technologies/gensim/wiki/Migrating-from-Gensim-3.x-to-4).\n",
      "  model.init_sims(replace=True)\n",
      "2022-03-11 14:50:52,950 : WARNING : destructive init_sims(replace=True) deprecated & no longer required for space-efficiency\n"
     ]
    }
   ],
   "source": [
    "model.init_sims(replace=True)"
   ]
  },
  {
   "cell_type": "markdown",
   "metadata": {},
   "source": [
    "### 모델 저장 ###"
   ]
  },
  {
   "cell_type": "code",
   "execution_count": 21,
   "metadata": {},
   "outputs": [
    {
     "name": "stderr",
     "output_type": "stream",
     "text": [
      "2022-03-11 14:50:53,626 : INFO : Word2Vec lifecycle event {'fname_or_handle': './500features_40minwords_20context', 'separately': 'None', 'sep_limit': 10485760, 'ignore': frozenset(), 'datetime': '2022-03-11T14:50:53.626624', 'gensim': '4.1.2', 'python': '3.9.7 (default, Sep 16 2021, 16:59:28) [MSC v.1916 64 bit (AMD64)]', 'platform': 'Windows-10-10.0.22000-SP0', 'event': 'saving'}\n",
      "2022-03-11 14:50:53,627 : INFO : not storing attribute cum_table\n",
      "2022-03-11 14:50:53,641 : INFO : saved ./500features_40minwords_20context\n"
     ]
    }
   ],
   "source": [
    "model_name = '500features_40minwords_20context' #모델 이름 지정\n",
    "model.save(f'./{model_name}')"
   ]
  },
  {
   "cell_type": "markdown",
   "metadata": {},
   "source": [
    "### 모델 로드"
   ]
  },
  {
   "cell_type": "code",
   "execution_count": 22,
   "metadata": {},
   "outputs": [
    {
     "name": "stderr",
     "output_type": "stream",
     "text": [
      "2022-03-11 14:50:54,572 : INFO : loading Word2Vec object from ./500features_40minwords_20context\n",
      "2022-03-11 14:50:54,583 : INFO : loading wv recursively from ./500features_40minwords_20context.wv.* with mmap=None\n",
      "2022-03-11 14:50:54,584 : INFO : setting ignored attribute cum_table to None\n",
      "2022-03-11 14:50:54,618 : INFO : Word2Vec lifecycle event {'fname': './500features_40minwords_20context', 'datetime': '2022-03-11T14:50:54.618199', 'gensim': '4.1.2', 'python': '3.9.7 (default, Sep 16 2021, 16:59:28) [MSC v.1916 64 bit (AMD64)]', 'platform': 'Windows-10-10.0.22000-SP0', 'event': 'loaded'}\n"
     ]
    }
   ],
   "source": [
    "# 추후 필요할 때 활용\n",
    "model = word2vec.Word2Vec.load('./500features_40minwords_20context')"
   ]
  },
  {
   "cell_type": "markdown",
   "metadata": {},
   "source": [
    "### Word2Vec 모델"
   ]
  },
  {
   "cell_type": "code",
   "execution_count": 23,
   "metadata": {},
   "outputs": [],
   "source": [
    "from gensim.models import Word2Vec\n",
    "\n",
    "# 단어벡터를 구한다.\n",
    "word_vectors = model.wv\n",
    "\n",
    "vocabs= word_vectors.key_to_index.keys()\n",
    "word_vectors_list = [word_vectors[v] for v in vocabs]"
   ]
  },
  {
   "cell_type": "markdown",
   "metadata": {},
   "source": [
    "### 임베딩 결과 시각화\n",
    "#### 1) PCA\n",
    "300차원 벡터를 시각화하기 위해서는 2차원 혹은 3차원으로 벡터를 축소하는 과정이 필요합니다. 이런 방식을 '차원 축소'라고 부르고, PCA는 대표적인 차원 축소 방식 중 하나 입니다. "
   ]
  },
  {
   "cell_type": "code",
   "execution_count": 24,
   "metadata": {},
   "outputs": [],
   "source": [
    "from sklearn.decomposition import PCA\n",
    "pca = PCA(n_components=2)\n",
    "xys = pca.fit_transform(word_vectors_list[:100])\n",
    "xs = xys[:,0]\n",
    "ys = xys[:,1]"
   ]
  },
  {
   "cell_type": "markdown",
   "metadata": {},
   "source": [
    "사이킷런의 PCA 모듈을 이용했다. n_components는 input 데이터를 몇 차원으로 축소시킬 것인지를 의미합니다. 2차원 벡터의 x 값은 xs에, y 값은 ys에 저장했습니다."
   ]
  },
  {
   "cell_type": "code",
   "execution_count": 25,
   "metadata": {},
   "outputs": [],
   "source": [
    "# 단어와 2차원 X축의 값, Y축의 값을 입력받아 2차원 그래프를 그린다\n",
    "def plot_2d_graph(vocabs, xs, ys):\n",
    "    plt.figure(figsize=(15 ,10))\n",
    "    plt.scatter(xs, ys, marker = 'o')\n",
    "    for i, v in enumerate(list(vocabs)[:100]):\n",
    "        plt.annotate(v, xy=(xs[i], ys[i]))"
   ]
  },
  {
   "cell_type": "code",
   "execution_count": 26,
   "metadata": {},
   "outputs": [
    {
     "data": {
      "image/png": "[encoded data removed]",
      "text/plain": [
       "<Figure size 1080x720 with 1 Axes>"
      ]
     },
     "metadata": {
      "needs_background": "light"
     },
     "output_type": "display_data"
    }
   ],
   "source": [
    "hangul()\n",
    "plot_2d_graph(vocabs, xs, ys)"
   ]
  },
  {
   "cell_type": "markdown",
   "metadata": {},
   "source": [
    "많은 벡터가 가운데에 모여 있는 것을 확인할 수 있습니다. 300차원의 벡터를 2차원에 나타내다 보니 결과가 아주 우수하다고 보기는 어려움"
   ]
  },
  {
   "cell_type": "markdown",
   "metadata": {},
   "source": [
    "#### 2) t-SNE\n",
    "PCA가 자주 이용되는 차원 축소 방식이긴 하지만, 위의 결과와 같이 PCA는 군집의 변별력을 죽인다는 단점이 있습니다. (자세한 내용은 여기서 확인할 수 있다.) 이러한 단점을 개선한 방식이 t-SNE 차원축소 방식입니다. 실제로 임베딩 결과는 t-SNE로 나타내는 경우가 많습니다."
   ]
  },
  {
   "cell_type": "code",
   "execution_count": 27,
   "metadata": {},
   "outputs": [
    {
     "name": "stderr",
     "output_type": "stream",
     "text": [
      "C:\\Users\\dkq50\\anaconda3\\envs\\hamtori\\lib\\site-packages\\sklearn\\manifold\\_t_sne.py:780: FutureWarning: The default initialization in TSNE will change from 'random' to 'pca' in 1.2.\n",
      "  warnings.warn(\n"
     ]
    },
    {
     "data": {
      "image/png": "[encoded data removed]",
      "text/plain": [
       "<Figure size 1800x720 with 1 Axes>"
      ]
     },
     "metadata": {
      "needs_background": "light"
     },
     "output_type": "display_data"
    }
   ],
   "source": [
    "from sklearn.manifold import TSNE\n",
    "\n",
    "model2 = TSNE(learning_rate=100)\n",
    "transformed = model2.fit_transform(word_vectors_list[:100])\n",
    "\n",
    "xs2 = transformed[:,0]\n",
    "ys2 = transformed[:,1]\n",
    "\n",
    "plt.figure(figsize=(25,10))\n",
    "\n",
    "plt.scatter(xs2, ys2)\n",
    "for i,v in enumerate(list(vocabs)[:100]):\n",
    "    plt.annotate(v, xy=(xs2[i], ys2[i]))\n",
    "\n",
    "plt.show()"
   ]
  },
  {
   "cell_type": "code",
   "execution_count": 28,
   "metadata": {},
   "outputs": [
    {
     "name": "stderr",
     "output_type": "stream",
     "text": [
      "C:\\Users\\dkq50\\anaconda3\\envs\\hamtori\\lib\\site-packages\\sklearn\\manifold\\_t_sne.py:780: FutureWarning: The default initialization in TSNE will change from 'random' to 'pca' in 1.2.\n",
      "  warnings.warn(\n",
      "C:\\Users\\dkq50\\anaconda3\\envs\\hamtori\\lib\\site-packages\\sklearn\\manifold\\_t_sne.py:790: FutureWarning: The default learning rate in TSNE will change from 200.0 to 'auto' in 1.2.\n",
      "  warnings.warn(\n",
      "C:\\Users\\dkq50\\anaconda3\\envs\\hamtori\\lib\\site-packages\\sklearn\\manifold\\_t_sne.py:780: FutureWarning: The default initialization in TSNE will change from 'random' to 'pca' in 1.2.\n",
      "  warnings.warn(\n",
      "C:\\Users\\dkq50\\anaconda3\\envs\\hamtori\\lib\\site-packages\\sklearn\\manifold\\_t_sne.py:790: FutureWarning: The default learning rate in TSNE will change from 200.0 to 'auto' in 1.2.\n",
      "  warnings.warn(\n"
     ]
    }
   ],
   "source": [
    "from sklearn.manifold import TSNE\n",
    "\n",
    "# 2차원 t-SNE 임베딩\n",
    "model2 = TSNE(n_components=2)\n",
    "transformed2 = model2.fit_transform(word_vectors_list[:100])\n",
    "\n",
    "# 3차원 t-SNE 임베딩\n",
    "model3 = TSNE(n_components=3)\n",
    "transformed3 = model3.fit_transform(word_vectors_list)\n",
    "\n",
    "# numpy array -> DataFrame 변환\n",
    "tsne_df2 = pd.DataFrame(transformed2, columns = ['component 0', 'component 1'])\n",
    "tsne_df3 = pd.DataFrame(transformed3, columns = ['component 0', 'component 1','component 2'])"
   ]
  },
  {
   "cell_type": "code",
   "execution_count": 29,
   "metadata": {},
   "outputs": [
    {
     "data": {
      "text/plain": [
       "{nan, '건강', '경제', '교통', '문화', '복지', '세금', '안전', '여성', '주택', '환경'}"
      ]
     },
     "execution_count": 29,
     "metadata": {},
     "output_type": "execute_result"
    }
   ],
   "source": [
    "set(train['분류'])"
   ]
  },
  {
   "cell_type": "markdown",
   "metadata": {},
   "source": [
    "2차원"
   ]
  },
  {
   "cell_type": "code",
   "execution_count": 30,
   "metadata": {},
   "outputs": [
    {
     "name": "stdout",
     "output_type": "stream",
     "text": [
      "<민원 분류 개수> \n",
      " 교통    18\n",
      "안전    15\n",
      "건강    15\n",
      "환경    13\n",
      "문화    11\n",
      "복지    10\n",
      "주택     8\n",
      "경제     6\n",
      "여성     4\n",
      "Name: target, dtype: int64\n"
     ]
    },
    {
     "data": {
      "image/png": "[encoded data removed]",
      "text/plain": [
       "<Figure size 1800x1080 with 1 Axes>"
      ]
     },
     "metadata": {
      "needs_background": "light"
     },
     "output_type": "display_data"
    }
   ],
   "source": [
    "import matplotlib.pyplot as plt\n",
    "\n",
    "tsne_df = tsne_df2\n",
    "# class target 정보 불러오기 \n",
    "tsne_df['target'] = train['분류']\n",
    "\n",
    "# target 별 분리\n",
    "tsne_df_0 = tsne_df[tsne_df['target'] == '건강']\n",
    "tsne_df_1 = tsne_df[tsne_df['target'] == '경제']\n",
    "tsne_df_2 = tsne_df[tsne_df['target'] == '교통']\n",
    "tsne_df_3 = tsne_df[tsne_df['target'] == '문화']\n",
    "tsne_df_4 = tsne_df[tsne_df['target'] == '복지']\n",
    "tsne_df_5 = tsne_df[tsne_df['target'] == '세금']\n",
    "tsne_df_6 = tsne_df[tsne_df['target'] == '안전']\n",
    "tsne_df_7 = tsne_df[tsne_df['target'] == '여성']\n",
    "tsne_df_8 = tsne_df[tsne_df['target'] == '주택']\n",
    "tsne_df_9 = tsne_df[tsne_df['target'] == '환경']\n",
    "\n",
    "\n",
    "plt.figure(figsize=(25,15))\n",
    "print('<민원 분류 개수> \\n',tsne_df2['target'].value_counts())\n",
    "\n",
    "# target 별 시각화\n",
    "plt.scatter(tsne_df_0['component 0'], tsne_df_0['component 1'], color = 'hotpink', label = '건강')\n",
    "plt.scatter(tsne_df_1['component 0'], tsne_df_1['component 1'], color = 'purple', label = '경제')\n",
    "plt.scatter(tsne_df_2['component 0'], tsne_df_2['component 1'], color = 'yellow', label = '교통')\n",
    "plt.scatter(tsne_df_3['component 0'], tsne_df_3['component 1'], color = 'red', label = '문화')\n",
    "plt.scatter(tsne_df_4['component 0'], tsne_df_4['component 1'], color = 'blue', label = '복지')\n",
    "plt.scatter(tsne_df_5['component 0'], tsne_df_5['component 1'], color = 'green', label = '세금')\n",
    "plt.scatter(tsne_df_6['component 0'], tsne_df_6['component 1'], color = 'skyblue', label = '안전')\n",
    "plt.scatter(tsne_df_7['component 0'], tsne_df_7['component 1'], color = 'orange', label = '여성')\n",
    "plt.scatter(tsne_df_8['component 0'], tsne_df_8['component 1'], color = 'springgreen', label = '주택')\n",
    "plt.scatter(tsne_df_9['component 0'], tsne_df_9['component 1'], color = 'slategray', label = '환경')\n",
    "\n",
    "for i,v in enumerate(list(vocabs)[:100]):\n",
    "    plt.annotate(v, xy=(tsne_df2['component 0'][i], tsne_df2['component 1'][i]))\n",
    "\n",
    "\n",
    "\n",
    "\n",
    "plt.xlabel('component 0')\n",
    "plt.ylabel('component 1')\n",
    "plt.legend()\n",
    "plt.show()\n"
   ]
  },
  {
   "cell_type": "markdown",
   "metadata": {},
   "source": [
    "3차원"
   ]
  },
  {
   "cell_type": "code",
   "execution_count": 31,
   "metadata": {},
   "outputs": [
    {
     "data": {
      "image/png": "[encoded data removed]",
      "text/plain": [
       "<Figure size 1080x720 with 1 Axes>"
      ]
     },
     "metadata": {
      "needs_background": "light"
     },
     "output_type": "display_data"
    }
   ],
   "source": [
    "from mpl_toolkits.mplot3d import Axes3D\n",
    "\n",
    "# 3차원 그래프 세팅\n",
    "fig = plt.figure(figsize=(15, 10))\n",
    "ax = fig.add_subplot(111, projection='3d')\n",
    "\n",
    "# class target 정보 불러오기 \n",
    "tsne_df['target'] = train['분류']\n",
    "\n",
    "# target 별 분리\n",
    "tsne_df_0 = tsne_df[tsne_df['target'] == '건강']\n",
    "tsne_df_1 = tsne_df[tsne_df['target'] == '경제']\n",
    "tsne_df_2 = tsne_df[tsne_df['target'] == '교통']\n",
    "tsne_df_3 = tsne_df[tsne_df['target'] == '문화']\n",
    "tsne_df_4 = tsne_df[tsne_df['target'] == '복지']\n",
    "tsne_df_5 = tsne_df[tsne_df['target'] == '세금']\n",
    "tsne_df_6 = tsne_df[tsne_df['target'] == '안전']\n",
    "tsne_df_7 = tsne_df[tsne_df['target'] == '여성']\n",
    "tsne_df_8 = tsne_df[tsne_df['target'] == '주택']\n",
    "tsne_df_9 = tsne_df[tsne_df['target'] == '환경']\n",
    "\n",
    "# target 별 시각화\n",
    "ax.scatter(tsne_df_0['component 0'][:10], tsne_df_0['component 1'][:10], color = 'hotpink', label = '건강')\n",
    "ax.scatter(tsne_df_1['component 0'][:10], tsne_df_1['component 1'][:10], color = 'purple', label = '경제')\n",
    "ax.scatter(tsne_df_2['component 0'][:10], tsne_df_2['component 1'][:10], color = 'yellow', label = '교통')\n",
    "ax.scatter(tsne_df_3['component 0'][:10], tsne_df_3['component 1'][:10], color = 'red', label = '문화')\n",
    "ax.scatter(tsne_df_4['component 0'][:10], tsne_df_4['component 1'][:10], color = 'blue', label = '복지')\n",
    "ax.scatter(tsne_df_5['component 0'][:10], tsne_df_5['component 1'][:10], color = 'green', label = '세금')\n",
    "ax.scatter(tsne_df_6['component 0'][:10], tsne_df_6['component 1'][:10], color = 'skyblue', label = '안전')\n",
    "ax.scatter(tsne_df_7['component 0'][:10], tsne_df_7['component 1'][:10], color = 'orange', label = '여성')\n",
    "ax.scatter(tsne_df_8['component 0'][:10], tsne_df_8['component 1'][:10], color = 'springgreen', label = '주택')\n",
    "ax.scatter(tsne_df_9['component 0'][:10], tsne_df_9['component 1'][:10], color = 'slategray', label = '환경')\n",
    "\n",
    "ax.set_xlabel('component 0')\n",
    "ax.set_ylabel('component 1')\n",
    "ax.set_zlabel('component 2')\n",
    "ax.legend()\n",
    "plt.show()\n"
   ]
  },
  {
   "cell_type": "markdown",
   "metadata": {},
   "source": [
    "## 문서별 평균 feature 계산 ##"
   ]
  },
  {
   "cell_type": "markdown",
   "metadata": {},
   "source": [
    "### 주어진 민원 문서에서 단어 벡터의 평균 구하는 함수 ###"
   ]
  },
  {
   "cell_type": "code",
   "execution_count": 32,
   "metadata": {},
   "outputs": [],
   "source": [
    "def makeFeatureVec(words, model, num_features):\n",
    "    featureVec = np.zeros((num_features,),dtype=\"float32\")\n",
    "    nwords = 0.\n",
    "    index2word_set = set(model.wv.index_to_key)\n",
    "    for word in words:\n",
    "        if word in index2word_set:\n",
    "            nwords = nwords + 1.\n",
    "            featureVec = np.add(featureVec,word_vectors[word])\n",
    "    np.seterr(divide='ignore')\n",
    "    featureVec = np.divide(featureVec,nwords)\n",
    "    return featureVec"
   ]
  },
  {
   "cell_type": "markdown",
   "metadata": {},
   "source": [
    "### 단어 평균 feature 벡터를 배열로 반환 ###"
   ]
  },
  {
   "cell_type": "code",
   "execution_count": 33,
   "metadata": {},
   "outputs": [],
   "source": [
    "def getAvgFeatureVecs(documents, model, num_features):\n",
    "    counter = 0.\n",
    "    documentFeatureVecs = np.zeros(\n",
    "        (len(documents),num_features),dtype=\"float32\")\n",
    "    for document in documents:\n",
    "       if counter%2000. == 0.:\n",
    "           print(\"민원 %d of %d\" % (counter, len(documents)))\n",
    "       documentFeatureVecs[int(counter)] = makeFeatureVec(document, model, num_features)\n",
    "       counter = counter + 1.\n",
    "    return documentFeatureVecs"
   ]
  },
  {
   "cell_type": "markdown",
   "metadata": {},
   "source": [
    "### 학습 데이터 평균 feature 계산 ###"
   ]
  },
  {
   "cell_type": "code",
   "execution_count": 34,
   "metadata": {},
   "outputs": [
    {
     "name": "stdout",
     "output_type": "stream",
     "text": [
      "민원 0 of 9872\n"
     ]
    },
    {
     "name": "stderr",
     "output_type": "stream",
     "text": [
      "C:\\Users\\dkq50\\AppData\\Local\\Temp/ipykernel_21632/325302873.py:10: RuntimeWarning: invalid value encountered in true_divide\n",
      "  featureVec = np.divide(featureVec,nwords)\n"
     ]
    },
    {
     "name": "stdout",
     "output_type": "stream",
     "text": [
      "민원 2000 of 9872\n",
      "민원 4000 of 9872\n",
      "민원 6000 of 9872\n",
      "민원 8000 of 9872\n",
      "Wall time: 2.61 s\n"
     ]
    }
   ],
   "source": [
    "%time trainDataVecs = getAvgFeatureVecs(\\\n",
    "    train_documents, model, num_features)\n"
   ]
  },
  {
   "cell_type": "code",
   "execution_count": 35,
   "metadata": {},
   "outputs": [],
   "source": [
    "imp = SimpleImputer(missing_values=np.nan, strategy='mean')\n",
    "imp.fit(trainDataVecs)\n",
    "trainDataVecs=imp.transform(trainDataVecs) ##nan, infinite 제거"
   ]
  },
  {
   "cell_type": "markdown",
   "metadata": {},
   "source": [
    "## 랜덤 포레스트로 민원 자동분류 ##"
   ]
  },
  {
   "cell_type": "markdown",
   "metadata": {},
   "source": [
    "### 랜덤 포레스트 분류기 설정 ###\n",
    "  - n_estimators : 생성할 트리 개수 (k)\n",
    "  - n_jobs : 학습을 수행하기 위해 CPU 코어 2개를 병렬적으로 활용한다는 의미\n",
    "  - 같은 결과를 만들어야 한다면 random_state 값을 고정해야함 "
   ]
  },
  {
   "cell_type": "code",
   "execution_count": 35,
   "metadata": {},
   "outputs": [],
   "source": [
    "forest_w2v = RandomForestClassifier(n_estimators = 300, random_state=1, class_weight='balanced')"
   ]
  },
  {
   "cell_type": "markdown",
   "metadata": {},
   "source": [
    "### 랜덤포레스트 모델 = Y: 민원분류, X:민원 문서당 평균 단어 feature ###"
   ]
  },
  {
   "cell_type": "code",
   "execution_count": 36,
   "metadata": {},
   "outputs": [
    {
     "name": "stdout",
     "output_type": "stream",
     "text": [
      "Wall time: 40.8 s\n"
     ]
    }
   ],
   "source": [
    "%time forest_w2v_fit = forest_w2v.fit(trainDataVecs, train_df[\"분류\"])"
   ]
  },
  {
   "cell_type": "markdown",
   "metadata": {},
   "source": [
    "### 최종 모델을 활용해서 테스트 데이터 민원 자동 분류 ###"
   ]
  },
  {
   "cell_type": "code",
   "execution_count": 36,
   "metadata": {},
   "outputs": [
    {
     "name": "stdout",
     "output_type": "stream",
     "text": [
      "민원 0 of 4195\n"
     ]
    },
    {
     "name": "stderr",
     "output_type": "stream",
     "text": [
      "C:\\Users\\dkq50\\AppData\\Local\\Temp/ipykernel_21632/325302873.py:10: RuntimeWarning: invalid value encountered in true_divide\n",
      "  featureVec = np.divide(featureVec,nwords)\n"
     ]
    },
    {
     "name": "stdout",
     "output_type": "stream",
     "text": [
      "민원 2000 of 4195\n",
      "민원 4000 of 4195\n",
      "Wall time: 989 ms\n"
     ]
    }
   ],
   "source": [
    "# 테스트 데이터 벡터화\n",
    "%time testDataVecs = getAvgFeatureVecs(\\\n",
    "        test_documents, model, num_features )\n",
    "imp.fit(testDataVecs)\n",
    "testDataVecs=imp.transform(testDataVecs) ##nan, infinite 제거"
   ]
  },
  {
   "cell_type": "code",
   "execution_count": 47,
   "metadata": {},
   "outputs": [],
   "source": [
    "# 문서별 민원 분류 확률값 저장\n",
    "forest_w2v_proba = forest_w2v.predict_proba(testDataVecs)"
   ]
  },
  {
   "cell_type": "code",
   "execution_count": 48,
   "metadata": {},
   "outputs": [],
   "source": [
    "# 민원 분류 확률 Top2\n",
    "topn = 2\n",
    "topn_class = np.argsort(forest_w2v_proba)[:,:-topn-1:-1]\n",
    "forest_w2v.classes_[topn_class]\n",
    "\n",
    "result_w2v_top1 = forest_w2v.classes_[topn_class][:,0]\n",
    "result_w2v_top2 = forest_w2v.classes_[topn_class][:,1]"
   ]
  },
  {
   "cell_type": "code",
   "execution_count": 49,
   "metadata": {},
   "outputs": [
    {
     "data": {
      "text/html": [
       "<div>\n",
       "<style scoped>\n",
       "    .dataframe tbody tr th:only-of-type {\n",
       "        vertical-align: middle;\n",
       "    }\n",
       "\n",
       "    .dataframe tbody tr th {\n",
       "        vertical-align: top;\n",
       "    }\n",
       "\n",
       "    .dataframe thead th {\n",
       "        text-align: right;\n",
       "    }\n",
       "</style>\n",
       "<table border=\"1\" class=\"dataframe\">\n",
       "  <thead>\n",
       "    <tr style=\"text-align: right;\">\n",
       "      <th></th>\n",
       "      <th>제안번호</th>\n",
       "      <th>분류</th>\n",
       "      <th>분류2</th>\n",
       "    </tr>\n",
       "  </thead>\n",
       "  <tbody>\n",
       "    <tr>\n",
       "      <th>0</th>\n",
       "      <td>186203</td>\n",
       "      <td>환경</td>\n",
       "      <td>건강</td>\n",
       "    </tr>\n",
       "    <tr>\n",
       "      <th>1</th>\n",
       "      <td>186202</td>\n",
       "      <td>환경</td>\n",
       "      <td>안전</td>\n",
       "    </tr>\n",
       "    <tr>\n",
       "      <th>2</th>\n",
       "      <td>186201</td>\n",
       "      <td>주택</td>\n",
       "      <td>환경</td>\n",
       "    </tr>\n",
       "    <tr>\n",
       "      <th>3</th>\n",
       "      <td>186200</td>\n",
       "      <td>환경</td>\n",
       "      <td>교통</td>\n",
       "    </tr>\n",
       "    <tr>\n",
       "      <th>4</th>\n",
       "      <td>186199</td>\n",
       "      <td>교통</td>\n",
       "      <td>여성</td>\n",
       "    </tr>\n",
       "    <tr>\n",
       "      <th>...</th>\n",
       "      <td>...</td>\n",
       "      <td>...</td>\n",
       "      <td>...</td>\n",
       "    </tr>\n",
       "    <tr>\n",
       "      <th>4319</th>\n",
       "      <td>180039</td>\n",
       "      <td>환경</td>\n",
       "      <td>교통</td>\n",
       "    </tr>\n",
       "    <tr>\n",
       "      <th>4320</th>\n",
       "      <td>180038</td>\n",
       "      <td>교통</td>\n",
       "      <td>복지</td>\n",
       "    </tr>\n",
       "    <tr>\n",
       "      <th>4321</th>\n",
       "      <td>180037</td>\n",
       "      <td>교통</td>\n",
       "      <td>문화</td>\n",
       "    </tr>\n",
       "    <tr>\n",
       "      <th>4322</th>\n",
       "      <td>180036</td>\n",
       "      <td>교통</td>\n",
       "      <td>환경</td>\n",
       "    </tr>\n",
       "    <tr>\n",
       "      <th>4323</th>\n",
       "      <td>180033</td>\n",
       "      <td>교통</td>\n",
       "      <td>환경</td>\n",
       "    </tr>\n",
       "  </tbody>\n",
       "</table>\n",
       "<p>4195 rows × 3 columns</p>\n",
       "</div>"
      ],
      "text/plain": [
       "        제안번호  분류 분류2\n",
       "0     186203  환경  건강\n",
       "1     186202  환경  안전\n",
       "2     186201  주택  환경\n",
       "3     186200  환경  교통\n",
       "4     186199  교통  여성\n",
       "...      ...  ..  ..\n",
       "4319  180039  환경  교통\n",
       "4320  180038  교통  복지\n",
       "4321  180037  교통  문화\n",
       "4322  180036  교통  환경\n",
       "4323  180033  교통  환경\n",
       "\n",
       "[4195 rows x 3 columns]"
      ]
     },
     "execution_count": 49,
     "metadata": {},
     "output_type": "execute_result"
    }
   ],
   "source": [
    "# 민원 분류 결과 데이터프레임으로 저장\n",
    "output_w2v = pd.DataFrame(data={'제안번호':test_df['제안번호'], '분류':result_w2v_top1,'분류2':result_w2v_top2})\n",
    "output_w2v"
   ]
  },
  {
   "cell_type": "code",
   "execution_count": 50,
   "metadata": {},
   "outputs": [
    {
     "name": "stdout",
     "output_type": "stream",
     "text": [
      "환경    1157\n",
      "교통    1086\n",
      "주택     394\n",
      "문화     359\n",
      "여성     293\n",
      "건강     282\n",
      "복지     260\n",
      "경제     202\n",
      "안전     145\n",
      "세금      17\n",
      "Name: 분류, dtype: int64\n"
     ]
    }
   ],
   "source": [
    "# 민원 예측 결과 통계량\n",
    "print(output_w2v['분류'].value_counts())"
   ]
  },
  {
   "cell_type": "code",
   "execution_count": 51,
   "metadata": {},
   "outputs": [
    {
     "data": {
      "text/html": [
       "<div>\n",
       "<style scoped>\n",
       "    .dataframe tbody tr th:only-of-type {\n",
       "        vertical-align: middle;\n",
       "    }\n",
       "\n",
       "    .dataframe tbody tr th {\n",
       "        vertical-align: top;\n",
       "    }\n",
       "\n",
       "    .dataframe thead th {\n",
       "        text-align: right;\n",
       "    }\n",
       "</style>\n",
       "<table border=\"1\" class=\"dataframe\">\n",
       "  <thead>\n",
       "    <tr style=\"text-align: right;\">\n",
       "      <th></th>\n",
       "      <th>제안번호</th>\n",
       "      <th>제안제목</th>\n",
       "      <th>제안내용</th>\n",
       "      <th>득표</th>\n",
       "      <th>제안등록일자</th>\n",
       "      <th>contents</th>\n",
       "      <th>tokens</th>\n",
       "      <th>all_tokens</th>\n",
       "      <th>분류</th>\n",
       "      <th>분류2</th>\n",
       "    </tr>\n",
       "  </thead>\n",
       "  <tbody>\n",
       "    <tr>\n",
       "      <th>0</th>\n",
       "      <td>186203</td>\n",
       "      <td>중금속 문제가 심각해지고 있는데 중금속으로 분리할수 있는 방법은 없을까요?</td>\n",
       "      <td>&lt;span style=\"font-size: 12px;\"&gt;중금속 문제가 심각해지고 있...</td>\n",
       "      <td>0</td>\n",
       "      <td>2019-12-18 01:21:40</td>\n",
       "      <td>중금속 문제가 심각해지고 있는데 중금속으로 분리할수 있는 방법은 없을까요?\\n중금속...</td>\n",
       "      <td>[중금속, 중금속, 분리, 중금속, 중금속, 분리, 폐수, 속, 강물, 속, 수돗물...</td>\n",
       "      <td>[중금속, 가, 심각, 하, 고, 있, 는데, 중금속, 으로, 분리, 하, ㄹ, 수...</td>\n",
       "      <td>환경</td>\n",
       "      <td>건강</td>\n",
       "    </tr>\n",
       "    <tr>\n",
       "      <th>1</th>\n",
       "      <td>186202</td>\n",
       "      <td>제설제에 사용되는 cacl2에서 염소가 환경오염을 일으킨다는데 친환경적인걸로 바꿔주새요</td>\n",
       "      <td>제설제에 사용되는 cacl2에서 염소가 환경오염을 일으킨다는데 친환경적인걸로 바꿔주...</td>\n",
       "      <td>0</td>\n",
       "      <td>2019-12-18 00:41:00</td>\n",
       "      <td>제설제에 사용되는 cacl2에서 염소가 환경오염을 일으킨다는데 친환경적인걸로 바꿔주...</td>\n",
       "      <td>[제설, 염소, 환경오염, 일으키다, 환경, 바꾸다, 새, 요, 제설, 염소, 환경...</td>\n",
       "      <td>[제설, 제, 에, 되, 는, cacl, 2, 에서, 염소, 가, 환경오염, 일으키...</td>\n",
       "      <td>환경</td>\n",
       "      <td>안전</td>\n",
       "    </tr>\n",
       "    <tr>\n",
       "      <th>2</th>\n",
       "      <td>186201</td>\n",
       "      <td>지하철역 위의 임대아파트 건설 후 청년, 신혼부분에게 임대</td>\n",
       "      <td>서울시의 경우 지하철이 상당히 발달되어 있어 교통서비스를 제공하고 있습니다.&amp;nbs...</td>\n",
       "      <td>0</td>\n",
       "      <td>2019-12-17 13:41:34</td>\n",
       "      <td>지하철역 위의 임대아파트 건설 후 청년, 신혼부분에게 임대\\n서울시의 경우 지하철이...</td>\n",
       "      <td>[지하철역, 위, 임대아파트, 건설, 청년, 신혼, 임대, 지하철, 상당히, 발달,...</td>\n",
       "      <td>[지하철역, 위, 의, 임대아파트, 건설, 청년, 신혼, 에게, 임대, 의, 지하철...</td>\n",
       "      <td>주택</td>\n",
       "      <td>환경</td>\n",
       "    </tr>\n",
       "    <tr>\n",
       "      <th>3</th>\n",
       "      <td>186200</td>\n",
       "      <td>재활용 정거장이나 원룸에 재활용 쓰레기통 지원을 늘려주세요</td>\n",
       "      <td>몇몇구에서는 재활용 쓰레기 분리수거함을 원룸촌에 제공해주는 것으로 알고있는데요. 대...</td>\n",
       "      <td>0</td>\n",
       "      <td>2019-12-17 11:10:03</td>\n",
       "      <td>재활용 정거장이나 원룸에 재활용 쓰레기통 지원을 늘려주세요\\n몇몇구에서는 재활용 쓰...</td>\n",
       "      <td>[재활용, 정거장, 원룸, 재활용, 쓰레기통, 지원, 늘리다, 세요, 몇몇, 구, ...</td>\n",
       "      <td>[재활용, 정거장, 이나, 원룸, 에, 재활용, 쓰레기통, 지원, 늘리, 어, 주,...</td>\n",
       "      <td>환경</td>\n",
       "      <td>교통</td>\n",
       "    </tr>\n",
       "    <tr>\n",
       "      <th>4</th>\n",
       "      <td>186199</td>\n",
       "      <td>임산부석을 마냥 비워두지 않는 방법</td>\n",
       "      <td>&lt;p&gt;저는 지하철을 자주 애용하는 여성입니다.&lt;/p&gt;&lt;p&gt;임산부석이 지정되어 있어 ...</td>\n",
       "      <td>0</td>\n",
       "      <td>2019-12-17 10:55:54</td>\n",
       "      <td>임산부석을 마냥 비워두지 않는 방법\\n저는 지하철을 자주 애용하는 여성입니다.임산부...</td>\n",
       "      <td>[임산부, 석, 마냥, 비우다, 지하철, 자주, 애용, 여성, 임산부, 석이, 지정...</td>\n",
       "      <td>[임산부, 석, 마냥, 비우, 어, 두, 지, 않, 는, 저는, 지하철, 자주, 애...</td>\n",
       "      <td>교통</td>\n",
       "      <td>여성</td>\n",
       "    </tr>\n",
       "    <tr>\n",
       "      <th>...</th>\n",
       "      <td>...</td>\n",
       "      <td>...</td>\n",
       "      <td>...</td>\n",
       "      <td>...</td>\n",
       "      <td>...</td>\n",
       "      <td>...</td>\n",
       "      <td>...</td>\n",
       "      <td>...</td>\n",
       "      <td>...</td>\n",
       "      <td>...</td>\n",
       "    </tr>\n",
       "    <tr>\n",
       "      <th>4190</th>\n",
       "      <td>180039</td>\n",
       "      <td>버스 정류장 근처의 빛  공해를   해결해 주세요  !</td>\n",
       "      <td>&amp;nbsp;강동구 5호선 명일역 3번 출구에서 올라오면&amp;nbsp; &amp;nbsp;바로&amp;...</td>\n",
       "      <td>0</td>\n",
       "      <td>2017-12-22 16:37:33</td>\n",
       "      <td>버스 정류장 근처의 빛  공해를   해결해 주세요  !\\n강동구 5호선 명일역 3번...</td>\n",
       "      <td>[버스, 정류장, 근처, 빛, 공해, 해결, 강동구, 명일, 역, 출구, 올라오다,...</td>\n",
       "      <td>[버스, 정류장, 근처, 의, 빛, , 공해, 를, , , 해결, 하, 아, 주, ...</td>\n",
       "      <td>환경</td>\n",
       "      <td>교통</td>\n",
       "    </tr>\n",
       "    <tr>\n",
       "      <th>4191</th>\n",
       "      <td>180038</td>\n",
       "      <td>서울시내버스 안내방송을 부탁드려요 !</td>\n",
       "      <td>&amp;nbsp;서울 시내 버스를 자주 이용하는 편입니다.&amp;nbsp; 버스 내부에는 주로...</td>\n",
       "      <td>1</td>\n",
       "      <td>2017-12-21 18:44:46</td>\n",
       "      <td>서울시내버스 안내방송을 부탁드려요 !\\n서울 시내 버스를 자주 이용하는 편입니다. ...</td>\n",
       "      <td>[서울시내, 버스, 안내, 방송, 드리다, 시내, 버스, 자주, 버스, 내부, 주로...</td>\n",
       "      <td>[서울시내, 버스, 안내, 방송, 드리, 어요, 시내, 버스, 를, 자주, 하, 는...</td>\n",
       "      <td>교통</td>\n",
       "      <td>복지</td>\n",
       "    </tr>\n",
       "    <tr>\n",
       "      <th>4192</th>\n",
       "      <td>180037</td>\n",
       "      <td>서울역 인근 버스정류장 명 병행표기 제안.</td>\n",
       "      <td>&lt;p&gt;안녕하세요.&lt;/p&gt;&lt;p&gt;버스를 타고 서울역을 자주 지나는데 항상 이에 의문을 ...</td>\n",
       "      <td>1</td>\n",
       "      <td>2017-12-21 11:13:14</td>\n",
       "      <td>서울역 인근 버스정류장 명 병행표기 제안.\\n안녕하세요.버스를 타고 서울역을 자주 ...</td>\n",
       "      <td>[서울역, 인근, 버스정류장, 병행, 표기, 버스, 타다, 서울역, 자주, 항상, ...</td>\n",
       "      <td>[서울역, 인근, 버스정류장, 명, 병행, 표기, 버스, 를, 타, 고, 서울역, ...</td>\n",
       "      <td>교통</td>\n",
       "      <td>문화</td>\n",
       "    </tr>\n",
       "    <tr>\n",
       "      <th>4193</th>\n",
       "      <td>180036</td>\n",
       "      <td>따릉이 보관소 설치 제안</td>\n",
       "      <td>서초역 주변에 따릉이 보관소 설치를 제안합니다!</td>\n",
       "      <td>0</td>\n",
       "      <td>2017-12-20 18:54:23</td>\n",
       "      <td>따릉이 보관소 설치 제안\\n서초역 주변에 따릉이 보관소 설치를 제안합니다!</td>\n",
       "      <td>[따릉이, 보관소, 설치, 서초역, 따릉이, 보관소, 설치]</td>\n",
       "      <td>[따릉이, 보관소, 설치, 서초역, 에, 따릉이, 보관소, 설치, 를, 하, ㅂ니다]</td>\n",
       "      <td>교통</td>\n",
       "      <td>환경</td>\n",
       "    </tr>\n",
       "    <tr>\n",
       "      <th>4194</th>\n",
       "      <td>180033</td>\n",
       "      <td>이륜차(오토바이)업소 주변 행정지도 통해 거리질서 확립필요</td>\n",
       "      <td>&lt;p&gt;서울시내 어디를 가보든지간에 이륜차 수리업소를 쉽게 볼 수가 있다,&lt;/p&gt;&lt;p...</td>\n",
       "      <td>0</td>\n",
       "      <td>2017-12-18 20:33:46</td>\n",
       "      <td>이륜차(오토바이)업소 주변 행정지도 통해 거리질서 확립필요\\n서울시내 어디를 가보든...</td>\n",
       "      <td>[이륜차, 오토바이, 업소, 행정지, 거리, 질서, 확립, 필요, 서울시내, 가다,...</td>\n",
       "      <td>[이륜차, 오토바이, 업소, 행정지, 도, 통하, 아, 거리, 질서, 확립, 필요,...</td>\n",
       "      <td>교통</td>\n",
       "      <td>환경</td>\n",
       "    </tr>\n",
       "  </tbody>\n",
       "</table>\n",
       "<p>4195 rows × 10 columns</p>\n",
       "</div>"
      ],
      "text/plain": [
       "        제안번호                                              제안제목  \\\n",
       "0     186203         중금속 문제가 심각해지고 있는데 중금속으로 분리할수 있는 방법은 없을까요?   \n",
       "1     186202  제설제에 사용되는 cacl2에서 염소가 환경오염을 일으킨다는데 친환경적인걸로 바꿔주새요   \n",
       "2     186201                  지하철역 위의 임대아파트 건설 후 청년, 신혼부분에게 임대   \n",
       "3     186200                  재활용 정거장이나 원룸에 재활용 쓰레기통 지원을 늘려주세요   \n",
       "4     186199                               임산부석을 마냥 비워두지 않는 방법   \n",
       "...      ...                                               ...   \n",
       "4190  180039                    버스 정류장 근처의 빛  공해를   해결해 주세요  !   \n",
       "4191  180038                              서울시내버스 안내방송을 부탁드려요 !   \n",
       "4192  180037                           서울역 인근 버스정류장 명 병행표기 제안.   \n",
       "4193  180036                                     따릉이 보관소 설치 제안   \n",
       "4194  180033                  이륜차(오토바이)업소 주변 행정지도 통해 거리질서 확립필요   \n",
       "\n",
       "                                                   제안내용  득표  \\\n",
       "0     <span style=\"font-size: 12px;\">중금속 문제가 심각해지고 있...   0   \n",
       "1     제설제에 사용되는 cacl2에서 염소가 환경오염을 일으킨다는데 친환경적인걸로 바꿔주...   0   \n",
       "2     서울시의 경우 지하철이 상당히 발달되어 있어 교통서비스를 제공하고 있습니다.&nbs...   0   \n",
       "3     몇몇구에서는 재활용 쓰레기 분리수거함을 원룸촌에 제공해주는 것으로 알고있는데요. 대...   0   \n",
       "4     <p>저는 지하철을 자주 애용하는 여성입니다.</p><p>임산부석이 지정되어 있어 ...   0   \n",
       "...                                                 ...  ..   \n",
       "4190  &nbsp;강동구 5호선 명일역 3번 출구에서 올라오면&nbsp; &nbsp;바로&...   0   \n",
       "4191  &nbsp;서울 시내 버스를 자주 이용하는 편입니다.&nbsp; 버스 내부에는 주로...   1   \n",
       "4192  <p>안녕하세요.</p><p>버스를 타고 서울역을 자주 지나는데 항상 이에 의문을 ...   1   \n",
       "4193                         서초역 주변에 따릉이 보관소 설치를 제안합니다!   0   \n",
       "4194  <p>서울시내 어디를 가보든지간에 이륜차 수리업소를 쉽게 볼 수가 있다,</p><p...   0   \n",
       "\n",
       "                  제안등록일자                                           contents  \\\n",
       "0    2019-12-18 01:21:40  중금속 문제가 심각해지고 있는데 중금속으로 분리할수 있는 방법은 없을까요?\\n중금속...   \n",
       "1    2019-12-18 00:41:00  제설제에 사용되는 cacl2에서 염소가 환경오염을 일으킨다는데 친환경적인걸로 바꿔주...   \n",
       "2    2019-12-17 13:41:34  지하철역 위의 임대아파트 건설 후 청년, 신혼부분에게 임대\\n서울시의 경우 지하철이...   \n",
       "3    2019-12-17 11:10:03  재활용 정거장이나 원룸에 재활용 쓰레기통 지원을 늘려주세요\\n몇몇구에서는 재활용 쓰...   \n",
       "4    2019-12-17 10:55:54  임산부석을 마냥 비워두지 않는 방법\\n저는 지하철을 자주 애용하는 여성입니다.임산부...   \n",
       "...                  ...                                                ...   \n",
       "4190 2017-12-22 16:37:33  버스 정류장 근처의 빛  공해를   해결해 주세요  !\\n강동구 5호선 명일역 3번...   \n",
       "4191 2017-12-21 18:44:46  서울시내버스 안내방송을 부탁드려요 !\\n서울 시내 버스를 자주 이용하는 편입니다. ...   \n",
       "4192 2017-12-21 11:13:14  서울역 인근 버스정류장 명 병행표기 제안.\\n안녕하세요.버스를 타고 서울역을 자주 ...   \n",
       "4193 2017-12-20 18:54:23          따릉이 보관소 설치 제안\\n서초역 주변에 따릉이 보관소 설치를 제안합니다!   \n",
       "4194 2017-12-18 20:33:46  이륜차(오토바이)업소 주변 행정지도 통해 거리질서 확립필요\\n서울시내 어디를 가보든...   \n",
       "\n",
       "                                                 tokens  \\\n",
       "0     [중금속, 중금속, 분리, 중금속, 중금속, 분리, 폐수, 속, 강물, 속, 수돗물...   \n",
       "1     [제설, 염소, 환경오염, 일으키다, 환경, 바꾸다, 새, 요, 제설, 염소, 환경...   \n",
       "2     [지하철역, 위, 임대아파트, 건설, 청년, 신혼, 임대, 지하철, 상당히, 발달,...   \n",
       "3     [재활용, 정거장, 원룸, 재활용, 쓰레기통, 지원, 늘리다, 세요, 몇몇, 구, ...   \n",
       "4     [임산부, 석, 마냥, 비우다, 지하철, 자주, 애용, 여성, 임산부, 석이, 지정...   \n",
       "...                                                 ...   \n",
       "4190  [버스, 정류장, 근처, 빛, 공해, 해결, 강동구, 명일, 역, 출구, 올라오다,...   \n",
       "4191  [서울시내, 버스, 안내, 방송, 드리다, 시내, 버스, 자주, 버스, 내부, 주로...   \n",
       "4192  [서울역, 인근, 버스정류장, 병행, 표기, 버스, 타다, 서울역, 자주, 항상, ...   \n",
       "4193                  [따릉이, 보관소, 설치, 서초역, 따릉이, 보관소, 설치]   \n",
       "4194  [이륜차, 오토바이, 업소, 행정지, 거리, 질서, 확립, 필요, 서울시내, 가다,...   \n",
       "\n",
       "                                             all_tokens  분류 분류2  \n",
       "0     [중금속, 가, 심각, 하, 고, 있, 는데, 중금속, 으로, 분리, 하, ㄹ, 수...  환경  건강  \n",
       "1     [제설, 제, 에, 되, 는, cacl, 2, 에서, 염소, 가, 환경오염, 일으키...  환경  안전  \n",
       "2     [지하철역, 위, 의, 임대아파트, 건설, 청년, 신혼, 에게, 임대, 의, 지하철...  주택  환경  \n",
       "3     [재활용, 정거장, 이나, 원룸, 에, 재활용, 쓰레기통, 지원, 늘리, 어, 주,...  환경  교통  \n",
       "4     [임산부, 석, 마냥, 비우, 어, 두, 지, 않, 는, 저는, 지하철, 자주, 애...  교통  여성  \n",
       "...                                                 ...  ..  ..  \n",
       "4190  [버스, 정류장, 근처, 의, 빛, , 공해, 를, , , 해결, 하, 아, 주, ...  환경  교통  \n",
       "4191  [서울시내, 버스, 안내, 방송, 드리, 어요, 시내, 버스, 를, 자주, 하, 는...  교통  복지  \n",
       "4192  [서울역, 인근, 버스정류장, 명, 병행, 표기, 버스, 를, 타, 고, 서울역, ...  교통  문화  \n",
       "4193    [따릉이, 보관소, 설치, 서초역, 에, 따릉이, 보관소, 설치, 를, 하, ㅂ니다]  교통  환경  \n",
       "4194  [이륜차, 오토바이, 업소, 행정지, 도, 통하, 아, 거리, 질서, 확립, 필요,...  교통  환경  \n",
       "\n",
       "[4195 rows x 10 columns]"
      ]
     },
     "execution_count": 51,
     "metadata": {},
     "output_type": "execute_result"
    }
   ],
   "source": [
    "# 민원 분류 예측 결과를 test_df에 merge\n",
    "result_df=pd.merge(test_df,output_w2v,on='제안번호')\n",
    "result_df"
   ]
  },
  {
   "cell_type": "markdown",
   "metadata": {},
   "source": [
    "### 민원분류 예측결과 엑셀파일로 저장"
   ]
  },
  {
   "cell_type": "code",
   "execution_count": 52,
   "metadata": {},
   "outputs": [
    {
     "name": "stdout",
     "output_type": "stream",
     "text": [
      "Requirement already satisfied: xlsxwriter in c:\\users\\dkq50\\anaconda3\\envs\\hamtori\\lib\\site-packages (3.0.3)\n",
      "Note: you may need to restart the kernel to use updated packages.\n"
     ]
    }
   ],
   "source": [
    "pip install xlsxwriter"
   ]
  },
  {
   "cell_type": "code",
   "execution_count": 54,
   "metadata": {},
   "outputs": [],
   "source": [
    "result_df.to_excel('민원분류_17_19 예측결과.xlsx',index=None)"
   ]
  },
  {
   "cell_type": "markdown",
   "metadata": {},
   "source": [
    "### 분류 결과 도표 시각화 ###"
   ]
  },
  {
   "cell_type": "code",
   "execution_count": 53,
   "metadata": {},
   "outputs": [
    {
     "name": "stderr",
     "output_type": "stream",
     "text": [
      "C:\\Users\\dkq50\\anaconda3\\envs\\hamtori\\lib\\site-packages\\seaborn\\_decorators.py:36: FutureWarning: Pass the following variable as a keyword arg: x. From version 0.12, the only valid positional argument will be `data`, and passing other arguments without an explicit keyword will result in an error or misinterpretation.\n",
      "  warnings.warn(\n",
      "C:\\Users\\dkq50\\anaconda3\\envs\\hamtori\\lib\\site-packages\\seaborn\\_decorators.py:36: FutureWarning: Pass the following variable as a keyword arg: x. From version 0.12, the only valid positional argument will be `data`, and passing other arguments without an explicit keyword will result in an error or misinterpretation.\n",
      "  warnings.warn(\n"
     ]
    },
    {
     "data": {
      "text/plain": [
       "Text(0.5, 1.0, '테스트 데이터')"
      ]
     },
     "execution_count": 53,
     "metadata": {},
     "output_type": "execute_result"
    },
    {
     "data": {
      "image/png": "[encoded data removed]",
      "text/plain": [
       "<Figure size 864x360 with 2 Axes>"
      ]
     },
     "metadata": {
      "needs_background": "light"
     },
     "output_type": "display_data"
    }
   ],
   "source": [
    "#학습 데이터 민원 분류 비율 vs 테스트 데이터 민원 분류 비율 #\n",
    "fig, axes = plt.subplots(ncols=2)\n",
    "fig.set_size_inches(12,5)\n",
    "\n",
    "#학습 데이터 플롯\n",
    "train_plot = sns.countplot(train_df['분류'], ax=axes[0],order=train_df['분류'].value_counts().index.to_list())\n",
    "train_plot.set_xticklabels(train_plot.get_xticklabels(),rotation=45,ha='right')\n",
    "train_plot.set_title('학습 데이터')\n",
    "\n",
    "#테스트 데이터 플롯\n",
    "test_plot = sns.countplot(output_w2v['분류'], ax=axes[1],order=result_df['분류'].value_counts().index.to_list())\n",
    "test_plot.set_xticklabels(test_plot.get_xticklabels(),rotation=45,ha='right')\n",
    "test_plot.set_title('테스트 데이터')"
   ]
  },
  {
   "cell_type": "code",
   "execution_count": null,
   "metadata": {},
   "outputs": [],
   "source": []
  }
 ],
 "metadata": {
  "file_extension": ".py",
  "interpreter": {
   "hash": "71983d4614f4bca5a3b402268e3287b05b08a37bb91635263544d2d0bb2a12a0"
  },
  "kernelspec": {
   "display_name": "Python 3.9.7 ('hamtori')",
   "language": "python",
   "name": "python3"
  },
  "language_info": {
   "codemirror_mode": {
    "name": "ipython",
    "version": 3
   },
   "file_extension": ".py",
   "mimetype": "text/x-python",
   "name": "python",
   "nbconvert_exporter": "python",
   "pygments_lexer": "ipython3",
   "version": "3.9.7"
  },
  "mimetype": "text/x-python",
  "name": "python",
  "npconvert_exporter": "python",
  "orig_nbformat": 2,
  "pygments_lexer": "ipython3",
  "version": 3
 },
 "nbformat": 4,
 "nbformat_minor": 2
}
