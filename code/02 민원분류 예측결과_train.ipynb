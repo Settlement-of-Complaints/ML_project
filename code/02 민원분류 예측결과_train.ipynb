{
 "cells": [
  {
   "cell_type": "markdown",
   "metadata": {},
   "source": [
    "# 00 라이브러리 로딩"
   ]
  },
  {
   "cell_type": "code",
   "execution_count": 1,
   "metadata": {},
   "outputs": [
    {
     "name": "stdout",
     "output_type": "stream",
     "text": [
      "Requirement already satisfied: sklearn in c:\\users\\dkq50\\anaconda3\\lib\\site-packages (0.0)\n",
      "Requirement already satisfied: scikit-learn in c:\\users\\dkq50\\anaconda3\\lib\\site-packages (from sklearn) (1.0.2)\n",
      "Requirement already satisfied: threadpoolctl>=2.0.0 in c:\\users\\dkq50\\anaconda3\\lib\\site-packages (from scikit-learn->sklearn) (3.1.0)\n",
      "Requirement already satisfied: scipy>=1.1.0 in c:\\users\\dkq50\\anaconda3\\lib\\site-packages (from scikit-learn->sklearn) (1.8.0)\n",
      "Requirement already satisfied: joblib>=0.11 in c:\\users\\dkq50\\anaconda3\\lib\\site-packages (from scikit-learn->sklearn) (1.1.0)\n",
      "Requirement already satisfied: numpy>=1.14.6 in c:\\users\\dkq50\\anaconda3\\lib\\site-packages (from scikit-learn->sklearn) (1.21.5)\n",
      "Requirement already satisfied: matplotlib in c:\\users\\dkq50\\anaconda3\\lib\\site-packages (3.5.1)\n",
      "Requirement already satisfied: pyparsing>=2.2.1 in c:\\users\\dkq50\\anaconda3\\lib\\site-packages (from matplotlib) (3.0.4)\n",
      "Requirement already satisfied: python-dateutil>=2.7 in c:\\users\\dkq50\\anaconda3\\lib\\site-packages (from matplotlib) (2.8.2)\n",
      "Requirement already satisfied: kiwisolver>=1.0.1 in c:\\users\\dkq50\\anaconda3\\lib\\site-packages (from matplotlib) (1.3.2)\n",
      "Requirement already satisfied: numpy>=1.17 in c:\\users\\dkq50\\anaconda3\\lib\\site-packages (from matplotlib) (1.21.5)\n",
      "Requirement already satisfied: cycler>=0.10 in c:\\users\\dkq50\\anaconda3\\lib\\site-packages (from matplotlib) (0.11.0)\n",
      "Requirement already satisfied: packaging>=20.0 in c:\\users\\dkq50\\anaconda3\\lib\\site-packages (from matplotlib) (21.3)\n",
      "Requirement already satisfied: fonttools>=4.22.0 in c:\\users\\dkq50\\anaconda3\\lib\\site-packages (from matplotlib) (4.30.0)\n",
      "Requirement already satisfied: pillow>=6.2.0 in c:\\users\\dkq50\\anaconda3\\lib\\site-packages (from matplotlib) (8.4.0)\n",
      "Requirement already satisfied: six>=1.5 in c:\\users\\dkq50\\anaconda3\\lib\\site-packages (from python-dateutil>=2.7->matplotlib) (1.16.0)\n",
      "Requirement already satisfied: seaborn in c:\\users\\dkq50\\anaconda3\\lib\\site-packages (0.11.2)\n",
      "Requirement already satisfied: numpy>=1.15 in c:\\users\\dkq50\\anaconda3\\lib\\site-packages (from seaborn) (1.21.5)\n",
      "Requirement already satisfied: matplotlib>=2.2 in c:\\users\\dkq50\\anaconda3\\lib\\site-packages (from seaborn) (3.5.1)\n",
      "Requirement already satisfied: pandas>=0.23 in c:\\users\\dkq50\\anaconda3\\lib\\site-packages (from seaborn) (1.4.1)\n",
      "Requirement already satisfied: scipy>=1.0 in c:\\users\\dkq50\\anaconda3\\lib\\site-packages (from seaborn) (1.8.0)\n",
      "Requirement already satisfied: pyparsing>=2.2.1 in c:\\users\\dkq50\\anaconda3\\lib\\site-packages (from matplotlib>=2.2->seaborn) (3.0.4)\n",
      "Requirement already satisfied: pillow>=6.2.0 in c:\\users\\dkq50\\anaconda3\\lib\\site-packages (from matplotlib>=2.2->seaborn) (8.4.0)\n",
      "Requirement already satisfied: fonttools>=4.22.0 in c:\\users\\dkq50\\anaconda3\\lib\\site-packages (from matplotlib>=2.2->seaborn) (4.30.0)\n",
      "Requirement already satisfied: packaging>=20.0 in c:\\users\\dkq50\\anaconda3\\lib\\site-packages (from matplotlib>=2.2->seaborn) (21.3)\n",
      "Requirement already satisfied: kiwisolver>=1.0.1 in c:\\users\\dkq50\\anaconda3\\lib\\site-packages (from matplotlib>=2.2->seaborn) (1.3.2)\n",
      "Requirement already satisfied: cycler>=0.10 in c:\\users\\dkq50\\anaconda3\\lib\\site-packages (from matplotlib>=2.2->seaborn) (0.11.0)\n",
      "Requirement already satisfied: python-dateutil>=2.7 in c:\\users\\dkq50\\anaconda3\\lib\\site-packages (from matplotlib>=2.2->seaborn) (2.8.2)\n",
      "Requirement already satisfied: pytz>=2020.1 in c:\\users\\dkq50\\anaconda3\\lib\\site-packages (from pandas>=0.23->seaborn) (2021.3)\n",
      "Requirement already satisfied: six>=1.5 in c:\\users\\dkq50\\anaconda3\\lib\\site-packages (from python-dateutil>=2.7->matplotlib>=2.2->seaborn) (1.16.0)\n"
     ]
    }
   ],
   "source": [
    "!pip install sklearn\n",
    "!pip install matplotlib\n",
    "!pip install seaborn"
   ]
  },
  {
   "cell_type": "code",
   "execution_count": 63,
   "metadata": {},
   "outputs": [],
   "source": [
    "import pandas as pd\n",
    "import numpy as np\n",
    "import pickle\n",
    "\n",
    "from gensim.models import word2vec\n",
    "from sklearn.manifold import TSNE\n",
    "import matplotlib as mpl\n",
    "import matplotlib.pyplot as plt\n",
    "import gensim \n",
    "import gensim.models as g\n",
    "\n",
    "import logging\n",
    "logging.basicConfig(\n",
    "    format='%(asctime)s : %(levelname)s : %(message)s', \n",
    "    level=logging.INFO)\n",
    "\n",
    "import matplotlib as mpl\n",
    "import matplotlib.pyplot as plt\n",
    "import matplotlib.font_manager as fm\n",
    "plt.rc('font', family='Malgun Gothic')\n",
    "import matplotlib.pyplot as plt\n",
    "import seaborn as sns\n",
    "\n",
    "from sklearn.impute import SimpleImputer\n",
    "from sklearn.ensemble import RandomForestClassifier\n",
    "from sklearn.model_selection import cross_val_score"
   ]
  },
  {
   "cell_type": "code",
   "execution_count": 64,
   "metadata": {},
   "outputs": [],
   "source": [
    "def hangul():\n",
    "    # 한글 폰트 사용을 위해서 세팅\n",
    "    from matplotlib import font_manager, rc\n",
    "    font_path = \"C:/Windows/Fonts/NGULIM.TTF\"\n",
    "    font = font_manager.FontProperties(fname=font_path).get_name()\n",
    "    rc('font', family=font)"
   ]
  },
  {
   "cell_type": "code",
   "execution_count": 65,
   "metadata": {},
   "outputs": [
    {
     "name": "stdout",
     "output_type": "stream",
     "text": [
      "c:\\머신러닝\\미니프로젝트\\데이터\n"
     ]
    }
   ],
   "source": [
    "os.chdir(\"c:/머신러닝/미니프로젝트/데이터\")\n",
    "print(os.getcwd())"
   ]
  },
  {
   "cell_type": "code",
   "execution_count": 66,
   "metadata": {},
   "outputs": [],
   "source": [
    "# Load variables #\n",
    "# 전처리 완료된 학습/테스트 데이터 바로 불러오기 #\n",
    "with open('sample.pickle', 'rb') as pic:\n",
    "    train_df, test_df = pickle.load(pic)"
   ]
  },
  {
   "cell_type": "code",
   "execution_count": 67,
   "metadata": {},
   "outputs": [],
   "source": [
    "from sklearn.model_selection import train_test_split\n",
    "\n",
    "# shuffle = False\n",
    "\n",
    "train_df, test_df = train_test_split(train_df, \n",
    "\n",
    "                                                    test_size=0.4, \n",
    "\n",
    "                                                    shuffle=False, \n",
    "\n",
    "                                                    random_state=1004)"
   ]
  },
  {
   "cell_type": "code",
   "execution_count": 25,
   "metadata": {},
   "outputs": [],
   "source": [
    "test_df = test_df[['글번호','제목','작성일','내용','부서의견','contents','tokens','all_tokens']]"
   ]
  },
  {
   "cell_type": "markdown",
   "metadata": {},
   "source": [
    "# 민원 건당 단어 수 #\n",
    "## Word2vec 모델 파라메터 값 설정에 참고될 통계량 ##"
   ]
  },
  {
   "cell_type": "markdown",
   "metadata": {},
   "source": [
    "### 학습 데이터 ###"
   ]
  },
  {
   "cell_type": "code",
   "execution_count": 68,
   "metadata": {},
   "outputs": [
    {
     "data": {
      "text/plain": [
       "count    5923.000000\n",
       "mean       96.220159\n",
       "std        93.173400\n",
       "min         0.000000\n",
       "25%        45.000000\n",
       "50%        72.000000\n",
       "75%       116.000000\n",
       "max      1810.000000\n",
       "Name: tokens, dtype: float64"
      ]
     },
     "execution_count": 68,
     "metadata": {},
     "output_type": "execute_result"
    }
   ],
   "source": [
    "train_df['tokens'].str.len().describe()"
   ]
  },
  {
   "cell_type": "markdown",
   "metadata": {},
   "source": [
    "### 테스트 데이터 ###"
   ]
  },
  {
   "cell_type": "code",
   "execution_count": 69,
   "metadata": {},
   "outputs": [
    {
     "data": {
      "text/plain": [
       "count    3949.000000\n",
       "mean      114.191188\n",
       "std       118.690910\n",
       "min         0.000000\n",
       "25%        51.000000\n",
       "50%        86.000000\n",
       "75%       142.000000\n",
       "max      3364.000000\n",
       "Name: tokens, dtype: float64"
      ]
     },
     "execution_count": 69,
     "metadata": {},
     "output_type": "execute_result"
    }
   ],
   "source": [
    "test_df['tokens'].str.len().describe()"
   ]
  },
  {
   "cell_type": "markdown",
   "metadata": {},
   "source": [
    "# 01 Word2vec 모델링 #\n",
    "## 코드 참고 : https://programmers.co.kr/learn/courses/21"
   ]
  },
  {
   "cell_type": "markdown",
   "metadata": {},
   "source": [
    "## Word2vec 파라미터 값 지정 ##"
   ]
  },
  {
   "cell_type": "code",
   "execution_count": 70,
   "metadata": {},
   "outputs": [
    {
     "data": {
      "text/html": [
       "<div>\n",
       "<style scoped>\n",
       "    .dataframe tbody tr th:only-of-type {\n",
       "        vertical-align: middle;\n",
       "    }\n",
       "\n",
       "    .dataframe tbody tr th {\n",
       "        vertical-align: top;\n",
       "    }\n",
       "\n",
       "    .dataframe thead th {\n",
       "        text-align: right;\n",
       "    }\n",
       "</style>\n",
       "<table border=\"1\" class=\"dataframe\">\n",
       "  <thead>\n",
       "    <tr style=\"text-align: right;\">\n",
       "      <th></th>\n",
       "      <th>글번호</th>\n",
       "      <th>제목</th>\n",
       "      <th>작성일</th>\n",
       "      <th>분류</th>\n",
       "      <th>내용</th>\n",
       "      <th>부서의견</th>\n",
       "    </tr>\n",
       "  </thead>\n",
       "  <tbody>\n",
       "    <tr>\n",
       "      <th>0</th>\n",
       "      <td>150587</td>\n",
       "      <td>횡단보도 사각지대 반사경</td>\n",
       "      <td>2012-10-30</td>\n",
       "      <td>교통</td>\n",
       "      <td>운전을 하다보면 횡단보도 주변에 적치물들 때문에 사각지대가 형성되어 사람이 보이지 ...</td>\n",
       "      <td>좋은 제안 주신 whatsmatter 님께 감사드리며, 제안을 검토한 결과를 다음과...</td>\n",
       "    </tr>\n",
       "    <tr>\n",
       "      <th>1</th>\n",
       "      <td>150594</td>\n",
       "      <td>자전거 횡단보도 내려서 끌고가기</td>\n",
       "      <td>2012-10-30</td>\n",
       "      <td>교통</td>\n",
       "      <td>자전거 횡단보도와 자전거 표지를 보면 마치 자전거를 타고 건너도 되는 것처럼 보이고...</td>\n",
       "      <td>- 말씀하신 제안에는 충분히 공감합니다. 다만 교통안전표지(노면표시)는 도로교통법상...</td>\n",
       "    </tr>\n",
       "  </tbody>\n",
       "</table>\n",
       "</div>"
      ],
      "text/plain": [
       "      글번호                 제목         작성일  분류  \\\n",
       "0  150587      횡단보도 사각지대 반사경  2012-10-30  교통   \n",
       "1  150594  자전거 횡단보도 내려서 끌고가기  2012-10-30  교통   \n",
       "\n",
       "                                                  내용  \\\n",
       "0  운전을 하다보면 횡단보도 주변에 적치물들 때문에 사각지대가 형성되어 사람이 보이지 ...   \n",
       "1  자전거 횡단보도와 자전거 표지를 보면 마치 자전거를 타고 건너도 되는 것처럼 보이고...   \n",
       "\n",
       "                                                부서의견  \n",
       "0  좋은 제안 주신 whatsmatter 님께 감사드리며, 제안을 검토한 결과를 다음과...  \n",
       "1  - 말씀하신 제안에는 충분히 공감합니다. 다만 교통안전표지(노면표시)는 도로교통법상...  "
      ]
     },
     "execution_count": 70,
     "metadata": {},
     "output_type": "execute_result"
    }
   ],
   "source": [
    "train = pd.read_csv('train.csv',sep='\\t')\n",
    "train.head(2)"
   ]
  },
  {
   "cell_type": "code",
   "execution_count": 71,
   "metadata": {},
   "outputs": [],
   "source": [
    "from sklearn.model_selection import train_test_split\n",
    "\n",
    "\n",
    "# shuffle = False\n",
    "\n",
    "train, test = train_test_split(train, \n",
    "\n",
    "                                                    test_size=0.4, \n",
    "\n",
    "                                                    shuffle=False, \n",
    "\n",
    "                                                    random_state=1004)\n",
    "\n"
   ]
  },
  {
   "cell_type": "code",
   "execution_count": 31,
   "metadata": {},
   "outputs": [
    {
     "data": {
      "text/html": [
       "<div>\n",
       "<style scoped>\n",
       "    .dataframe tbody tr th:only-of-type {\n",
       "        vertical-align: middle;\n",
       "    }\n",
       "\n",
       "    .dataframe tbody tr th {\n",
       "        vertical-align: top;\n",
       "    }\n",
       "\n",
       "    .dataframe thead th {\n",
       "        text-align: right;\n",
       "    }\n",
       "</style>\n",
       "<table border=\"1\" class=\"dataframe\">\n",
       "  <thead>\n",
       "    <tr style=\"text-align: right;\">\n",
       "      <th></th>\n",
       "      <th>글번호</th>\n",
       "      <th>제목</th>\n",
       "      <th>작성일</th>\n",
       "      <th>내용</th>\n",
       "      <th>부서의견</th>\n",
       "    </tr>\n",
       "  </thead>\n",
       "  <tbody>\n",
       "    <tr>\n",
       "      <th>6406</th>\n",
       "      <td>167828</td>\n",
       "      <td>큰교차로나 일반차도에 미리알수있는 바닥표시판</td>\n",
       "      <td>2014-10-21</td>\n",
       "      <td>안녕하세요 시정관계자님.....우리가 일상생활에서 많이차지하는게 자동차운전입니다길을...</td>\n",
       "      <td>NaN</td>\n",
       "    </tr>\n",
       "    <tr>\n",
       "      <th>6407</th>\n",
       "      <td>167829</td>\n",
       "      <td>버스정거장에 열풍기가있으면좋겠어요</td>\n",
       "      <td>2014-10-21</td>\n",
       "      <td>벌써 10월후반입니다요즘들어 날씨가 갈수록 쌀쌀해지고있읍니다앞으로 추운겨울이 점점다...</td>\n",
       "      <td>NaN</td>\n",
       "    </tr>\n",
       "    <tr>\n",
       "      <th>6408</th>\n",
       "      <td>167831</td>\n",
       "      <td>서울시 환풍기 시설물 관리 개선 대책</td>\n",
       "      <td>2014-10-21</td>\n",
       "      <td>● 제안취지  현재 법적으로 환풍기 설치에 대하여 국토교통부령으로 정한 ‘건축물의 ...</td>\n",
       "      <td>NaN</td>\n",
       "    </tr>\n",
       "    <tr>\n",
       "      <th>6409</th>\n",
       "      <td>167834</td>\n",
       "      <td>삼청동 일대 쓰레기통 설치</td>\n",
       "      <td>2014-10-22</td>\n",
       "      <td>최근에, 북촌한옥마을 부터 가회동, 삼청동 일대를 방문하게 되었습니다.볼거리가 많아...</td>\n",
       "      <td>NaN</td>\n",
       "    </tr>\n",
       "    <tr>\n",
       "      <th>6410</th>\n",
       "      <td>167837</td>\n",
       "      <td>여자 화장실에 어린이용 남자변기 설치</td>\n",
       "      <td>2014-10-22</td>\n",
       "      <td>우리나라의 화장실은 어디를 가든 남자용은 한가한데 여자화장실은 항상 줄이 서있습니...</td>\n",
       "      <td>NaN</td>\n",
       "    </tr>\n",
       "  </tbody>\n",
       "</table>\n",
       "</div>"
      ],
      "text/plain": [
       "         글번호                        제목         작성일  \\\n",
       "6406  167828  큰교차로나 일반차도에 미리알수있는 바닥표시판  2014-10-21   \n",
       "6407  167829        버스정거장에 열풍기가있으면좋겠어요  2014-10-21   \n",
       "6408  167831      서울시 환풍기 시설물 관리 개선 대책  2014-10-21   \n",
       "6409  167834            삼청동 일대 쓰레기통 설치  2014-10-22   \n",
       "6410  167837      여자 화장실에 어린이용 남자변기 설치  2014-10-22   \n",
       "\n",
       "                                                     내용 부서의견  \n",
       "6406  안녕하세요 시정관계자님.....우리가 일상생활에서 많이차지하는게 자동차운전입니다길을...  NaN  \n",
       "6407  벌써 10월후반입니다요즘들어 날씨가 갈수록 쌀쌀해지고있읍니다앞으로 추운겨울이 점점다...  NaN  \n",
       "6408  ● 제안취지  현재 법적으로 환풍기 설치에 대하여 국토교통부령으로 정한 ‘건축물의 ...  NaN  \n",
       "6409  최근에, 북촌한옥마을 부터 가회동, 삼청동 일대를 방문하게 되었습니다.볼거리가 많아...  NaN  \n",
       "6410   우리나라의 화장실은 어디를 가든 남자용은 한가한데 여자화장실은 항상 줄이 서있습니...  NaN  "
      ]
     },
     "execution_count": 31,
     "metadata": {},
     "output_type": "execute_result"
    }
   ],
   "source": [
    "test = test[['글번호','제목','작성일','내용','부서의견']]\n",
    "test.head()"
   ]
  },
  {
   "cell_type": "code",
   "execution_count": 72,
   "metadata": {},
   "outputs": [],
   "source": [
    "train_documents = train_df['tokens'].to_list() # 학습데이터 토크나이징 완료한 문서\n",
    "test_documents = test_df['tokens'].to_list() # 학습데이터 토크나이징 완료한 문서"
   ]
  },
  {
   "cell_type": "code",
   "execution_count": 73,
   "metadata": {},
   "outputs": [],
   "source": [
    "num_features = 500 # 문자 벡터 차원 수\n",
    "min_word_count = 40 # 최소 문자 수 (등장빈도 40회 이하인 단어는 취급 X)\n",
    "num_workers = 6 # 병렬 처리 스레드 수\n",
    "context = 20 # 문자열 창 크기\n",
    "downsampling = 1e-3 # 문자 빈도수 Downsample"
   ]
  },
  {
   "cell_type": "markdown",
   "metadata": {},
   "source": [
    "## 모델 학습 ##"
   ]
  },
  {
   "cell_type": "code",
   "execution_count": 74,
   "metadata": {},
   "outputs": [
    {
     "name": "stderr",
     "output_type": "stream",
     "text": [
      "2022-03-12 13:02:50,690 : INFO : collecting all words and their counts\n",
      "2022-03-12 13:02:50,691 : INFO : PROGRESS: at sentence #0, processed 0 words, keeping 0 word types\n",
      "2022-03-12 13:02:50,783 : INFO : collected 23133 word types from a corpus of 569912 raw words and 5923 sentences\n",
      "2022-03-12 13:02:50,784 : INFO : Creating a fresh vocabulary\n",
      "2022-03-12 13:02:50,802 : INFO : Word2Vec lifecycle event {'msg': 'effective_min_count=40 retains 2553 unique words (11.03618207755155%% of original 23133, drops 20580)', 'datetime': '2022-03-12T13:02:50.802823', 'gensim': '4.1.2', 'python': '3.9.7 (default, Sep 16 2021, 16:59:28) [MSC v.1916 64 bit (AMD64)]', 'platform': 'Windows-10-10.0.22000-SP0', 'event': 'prepare_vocab'}\n",
      "2022-03-12 13:02:50,802 : INFO : Word2Vec lifecycle event {'msg': 'effective_min_count=40 leaves 446165 word corpus (78.28664776316343%% of original 569912, drops 123747)', 'datetime': '2022-03-12T13:02:50.802823', 'gensim': '4.1.2', 'python': '3.9.7 (default, Sep 16 2021, 16:59:28) [MSC v.1916 64 bit (AMD64)]', 'platform': 'Windows-10-10.0.22000-SP0', 'event': 'prepare_vocab'}\n",
      "2022-03-12 13:02:50,818 : INFO : deleting the raw counts dictionary of 23133 items\n",
      "2022-03-12 13:02:50,820 : INFO : sample=0.001 downsamples 33 most-common words\n",
      "2022-03-12 13:02:50,820 : INFO : Word2Vec lifecycle event {'msg': 'downsampling leaves estimated 426864.70280162804 word corpus (95.7%% of prior 446165)', 'datetime': '2022-03-12T13:02:50.820047', 'gensim': '4.1.2', 'python': '3.9.7 (default, Sep 16 2021, 16:59:28) [MSC v.1916 64 bit (AMD64)]', 'platform': 'Windows-10-10.0.22000-SP0', 'event': 'prepare_vocab'}\n",
      "2022-03-12 13:02:50,853 : INFO : estimated required memory for 2553 words and 500 dimensions: 11488500 bytes\n",
      "2022-03-12 13:02:50,854 : INFO : resetting layer weights\n",
      "2022-03-12 13:02:50,859 : INFO : Word2Vec lifecycle event {'update': False, 'trim_rule': 'None', 'datetime': '2022-03-12T13:02:50.859818', 'gensim': '4.1.2', 'python': '3.9.7 (default, Sep 16 2021, 16:59:28) [MSC v.1916 64 bit (AMD64)]', 'platform': 'Windows-10-10.0.22000-SP0', 'event': 'build_vocab'}\n",
      "2022-03-12 13:02:50,860 : INFO : Word2Vec lifecycle event {'msg': 'training model with 6 workers on 2553 vocabulary and 500 features, using sg=0 hs=0 sample=0.001 negative=5 window=20 shrink_windows=True', 'datetime': '2022-03-12T13:02:50.860819', 'gensim': '4.1.2', 'python': '3.9.7 (default, Sep 16 2021, 16:59:28) [MSC v.1916 64 bit (AMD64)]', 'platform': 'Windows-10-10.0.22000-SP0', 'event': 'train'}\n",
      "2022-03-12 13:02:51,367 : INFO : worker thread finished; awaiting finish of 5 more threads\n",
      "2022-03-12 13:02:51,374 : INFO : worker thread finished; awaiting finish of 4 more threads\n",
      "2022-03-12 13:02:51,380 : INFO : worker thread finished; awaiting finish of 3 more threads\n",
      "2022-03-12 13:02:51,386 : INFO : worker thread finished; awaiting finish of 2 more threads\n",
      "2022-03-12 13:02:51,395 : INFO : worker thread finished; awaiting finish of 1 more threads\n",
      "2022-03-12 13:02:51,401 : INFO : worker thread finished; awaiting finish of 0 more threads\n",
      "2022-03-12 13:02:51,402 : INFO : EPOCH - 1 : training on 569912 raw words (426822 effective words) took 0.5s, 791792 effective words/s\n",
      "2022-03-12 13:02:51,937 : INFO : worker thread finished; awaiting finish of 5 more threads\n",
      "2022-03-12 13:02:51,941 : INFO : worker thread finished; awaiting finish of 4 more threads\n",
      "2022-03-12 13:02:51,944 : INFO : worker thread finished; awaiting finish of 3 more threads\n",
      "2022-03-12 13:02:51,946 : INFO : worker thread finished; awaiting finish of 2 more threads\n",
      "2022-03-12 13:02:51,958 : INFO : worker thread finished; awaiting finish of 1 more threads\n",
      "2022-03-12 13:02:51,959 : INFO : worker thread finished; awaiting finish of 0 more threads\n",
      "2022-03-12 13:02:51,960 : INFO : EPOCH - 2 : training on 569912 raw words (426833 effective words) took 0.6s, 769522 effective words/s\n",
      "2022-03-12 13:02:52,452 : INFO : worker thread finished; awaiting finish of 5 more threads\n",
      "2022-03-12 13:02:52,453 : INFO : worker thread finished; awaiting finish of 4 more threads\n",
      "2022-03-12 13:02:52,463 : INFO : worker thread finished; awaiting finish of 3 more threads\n",
      "2022-03-12 13:02:52,472 : INFO : worker thread finished; awaiting finish of 2 more threads\n",
      "2022-03-12 13:02:52,479 : INFO : worker thread finished; awaiting finish of 1 more threads\n",
      "2022-03-12 13:02:52,480 : INFO : worker thread finished; awaiting finish of 0 more threads\n",
      "2022-03-12 13:02:52,481 : INFO : EPOCH - 3 : training on 569912 raw words (426692 effective words) took 0.5s, 825929 effective words/s\n",
      "2022-03-12 13:02:52,964 : INFO : worker thread finished; awaiting finish of 5 more threads\n",
      "2022-03-12 13:02:52,964 : INFO : worker thread finished; awaiting finish of 4 more threads\n",
      "2022-03-12 13:02:52,965 : INFO : worker thread finished; awaiting finish of 3 more threads\n",
      "2022-03-12 13:02:52,971 : INFO : worker thread finished; awaiting finish of 2 more threads\n",
      "2022-03-12 13:02:52,972 : INFO : worker thread finished; awaiting finish of 1 more threads\n",
      "2022-03-12 13:02:52,986 : INFO : worker thread finished; awaiting finish of 0 more threads\n",
      "2022-03-12 13:02:52,987 : INFO : EPOCH - 4 : training on 569912 raw words (426719 effective words) took 0.5s, 848331 effective words/s\n",
      "2022-03-12 13:02:53,474 : INFO : worker thread finished; awaiting finish of 5 more threads\n",
      "2022-03-12 13:02:53,478 : INFO : worker thread finished; awaiting finish of 4 more threads\n",
      "2022-03-12 13:02:53,485 : INFO : worker thread finished; awaiting finish of 3 more threads\n",
      "2022-03-12 13:02:53,489 : INFO : worker thread finished; awaiting finish of 2 more threads\n",
      "2022-03-12 13:02:53,500 : INFO : worker thread finished; awaiting finish of 1 more threads\n",
      "2022-03-12 13:02:53,501 : INFO : worker thread finished; awaiting finish of 0 more threads\n",
      "2022-03-12 13:02:53,501 : INFO : EPOCH - 5 : training on 569912 raw words (426792 effective words) took 0.5s, 833702 effective words/s\n",
      "2022-03-12 13:02:53,502 : INFO : Word2Vec lifecycle event {'msg': 'training on 2849560 raw words (2133858 effective words) took 2.6s, 807756 effective words/s', 'datetime': '2022-03-12T13:02:53.502972', 'gensim': '4.1.2', 'python': '3.9.7 (default, Sep 16 2021, 16:59:28) [MSC v.1916 64 bit (AMD64)]', 'platform': 'Windows-10-10.0.22000-SP0', 'event': 'train'}\n",
      "2022-03-12 13:02:53,502 : INFO : Word2Vec lifecycle event {'params': 'Word2Vec(vocab=2553, vector_size=500, alpha=0.025)', 'datetime': '2022-03-12T13:02:53.502972', 'gensim': '4.1.2', 'python': '3.9.7 (default, Sep 16 2021, 16:59:28) [MSC v.1916 64 bit (AMD64)]', 'platform': 'Windows-10-10.0.22000-SP0', 'event': 'created'}\n"
     ]
    }
   ],
   "source": [
    "# 문장을 이용하여 단어와 벡터를 생성한다.\n",
    "model = word2vec.Word2Vec(train_documents,\n",
    "                          workers=num_workers, \n",
    "                          vector_size=num_features, \n",
    "                          min_count=min_word_count,\n",
    "                          window=context,\n",
    "                          sample=downsampling)"
   ]
  },
  {
   "cell_type": "code",
   "execution_count": 75,
   "metadata": {},
   "outputs": [
    {
     "data": {
      "text/plain": [
       "<gensim.models.word2vec.Word2Vec at 0x1d1610aa2b0>"
      ]
     },
     "execution_count": 75,
     "metadata": {},
     "output_type": "execute_result"
    }
   ],
   "source": [
    "# 모델 확인\n",
    "model"
   ]
  },
  {
   "cell_type": "markdown",
   "metadata": {},
   "source": [
    "### 특정 단어와 가장 유사한 단어 추출 ###"
   ]
  },
  {
   "cell_type": "code",
   "execution_count": 76,
   "metadata": {},
   "outputs": [
    {
     "data": {
      "text/plain": [
       "[('도난', 0.7836079001426697),\n",
       " ('공공자전거', 0.7713324427604675),\n",
       " ('대여소', 0.7307595610618591),\n",
       " ('자전거도로', 0.6922687888145447),\n",
       " ('보관소', 0.6748361587524414),\n",
       " ('대여', 0.6687586307525635),\n",
       " ('빌리다', 0.640824019908905),\n",
       " ('전동휠체어', 0.6327247619628906),\n",
       " ('수리', 0.6280931234359741),\n",
       " ('수상', 0.6049340963363647)]"
      ]
     },
     "execution_count": 76,
     "metadata": {},
     "output_type": "execute_result"
    }
   ],
   "source": [
    "model.wv.most_similar('자전거')"
   ]
  },
  {
   "cell_type": "code",
   "execution_count": 77,
   "metadata": {},
   "outputs": [
    {
     "data": {
      "text/plain": [
       "[('도서', 0.9328919649124146),\n",
       " ('책', 0.9130744934082031),\n",
       " ('공공도서관', 0.8650210499763489),\n",
       " ('시립', 0.7747664451599121),\n",
       " ('교환', 0.7277569770812988),\n",
       " ('반납', 0.6907364726066589),\n",
       " ('구립', 0.6900768280029297),\n",
       " ('독서', 0.6752644181251526),\n",
       " ('대출', 0.6726968884468079),\n",
       " ('고도', 0.6251904368400574)]"
      ]
     },
     "execution_count": 77,
     "metadata": {},
     "output_type": "execute_result"
    }
   ],
   "source": [
    "model.wv.most_similar('도서관')"
   ]
  },
  {
   "cell_type": "code",
   "execution_count": 78,
   "metadata": {},
   "outputs": [
    {
     "data": {
      "text/plain": [
       "[('흡연자', 0.9489367008209229),\n",
       " ('흡연', 0.9226299524307251),\n",
       " ('흡연구역', 0.9217460751533508),\n",
       " ('피우다', 0.9172914624214172),\n",
       " ('술', 0.8565719723701477),\n",
       " ('간접흡연', 0.8536083698272705),\n",
       " ('흡연실', 0.8350812792778015),\n",
       " ('꽁초', 0.8264760971069336),\n",
       " ('담배꽁초', 0.8110034465789795),\n",
       " ('금연', 0.8059322237968445)]"
      ]
     },
     "execution_count": 78,
     "metadata": {},
     "output_type": "execute_result"
    }
   ],
   "source": [
    "model.wv.most_similar('담배')"
   ]
  },
  {
   "cell_type": "markdown",
   "metadata": {},
   "source": [
    "### 입력한 복수의 단어 中 유사하지 않은 단어 추출 ###"
   ]
  },
  {
   "cell_type": "code",
   "execution_count": 79,
   "metadata": {},
   "outputs": [
    {
     "data": {
      "text/plain": [
       "'자전거'"
      ]
     },
     "execution_count": 79,
     "metadata": {},
     "output_type": "execute_result"
    }
   ],
   "source": [
    "model.wv.doesnt_match('자전거 버스 택시'.split())"
   ]
  },
  {
   "cell_type": "code",
   "execution_count": 80,
   "metadata": {},
   "outputs": [
    {
     "data": {
      "text/plain": [
       "'시민'"
      ]
     },
     "execution_count": 80,
     "metadata": {},
     "output_type": "execute_result"
    }
   ],
   "source": [
    "model.wv.doesnt_match('임산부 노인 시민'.split())"
   ]
  },
  {
   "cell_type": "markdown",
   "metadata": {},
   "source": [
    "### 학습 완료 후 필요없는 메모리 unload ###"
   ]
  },
  {
   "cell_type": "code",
   "execution_count": 81,
   "metadata": {},
   "outputs": [
    {
     "name": "stderr",
     "output_type": "stream",
     "text": [
      "C:\\Users\\dkq50\\AppData\\Local\\Temp/ipykernel_22320/1992334471.py:1: DeprecationWarning: Call to deprecated `init_sims` (Gensim 4.0.0 implemented internal optimizations that make calls to init_sims() unnecessary. init_sims() is now obsoleted and will be completely removed in future versions. See https://github.com/RaRe-Technologies/gensim/wiki/Migrating-from-Gensim-3.x-to-4).\n",
      "  model.init_sims(replace=True)\n",
      "2022-03-12 13:03:00,566 : WARNING : destructive init_sims(replace=True) deprecated & no longer required for space-efficiency\n"
     ]
    }
   ],
   "source": [
    "model.init_sims(replace=True)"
   ]
  },
  {
   "cell_type": "markdown",
   "metadata": {},
   "source": [
    "### 모델 저장 ###"
   ]
  },
  {
   "cell_type": "code",
   "execution_count": 82,
   "metadata": {},
   "outputs": [
    {
     "name": "stderr",
     "output_type": "stream",
     "text": [
      "2022-03-12 13:03:01,908 : INFO : Word2Vec lifecycle event {'fname_or_handle': './500features_40minwords_20context', 'separately': 'None', 'sep_limit': 10485760, 'ignore': frozenset(), 'datetime': '2022-03-12T13:03:01.908291', 'gensim': '4.1.2', 'python': '3.9.7 (default, Sep 16 2021, 16:59:28) [MSC v.1916 64 bit (AMD64)]', 'platform': 'Windows-10-10.0.22000-SP0', 'event': 'saving'}\n",
      "2022-03-12 13:03:01,909 : INFO : not storing attribute cum_table\n",
      "2022-03-12 13:03:01,919 : INFO : saved ./500features_40minwords_20context\n"
     ]
    }
   ],
   "source": [
    "model_name = '500features_40minwords_20context' #모델 이름 지정\n",
    "model.save(f'./{model_name}')"
   ]
  },
  {
   "cell_type": "markdown",
   "metadata": {},
   "source": [
    "### 모델 로드"
   ]
  },
  {
   "cell_type": "code",
   "execution_count": 83,
   "metadata": {},
   "outputs": [
    {
     "name": "stderr",
     "output_type": "stream",
     "text": [
      "2022-03-12 13:03:05,287 : INFO : loading Word2Vec object from ./500features_40minwords_20context\n",
      "2022-03-12 13:03:05,292 : INFO : loading wv recursively from ./500features_40minwords_20context.wv.* with mmap=None\n",
      "2022-03-12 13:03:05,293 : INFO : setting ignored attribute cum_table to None\n",
      "2022-03-12 13:03:05,319 : INFO : Word2Vec lifecycle event {'fname': './500features_40minwords_20context', 'datetime': '2022-03-12T13:03:05.319483', 'gensim': '4.1.2', 'python': '3.9.7 (default, Sep 16 2021, 16:59:28) [MSC v.1916 64 bit (AMD64)]', 'platform': 'Windows-10-10.0.22000-SP0', 'event': 'loaded'}\n"
     ]
    }
   ],
   "source": [
    "# 추후 필요할 때 활용\n",
    "model = word2vec.Word2Vec.load('./500features_40minwords_20context')"
   ]
  },
  {
   "cell_type": "markdown",
   "metadata": {},
   "source": [
    "### Word2Vec 모델"
   ]
  },
  {
   "cell_type": "code",
   "execution_count": 84,
   "metadata": {},
   "outputs": [],
   "source": [
    "from gensim.models import Word2Vec\n",
    "\n",
    "# 단어벡터를 구한다.\n",
    "word_vectors = model.wv\n",
    "\n",
    "vocabs= word_vectors.key_to_index.keys()\n",
    "word_vectors_list = [word_vectors[v] for v in vocabs]"
   ]
  },
  {
   "cell_type": "markdown",
   "metadata": {},
   "source": [
    "### 임베딩 결과 시각화\n",
    "#### 1) PCA\n",
    "300차원 벡터를 시각화하기 위해서는 2차원 혹은 3차원으로 벡터를 축소하는 과정이 필요합니다. 이런 방식을 '차원 축소'라고 부르고, PCA는 대표적인 차원 축소 방식 중 하나 입니다. "
   ]
  },
  {
   "cell_type": "code",
   "execution_count": 85,
   "metadata": {},
   "outputs": [],
   "source": [
    "from sklearn.decomposition import PCA\n",
    "pca = PCA(n_components=2)\n",
    "xys = pca.fit_transform(word_vectors_list[:100])\n",
    "xs = xys[:,0]\n",
    "ys = xys[:,1]"
   ]
  },
  {
   "cell_type": "markdown",
   "metadata": {},
   "source": [
    "사이킷런의 PCA 모듈을 이용했다. n_components는 input 데이터를 몇 차원으로 축소시킬 것인지를 의미합니다. 2차원 벡터의 x 값은 xs에, y 값은 ys에 저장했습니다."
   ]
  },
  {
   "cell_type": "code",
   "execution_count": 86,
   "metadata": {},
   "outputs": [],
   "source": [
    "# 단어와 2차원 X축의 값, Y축의 값을 입력받아 2차원 그래프를 그린다\n",
    "def plot_2d_graph(vocabs, xs, ys):\n",
    "    plt.figure(figsize=(15 ,10))\n",
    "    plt.scatter(xs, ys, marker = 'o')\n",
    "    for i, v in enumerate(list(vocabs)[:100]):\n",
    "        plt.annotate(v, xy=(xs[i], ys[i]))"
   ]
  },
  {
   "cell_type": "code",
   "execution_count": 87,
   "metadata": {},
   "outputs": [
    {
     "data": {
      "image/png": "[encoded data removed]",
      "text/plain": [
       "<Figure size 1080x720 with 1 Axes>"
      ]
     },
     "metadata": {
      "needs_background": "light"
     },
     "output_type": "display_data"
    }
   ],
   "source": [
    "hangul()\n",
    "plot_2d_graph(vocabs, xs, ys)"
   ]
  },
  {
   "cell_type": "markdown",
   "metadata": {},
   "source": [
    "많은 벡터가 가운데에 모여 있는 것을 확인할 수 있습니다. 300차원의 벡터를 2차원에 나타내다 보니 결과가 아주 우수하다고 보기는 어려움"
   ]
  },
  {
   "cell_type": "markdown",
   "metadata": {},
   "source": [
    "#### 2) t-SNE\n",
    "PCA가 자주 이용되는 차원 축소 방식이긴 하지만, 위의 결과와 같이 PCA는 군집의 변별력을 죽인다는 단점이 있습니다. (자세한 내용은 여기서 확인할 수 있다.) 이러한 단점을 개선한 방식이 t-SNE 차원축소 방식입니다. 실제로 임베딩 결과는 t-SNE로 나타내는 경우가 많습니다."
   ]
  },
  {
   "cell_type": "code",
   "execution_count": 247,
   "metadata": {},
   "outputs": [
    {
     "name": "stderr",
     "output_type": "stream",
     "text": [
      "C:\\Users\\dkq50\\anaconda3\\lib\\site-packages\\sklearn\\manifold\\_t_sne.py:780: FutureWarning: The default initialization in TSNE will change from 'random' to 'pca' in 1.2.\n",
      "  warnings.warn(\n"
     ]
    },
    {
     "data": {
      "image/png": "[encoded data removed]",
      "text/plain": [
       "<Figure size 1800x720 with 1 Axes>"
      ]
     },
     "metadata": {
      "needs_background": "light"
     },
     "output_type": "display_data"
    }
   ],
   "source": [
    "from sklearn.manifold import TSNE\n",
    "\n",
    "model2 = TSNE(learning_rate=100)\n",
    "transformed = model2.fit_transform(word_vectors_list[:100])\n",
    "\n",
    "xs2 = transformed[:,0]\n",
    "ys2 = transformed[:,1]\n",
    "\n",
    "plt.figure(figsize=(25,10))\n",
    "\n",
    "plt.scatter(xs2, ys2)\n",
    "for i,v in enumerate(list(vocabs)[:100]):\n",
    "    plt.annotate(v, xy=(xs2[i], ys2[i]))\n",
    "\n",
    "plt.show()"
   ]
  },
  {
   "cell_type": "code",
   "execution_count": 115,
   "metadata": {},
   "outputs": [
    {
     "name": "stderr",
     "output_type": "stream",
     "text": [
      "C:\\Users\\dkq50\\anaconda3\\lib\\site-packages\\sklearn\\manifold\\_t_sne.py:780: FutureWarning: The default initialization in TSNE will change from 'random' to 'pca' in 1.2.\n",
      "  warnings.warn(\n",
      "C:\\Users\\dkq50\\anaconda3\\lib\\site-packages\\sklearn\\manifold\\_t_sne.py:790: FutureWarning: The default learning rate in TSNE will change from 200.0 to 'auto' in 1.2.\n",
      "  warnings.warn(\n",
      "C:\\Users\\dkq50\\anaconda3\\lib\\site-packages\\sklearn\\manifold\\_t_sne.py:780: FutureWarning: The default initialization in TSNE will change from 'random' to 'pca' in 1.2.\n",
      "  warnings.warn(\n",
      "C:\\Users\\dkq50\\anaconda3\\lib\\site-packages\\sklearn\\manifold\\_t_sne.py:790: FutureWarning: The default learning rate in TSNE will change from 200.0 to 'auto' in 1.2.\n",
      "  warnings.warn(\n"
     ]
    }
   ],
   "source": [
    "from sklearn.manifold import TSNE\n",
    "\n",
    "# 2차원 t-SNE 임베딩\n",
    "model2 = TSNE(n_components=2)\n",
    "transformed2 = model2.fit_transform(word_vectors_list[:100])\n",
    "\n",
    "# 3차원 t-SNE 임베딩\n",
    "model3 = TSNE(n_components=3)\n",
    "transformed3 = model3.fit_transform(word_vectors_list)\n",
    "\n",
    "# numpy array -> DataFrame 변환\n",
    "tsne_df2 = pd.DataFrame(transformed2, columns = ['component 0', 'component 1'])\n",
    "tsne_df3 = pd.DataFrame(transformed3, columns = ['component 0', 'component 1','component 2'])"
   ]
  },
  {
   "cell_type": "code",
   "execution_count": 116,
   "metadata": {},
   "outputs": [
    {
     "data": {
      "text/plain": [
       "{'건강', '경제', '교통', '문화', '복지', '세금', '안전', '여성', '주택', '환경'}"
      ]
     },
     "execution_count": 116,
     "metadata": {},
     "output_type": "execute_result"
    }
   ],
   "source": [
    "set(train['분류'])"
   ]
  },
  {
   "cell_type": "markdown",
   "metadata": {},
   "source": [
    "2차원"
   ]
  },
  {
   "cell_type": "code",
   "execution_count": 117,
   "metadata": {},
   "outputs": [
    {
     "name": "stdout",
     "output_type": "stream",
     "text": [
      "<민원 분류 개수> \n",
      " 교통    18\n",
      "안전    15\n",
      "건강    15\n",
      "환경    13\n",
      "문화    11\n",
      "복지    10\n",
      "주택     8\n",
      "경제     6\n",
      "여성     4\n",
      "Name: target, dtype: int64\n"
     ]
    },
    {
     "data": {
      "image/png": "[encoded data removed]",
      "text/plain": [
       "<Figure size 1800x1080 with 1 Axes>"
      ]
     },
     "metadata": {
      "needs_background": "light"
     },
     "output_type": "display_data"
    }
   ],
   "source": [
    "import matplotlib.pyplot as plt\n",
    "\n",
    "tsne_df = tsne_df2\n",
    "# class target 정보 불러오기 \n",
    "tsne_df['target'] = train['분류']\n",
    "\n",
    "# target 별 분리\n",
    "tsne_df_0 = tsne_df[tsne_df['target'] == '건강']\n",
    "tsne_df_1 = tsne_df[tsne_df['target'] == '경제']\n",
    "tsne_df_2 = tsne_df[tsne_df['target'] == '교통']\n",
    "tsne_df_3 = tsne_df[tsne_df['target'] == '문화']\n",
    "tsne_df_4 = tsne_df[tsne_df['target'] == '복지']\n",
    "tsne_df_5 = tsne_df[tsne_df['target'] == '세금']\n",
    "tsne_df_6 = tsne_df[tsne_df['target'] == '안전']\n",
    "tsne_df_7 = tsne_df[tsne_df['target'] == '여성']\n",
    "tsne_df_8 = tsne_df[tsne_df['target'] == '주택']\n",
    "tsne_df_9 = tsne_df[tsne_df['target'] == '환경']\n",
    "\n",
    "\n",
    "plt.figure(figsize=(25,15))\n",
    "print('<민원 분류 개수> \\n',tsne_df2['target'].value_counts())\n",
    "\n",
    "# target 별 시각화\n",
    "plt.scatter(tsne_df_0['component 0'], tsne_df_0['component 1'], color = 'hotpink', label = '건강')\n",
    "plt.scatter(tsne_df_1['component 0'], tsne_df_1['component 1'], color = 'purple', label = '경제')\n",
    "plt.scatter(tsne_df_2['component 0'], tsne_df_2['component 1'], color = 'yellow', label = '교통')\n",
    "plt.scatter(tsne_df_3['component 0'], tsne_df_3['component 1'], color = 'red', label = '문화')\n",
    "plt.scatter(tsne_df_4['component 0'], tsne_df_4['component 1'], color = 'blue', label = '복지')\n",
    "plt.scatter(tsne_df_5['component 0'], tsne_df_5['component 1'], color = 'green', label = '세금')\n",
    "plt.scatter(tsne_df_6['component 0'], tsne_df_6['component 1'], color = 'skyblue', label = '안전')\n",
    "plt.scatter(tsne_df_7['component 0'], tsne_df_7['component 1'], color = 'orange', label = '여성')\n",
    "plt.scatter(tsne_df_8['component 0'], tsne_df_8['component 1'], color = 'springgreen', label = '주택')\n",
    "plt.scatter(tsne_df_9['component 0'], tsne_df_9['component 1'], color = 'slategray', label = '환경')\n",
    "\n",
    "for i,v in enumerate(list(vocabs)[:100]):\n",
    "    plt.annotate(v, xy=(tsne_df2['component 0'][i], tsne_df2['component 1'][i]))\n",
    "\n",
    "\n",
    "\n",
    "\n",
    "plt.xlabel('component 0')\n",
    "plt.ylabel('component 1')\n",
    "plt.legend()\n",
    "plt.show()\n"
   ]
  },
  {
   "cell_type": "markdown",
   "metadata": {},
   "source": [
    "3차원"
   ]
  },
  {
   "cell_type": "code",
   "execution_count": 118,
   "metadata": {},
   "outputs": [
    {
     "data": {
      "image/png": "[encoded data removed]",
      "text/plain": [
       "<Figure size 1080x720 with 1 Axes>"
      ]
     },
     "metadata": {
      "needs_background": "light"
     },
     "output_type": "display_data"
    }
   ],
   "source": [
    "from mpl_toolkits.mplot3d import Axes3D\n",
    "\n",
    "# 3차원 그래프 세팅\n",
    "fig = plt.figure(figsize=(15, 10))\n",
    "ax = fig.add_subplot(111, projection='3d')\n",
    "\n",
    "# class target 정보 불러오기 \n",
    "tsne_df['target'] = train['분류']\n",
    "\n",
    "# target 별 분리\n",
    "tsne_df_0 = tsne_df[tsne_df['target'] == '건강']\n",
    "tsne_df_1 = tsne_df[tsne_df['target'] == '경제']\n",
    "tsne_df_2 = tsne_df[tsne_df['target'] == '교통']\n",
    "tsne_df_3 = tsne_df[tsne_df['target'] == '문화']\n",
    "tsne_df_4 = tsne_df[tsne_df['target'] == '복지']\n",
    "tsne_df_5 = tsne_df[tsne_df['target'] == '세금']\n",
    "tsne_df_6 = tsne_df[tsne_df['target'] == '안전']\n",
    "tsne_df_7 = tsne_df[tsne_df['target'] == '여성']\n",
    "tsne_df_8 = tsne_df[tsne_df['target'] == '주택']\n",
    "tsne_df_9 = tsne_df[tsne_df['target'] == '환경']\n",
    "\n",
    "# target 별 시각화\n",
    "ax.scatter(tsne_df_0['component 0'][:10], tsne_df_0['component 1'][:10], color = 'hotpink', label = '건강')\n",
    "ax.scatter(tsne_df_1['component 0'][:10], tsne_df_1['component 1'][:10], color = 'purple', label = '경제')\n",
    "ax.scatter(tsne_df_2['component 0'][:10], tsne_df_2['component 1'][:10], color = 'yellow', label = '교통')\n",
    "ax.scatter(tsne_df_3['component 0'][:10], tsne_df_3['component 1'][:10], color = 'red', label = '문화')\n",
    "ax.scatter(tsne_df_4['component 0'][:10], tsne_df_4['component 1'][:10], color = 'blue', label = '복지')\n",
    "ax.scatter(tsne_df_5['component 0'][:10], tsne_df_5['component 1'][:10], color = 'green', label = '세금')\n",
    "ax.scatter(tsne_df_6['component 0'][:10], tsne_df_6['component 1'][:10], color = 'skyblue', label = '안전')\n",
    "ax.scatter(tsne_df_7['component 0'][:10], tsne_df_7['component 1'][:10], color = 'orange', label = '여성')\n",
    "ax.scatter(tsne_df_8['component 0'][:10], tsne_df_8['component 1'][:10], color = 'springgreen', label = '주택')\n",
    "ax.scatter(tsne_df_9['component 0'][:10], tsne_df_9['component 1'][:10], color = 'slategray', label = '환경')\n",
    "\n",
    "ax.set_xlabel('component 0')\n",
    "ax.set_ylabel('component 1')\n",
    "ax.set_zlabel('component 2')\n",
    "ax.legend()\n",
    "plt.show()\n"
   ]
  },
  {
   "cell_type": "markdown",
   "metadata": {},
   "source": [
    "## 문서별 평균 feature 계산 ##"
   ]
  },
  {
   "cell_type": "markdown",
   "metadata": {},
   "source": [
    "### 주어진 민원 문서에서 단어 벡터의 평균 구하는 함수 ###"
   ]
  },
  {
   "cell_type": "code",
   "execution_count": 88,
   "metadata": {},
   "outputs": [],
   "source": [
    "def makeFeatureVec(words, model, num_features):\n",
    "    featureVec = np.zeros((num_features,),dtype=\"float32\")\n",
    "    nwords = 0.\n",
    "    index2word_set = set(model.wv.index_to_key)\n",
    "    for word in words:\n",
    "        if word in index2word_set:\n",
    "            nwords = nwords + 1.\n",
    "            featureVec = np.add(featureVec,word_vectors[word])\n",
    "    np.seterr(divide='ignore')\n",
    "    featureVec = np.divide(featureVec,nwords)\n",
    "    return featureVec"
   ]
  },
  {
   "cell_type": "markdown",
   "metadata": {},
   "source": [
    "### 단어 평균 feature 벡터를 배열로 반환 ###"
   ]
  },
  {
   "cell_type": "code",
   "execution_count": 89,
   "metadata": {},
   "outputs": [],
   "source": [
    "def getAvgFeatureVecs(documents, model, num_features):\n",
    "    counter = 0.\n",
    "    documentFeatureVecs = np.zeros(\n",
    "        (len(documents),num_features),dtype=\"float32\")\n",
    "    for document in documents:\n",
    "       if counter%2000. == 0.:\n",
    "           print(\"민원 %d of %d\" % (counter, len(documents)))\n",
    "       documentFeatureVecs[int(counter)] = makeFeatureVec(document, model, num_features)\n",
    "       counter = counter + 1.\n",
    "    return documentFeatureVecs"
   ]
  },
  {
   "cell_type": "markdown",
   "metadata": {},
   "source": [
    "### 학습 데이터 평균 feature 계산 ###"
   ]
  },
  {
   "cell_type": "code",
   "execution_count": 90,
   "metadata": {},
   "outputs": [
    {
     "name": "stdout",
     "output_type": "stream",
     "text": [
      "민원 0 of 5923\n"
     ]
    },
    {
     "name": "stderr",
     "output_type": "stream",
     "text": [
      "C:\\Users\\dkq50\\AppData\\Local\\Temp/ipykernel_22320/325302873.py:10: RuntimeWarning: invalid value encountered in true_divide\n",
      "  featureVec = np.divide(featureVec,nwords)\n"
     ]
    },
    {
     "name": "stdout",
     "output_type": "stream",
     "text": [
      "민원 2000 of 5923\n",
      "민원 4000 of 5923\n",
      "Wall time: 1.33 s\n"
     ]
    }
   ],
   "source": [
    "%time trainDataVecs = getAvgFeatureVecs(\\\n",
    "    train_documents, model, num_features)\n"
   ]
  },
  {
   "cell_type": "code",
   "execution_count": 91,
   "metadata": {},
   "outputs": [],
   "source": [
    "imp = SimpleImputer(missing_values=np.nan, strategy='mean')\n",
    "imp.fit(trainDataVecs)\n",
    "trainDataVecs=imp.transform(trainDataVecs) ##nan, infinite 제거"
   ]
  },
  {
   "cell_type": "markdown",
   "metadata": {},
   "source": [
    "## 랜덤 포레스트로 민원 자동분류 ##"
   ]
  },
  {
   "cell_type": "markdown",
   "metadata": {},
   "source": [
    "### 랜덤 포레스트 분류기 설정 ###\n",
    "  - n_estimators : 생성할 트리 개수 (k)\n",
    "  - n_jobs : 학습을 수행하기 위해 CPU 코어 2개를 병렬적으로 활용한다는 의미\n",
    "  - 같은 결과를 만들어야 한다면 random_state 값을 고정해야함 "
   ]
  },
  {
   "cell_type": "code",
   "execution_count": 92,
   "metadata": {},
   "outputs": [],
   "source": [
    "forest_w2v = RandomForestClassifier(n_estimators = 300, random_state = 7, class_weight='balanced')"
   ]
  },
  {
   "cell_type": "markdown",
   "metadata": {},
   "source": [
    "### 랜덤포레스트 모델 = Y: 민원분류, X:민원 문서당 평균 단어 feature ###"
   ]
  },
  {
   "cell_type": "code",
   "execution_count": null,
   "metadata": {},
   "outputs": [
    {
     "name": "stdout",
     "output_type": "stream",
     "text": [
      "Wall time: 40.8 s\n"
     ]
    }
   ],
   "source": [
    "%time forest_w2v_fit = forest_w2v.fit(trainDataVecs, train_df[\"분류\"])"
   ]
  },
  {
   "cell_type": "markdown",
   "metadata": {},
   "source": [
    "### cross validation 활용해 정확도 평가 ###"
   ]
  },
  {
   "cell_type": "code",
   "execution_count": null,
   "metadata": {},
   "outputs": [
    {
     "name": "stdout",
     "output_type": "stream",
     "text": [
      "Wall time: 1h 6min 54s\n"
     ]
    }
   ],
   "source": [
    "# n개로 분할해 평가\n",
    "%time score = np.mean(cross_val_score(\\\n",
    "    forest_w2v_fit, trainDataVecs, \\\n",
    "    train_df[\"분류\"], cv=100))"
   ]
  },
  {
   "cell_type": "code",
   "execution_count": null,
   "metadata": {},
   "outputs": [
    {
     "data": {
      "text/plain": [
       "0.7006215213358071"
      ]
     },
     "metadata": {},
     "output_type": "display_data"
    }
   ],
   "source": [
    "# 정확도(accuracy)\n",
    "score"
   ]
  },
  {
   "cell_type": "markdown",
   "metadata": {},
   "source": [
    "* cv = 10  : 0.696\n",
    "* cv = 30  : 0.700\n",
    "* cv = 100 : 0.701"
   ]
  },
  {
   "cell_type": "markdown",
   "metadata": {},
   "source": [
    "## Logistic Regression(로지스틱 회귀)\n",
    "* cv = 3 : 0.7037\n",
    "* cv = 10 : 0.7119"
   ]
  },
  {
   "cell_type": "code",
   "execution_count": 211,
   "metadata": {},
   "outputs": [
    {
     "name": "stderr",
     "output_type": "stream",
     "text": [
      "C:\\Users\\dkq50\\anaconda3\\lib\\site-packages\\sklearn\\linear_model\\_logistic.py:814: ConvergenceWarning: lbfgs failed to converge (status=1):\n",
      "STOP: TOTAL NO. of ITERATIONS REACHED LIMIT.\n",
      "\n",
      "Increase the number of iterations (max_iter) or scale the data as shown in:\n",
      "    https://scikit-learn.org/stable/modules/preprocessing.html\n",
      "Please also refer to the documentation for alternative solver options:\n",
      "    https://scikit-learn.org/stable/modules/linear_model.html#logistic-regression\n",
      "  n_iter_i = _check_optimize_result(\n",
      "C:\\Users\\dkq50\\anaconda3\\lib\\site-packages\\sklearn\\linear_model\\_logistic.py:814: ConvergenceWarning: lbfgs failed to converge (status=1):\n",
      "STOP: TOTAL NO. of ITERATIONS REACHED LIMIT.\n",
      "\n",
      "Increase the number of iterations (max_iter) or scale the data as shown in:\n",
      "    https://scikit-learn.org/stable/modules/preprocessing.html\n",
      "Please also refer to the documentation for alternative solver options:\n",
      "    https://scikit-learn.org/stable/modules/linear_model.html#logistic-regression\n",
      "  n_iter_i = _check_optimize_result(\n",
      "C:\\Users\\dkq50\\anaconda3\\lib\\site-packages\\sklearn\\linear_model\\_logistic.py:814: ConvergenceWarning: lbfgs failed to converge (status=1):\n",
      "STOP: TOTAL NO. of ITERATIONS REACHED LIMIT.\n",
      "\n",
      "Increase the number of iterations (max_iter) or scale the data as shown in:\n",
      "    https://scikit-learn.org/stable/modules/preprocessing.html\n",
      "Please also refer to the documentation for alternative solver options:\n",
      "    https://scikit-learn.org/stable/modules/linear_model.html#logistic-regression\n",
      "  n_iter_i = _check_optimize_result(\n",
      "C:\\Users\\dkq50\\anaconda3\\lib\\site-packages\\sklearn\\linear_model\\_logistic.py:814: ConvergenceWarning: lbfgs failed to converge (status=1):\n",
      "STOP: TOTAL NO. of ITERATIONS REACHED LIMIT.\n",
      "\n",
      "Increase the number of iterations (max_iter) or scale the data as shown in:\n",
      "    https://scikit-learn.org/stable/modules/preprocessing.html\n",
      "Please also refer to the documentation for alternative solver options:\n",
      "    https://scikit-learn.org/stable/modules/linear_model.html#logistic-regression\n",
      "  n_iter_i = _check_optimize_result(\n",
      "C:\\Users\\dkq50\\anaconda3\\lib\\site-packages\\sklearn\\linear_model\\_logistic.py:814: ConvergenceWarning: lbfgs failed to converge (status=1):\n",
      "STOP: TOTAL NO. of ITERATIONS REACHED LIMIT.\n",
      "\n",
      "Increase the number of iterations (max_iter) or scale the data as shown in:\n",
      "    https://scikit-learn.org/stable/modules/preprocessing.html\n",
      "Please also refer to the documentation for alternative solver options:\n",
      "    https://scikit-learn.org/stable/modules/linear_model.html#logistic-regression\n",
      "  n_iter_i = _check_optimize_result(\n",
      "C:\\Users\\dkq50\\anaconda3\\lib\\site-packages\\sklearn\\linear_model\\_logistic.py:814: ConvergenceWarning: lbfgs failed to converge (status=1):\n",
      "STOP: TOTAL NO. of ITERATIONS REACHED LIMIT.\n",
      "\n",
      "Increase the number of iterations (max_iter) or scale the data as shown in:\n",
      "    https://scikit-learn.org/stable/modules/preprocessing.html\n",
      "Please also refer to the documentation for alternative solver options:\n",
      "    https://scikit-learn.org/stable/modules/linear_model.html#logistic-regression\n",
      "  n_iter_i = _check_optimize_result(\n",
      "C:\\Users\\dkq50\\anaconda3\\lib\\site-packages\\sklearn\\linear_model\\_logistic.py:814: ConvergenceWarning: lbfgs failed to converge (status=1):\n",
      "STOP: TOTAL NO. of ITERATIONS REACHED LIMIT.\n",
      "\n",
      "Increase the number of iterations (max_iter) or scale the data as shown in:\n",
      "    https://scikit-learn.org/stable/modules/preprocessing.html\n",
      "Please also refer to the documentation for alternative solver options:\n",
      "    https://scikit-learn.org/stable/modules/linear_model.html#logistic-regression\n",
      "  n_iter_i = _check_optimize_result(\n",
      "C:\\Users\\dkq50\\anaconda3\\lib\\site-packages\\sklearn\\linear_model\\_logistic.py:814: ConvergenceWarning: lbfgs failed to converge (status=1):\n",
      "STOP: TOTAL NO. of ITERATIONS REACHED LIMIT.\n",
      "\n",
      "Increase the number of iterations (max_iter) or scale the data as shown in:\n",
      "    https://scikit-learn.org/stable/modules/preprocessing.html\n",
      "Please also refer to the documentation for alternative solver options:\n",
      "    https://scikit-learn.org/stable/modules/linear_model.html#logistic-regression\n",
      "  n_iter_i = _check_optimize_result(\n",
      "C:\\Users\\dkq50\\anaconda3\\lib\\site-packages\\sklearn\\linear_model\\_logistic.py:814: ConvergenceWarning: lbfgs failed to converge (status=1):\n",
      "STOP: TOTAL NO. of ITERATIONS REACHED LIMIT.\n",
      "\n",
      "Increase the number of iterations (max_iter) or scale the data as shown in:\n",
      "    https://scikit-learn.org/stable/modules/preprocessing.html\n",
      "Please also refer to the documentation for alternative solver options:\n",
      "    https://scikit-learn.org/stable/modules/linear_model.html#logistic-regression\n",
      "  n_iter_i = _check_optimize_result(\n"
     ]
    },
    {
     "name": "stdout",
     "output_type": "stream",
     "text": [
      "교차 검증별 정확도: [0.6746 0.637  0.6529 0.6529 0.641  0.6396 0.6343 0.6077 0.6516 0.6356]\n",
      "평균 검증 정확도: 0.6427\n"
     ]
    },
    {
     "name": "stderr",
     "output_type": "stream",
     "text": [
      "C:\\Users\\dkq50\\anaconda3\\lib\\site-packages\\sklearn\\linear_model\\_logistic.py:814: ConvergenceWarning: lbfgs failed to converge (status=1):\n",
      "STOP: TOTAL NO. of ITERATIONS REACHED LIMIT.\n",
      "\n",
      "Increase the number of iterations (max_iter) or scale the data as shown in:\n",
      "    https://scikit-learn.org/stable/modules/preprocessing.html\n",
      "Please also refer to the documentation for alternative solver options:\n",
      "    https://scikit-learn.org/stable/modules/linear_model.html#logistic-regression\n",
      "  n_iter_i = _check_optimize_result(\n"
     ]
    }
   ],
   "source": [
    "from sklearn.model_selection import cross_val_score\n",
    "from sklearn.linear_model import LogisticRegression\n",
    "\n",
    "# 모델\n",
    "logreg = LogisticRegression()\n",
    "\n",
    "# 파라미터는 (모델, Traingdata의 feature, Trainingdata의 target, 폴드수) 이다.\n",
    "scores = cross_val_score(logreg , trainDataVecs, train_df[\"분류\"] ,cv=10)\n",
    "\n",
    "# Trainingdata에 대한 성능을 나타낸다.\n",
    "print('교차 검증별 정확도:',np.round(scores, 4))\n",
    "print('평균 검증 정확도:', np.round(np.mean(scores), 4))\n"
   ]
  },
  {
   "cell_type": "markdown",
   "metadata": {},
   "source": [
    "* KFold 상세 조정\n",
    "\n",
    "    * 위 cross_val_score 함수에서는, cv로 폴드의 수를 조정할 수 있었다.\n",
    "\n",
    "    * 만약 검증함수의 매개변수를 디테일하게 제어하고 싶다면\n",
    "\n",
    "    * 따로 검증함수 객체를 만들고 매개변수를 조정한 다음, 해당 객체를 cross_val_score의 cv 매개변수에 넣을 수도 있다.\n",
    "\n",
    "    * 이를 '교차 검증 분할기' 라고도 한다."
   ]
  },
  {
   "cell_type": "markdown",
   "metadata": {},
   "source": [
    "* n_splits= 5 : 0.6592\n",
    "* n_splits= 6 : 0.7125 **\n",
    "* n_splits= 10 : 0.6623"
   ]
  },
  {
   "cell_type": "code",
   "execution_count": 212,
   "metadata": {},
   "outputs": [
    {
     "name": "stderr",
     "output_type": "stream",
     "text": [
      "C:\\Users\\dkq50\\anaconda3\\lib\\site-packages\\sklearn\\linear_model\\_logistic.py:814: ConvergenceWarning: lbfgs failed to converge (status=1):\n",
      "STOP: TOTAL NO. of ITERATIONS REACHED LIMIT.\n",
      "\n",
      "Increase the number of iterations (max_iter) or scale the data as shown in:\n",
      "    https://scikit-learn.org/stable/modules/preprocessing.html\n",
      "Please also refer to the documentation for alternative solver options:\n",
      "    https://scikit-learn.org/stable/modules/linear_model.html#logistic-regression\n",
      "  n_iter_i = _check_optimize_result(\n",
      "C:\\Users\\dkq50\\anaconda3\\lib\\site-packages\\sklearn\\linear_model\\_logistic.py:814: ConvergenceWarning: lbfgs failed to converge (status=1):\n",
      "STOP: TOTAL NO. of ITERATIONS REACHED LIMIT.\n",
      "\n",
      "Increase the number of iterations (max_iter) or scale the data as shown in:\n",
      "    https://scikit-learn.org/stable/modules/preprocessing.html\n",
      "Please also refer to the documentation for alternative solver options:\n",
      "    https://scikit-learn.org/stable/modules/linear_model.html#logistic-regression\n",
      "  n_iter_i = _check_optimize_result(\n",
      "C:\\Users\\dkq50\\anaconda3\\lib\\site-packages\\sklearn\\linear_model\\_logistic.py:814: ConvergenceWarning: lbfgs failed to converge (status=1):\n",
      "STOP: TOTAL NO. of ITERATIONS REACHED LIMIT.\n",
      "\n",
      "Increase the number of iterations (max_iter) or scale the data as shown in:\n",
      "    https://scikit-learn.org/stable/modules/preprocessing.html\n",
      "Please also refer to the documentation for alternative solver options:\n",
      "    https://scikit-learn.org/stable/modules/linear_model.html#logistic-regression\n",
      "  n_iter_i = _check_optimize_result(\n",
      "C:\\Users\\dkq50\\anaconda3\\lib\\site-packages\\sklearn\\linear_model\\_logistic.py:814: ConvergenceWarning: lbfgs failed to converge (status=1):\n",
      "STOP: TOTAL NO. of ITERATIONS REACHED LIMIT.\n",
      "\n",
      "Increase the number of iterations (max_iter) or scale the data as shown in:\n",
      "    https://scikit-learn.org/stable/modules/preprocessing.html\n",
      "Please also refer to the documentation for alternative solver options:\n",
      "    https://scikit-learn.org/stable/modules/linear_model.html#logistic-regression\n",
      "  n_iter_i = _check_optimize_result(\n",
      "C:\\Users\\dkq50\\anaconda3\\lib\\site-packages\\sklearn\\linear_model\\_logistic.py:814: ConvergenceWarning: lbfgs failed to converge (status=1):\n",
      "STOP: TOTAL NO. of ITERATIONS REACHED LIMIT.\n",
      "\n",
      "Increase the number of iterations (max_iter) or scale the data as shown in:\n",
      "    https://scikit-learn.org/stable/modules/preprocessing.html\n",
      "Please also refer to the documentation for alternative solver options:\n",
      "    https://scikit-learn.org/stable/modules/linear_model.html#logistic-regression\n",
      "  n_iter_i = _check_optimize_result(\n"
     ]
    },
    {
     "name": "stdout",
     "output_type": "stream",
     "text": [
      "교차 검증별 정확도: [0.6523 0.6483 0.6332 0.6377 0.6385 0.6544]\n",
      "평균 검증 정확도: 0.6441\n"
     ]
    },
    {
     "name": "stderr",
     "output_type": "stream",
     "text": [
      "C:\\Users\\dkq50\\anaconda3\\lib\\site-packages\\sklearn\\linear_model\\_logistic.py:814: ConvergenceWarning: lbfgs failed to converge (status=1):\n",
      "STOP: TOTAL NO. of ITERATIONS REACHED LIMIT.\n",
      "\n",
      "Increase the number of iterations (max_iter) or scale the data as shown in:\n",
      "    https://scikit-learn.org/stable/modules/preprocessing.html\n",
      "Please also refer to the documentation for alternative solver options:\n",
      "    https://scikit-learn.org/stable/modules/linear_model.html#logistic-regression\n",
      "  n_iter_i = _check_optimize_result(\n"
     ]
    }
   ],
   "source": [
    "from sklearn.model_selection import KFold\n",
    "from sklearn.model_selection import cross_val_score\n",
    "\n",
    "# 모델\n",
    "logreg = LogisticRegression()\n",
    "\n",
    "# n_split : 몇개로 분할할지\n",
    "# shuffle : Fold를 나누기 전에 무작위로 섞을지\n",
    "# random_state : 나눈 Fold를 그대로 사용할지\n",
    "kfold = KFold(n_splits=6, shuffle = True, random_state=0)\n",
    "\n",
    "# 파라미터는 (모델, Traingdata의 feature, Trainingdata의 target, 폴드수) 이다.\n",
    "scores = cross_val_score(logreg, trainDataVecs, train_df[\"분류\"],cv=kfold)\n",
    "\n",
    "# Trainingdata에 대한 성능을 나타낸다.\n",
    "print('교차 검증별 정확도:',np.round(scores, 4))\n",
    "print('평균 검증 정확도:', np.round(np.mean(scores), 4))"
   ]
  },
  {
   "cell_type": "markdown",
   "metadata": {},
   "source": [
    "## KNN으로 분류"
   ]
  },
  {
   "cell_type": "code",
   "execution_count": null,
   "metadata": {},
   "outputs": [],
   "source": [
    "from sklearn.neighbors import KNeighborsClassifier\n",
    "from sklearn.model_selection import train_test_split"
   ]
  },
  {
   "cell_type": "code",
   "execution_count": null,
   "metadata": {},
   "outputs": [],
   "source": [
    "knn = KNeighborsClassifier(n_neighbors=3)\n",
    "X_train, X_test, Y_train, Y_test = train_test_split(trainDataVecs, train_df['분류'], test_size = 0.25, stratify = train_df['분류'])"
   ]
  },
  {
   "cell_type": "code",
   "execution_count": null,
   "metadata": {},
   "outputs": [
    {
     "data": {
      "text/plain": [
       "KNeighborsClassifier(n_neighbors=3)"
      ]
     },
     "metadata": {},
     "output_type": "display_data"
    }
   ],
   "source": [
    "knn.fit(X_train, Y_train)"
   ]
  },
  {
   "cell_type": "code",
   "execution_count": null,
   "metadata": {},
   "outputs": [],
   "source": [
    "Y_pred = knn.predict(X_test)"
   ]
  },
  {
   "cell_type": "code",
   "execution_count": null,
   "metadata": {},
   "outputs": [
    {
     "name": "stdout",
     "output_type": "stream",
     "text": [
      "prediction accuracy: 0.64\n"
     ]
    }
   ],
   "source": [
    "print(\"prediction accuracy: {:.2f}\".format(np.mean(Y_pred == Y_test)))"
   ]
  },
  {
   "cell_type": "markdown",
   "metadata": {},
   "source": [
    "# SVM"
   ]
  },
  {
   "cell_type": "code",
   "execution_count": null,
   "metadata": {},
   "outputs": [],
   "source": [
    "from sklearn.model_selection import train_test_split, GridSearchCV\n",
    "X_train, X_test, y_train, y_test = train_test_split(trainDataVecs, train_df['분류'], test_size = 0.3, random_state = 123)\n"
   ]
  },
  {
   "cell_type": "code",
   "execution_count": null,
   "metadata": {},
   "outputs": [
    {
     "data": {
      "text/plain": [
       "0.6006909164803902"
      ]
     },
     "metadata": {},
     "output_type": "display_data"
    }
   ],
   "source": [
    "from sklearn.svm import SVC\n",
    "from sklearn.preprocessing import StandardScaler\n",
    "\n",
    "scaler = StandardScaler()\n",
    "scaler.fit(X_train)\n",
    "ttrain = scaler.transform(X_train)\n",
    "\n",
    "model_SVC = SVC(kernel='rbf', C=5, gamma = 'auto')\n",
    "model_SVC.fit(X_train, y_train)\n",
    "\n",
    "from sklearn.metrics import accuracy_score\n",
    "X_test = scaler.transform(X_test)\n",
    "y_pred = model.predict(X_test)\n",
    "accuracy_score(y_test, y_pred)"
   ]
  },
  {
   "cell_type": "markdown",
   "metadata": {},
   "source": [
    "# Naive Bayes"
   ]
  },
  {
   "cell_type": "code",
   "execution_count": null,
   "metadata": {},
   "outputs": [
    {
     "name": "stdout",
     "output_type": "stream",
     "text": [
      "정확도 :  0.5718349928876245\n"
     ]
    }
   ],
   "source": [
    "from sklearn.naive_bayes import GaussianNB\n",
    "\n",
    "X_train, X_test, y_train, y_test = train_test_split(trainDataVecs, train_df['분류'], test_size=0.5, random_state= 0)\n",
    "\n",
    "nb= GaussianNB()\n",
    "\n",
    "y_pred = nb.fit(X_train, y_train).predict(X_test)\n",
    "\n",
    "print(\"정확도 : \", accuracy_score(y_test, y_pred))"
   ]
  },
  {
   "cell_type": "markdown",
   "metadata": {},
   "source": [
    "### 최종 모델을 활용해서 테스트 데이터 민원 자동 분류 ###"
   ]
  },
  {
   "cell_type": "code",
   "execution_count": 94,
   "metadata": {},
   "outputs": [
    {
     "name": "stdout",
     "output_type": "stream",
     "text": [
      "민원 0 of 3949\n"
     ]
    },
    {
     "name": "stderr",
     "output_type": "stream",
     "text": [
      "C:\\Users\\dkq50\\AppData\\Local\\Temp/ipykernel_22320/325302873.py:10: RuntimeWarning: invalid value encountered in true_divide\n",
      "  featureVec = np.divide(featureVec,nwords)\n"
     ]
    },
    {
     "name": "stdout",
     "output_type": "stream",
     "text": [
      "민원 2000 of 3949\n",
      "Wall time: 995 ms\n"
     ]
    }
   ],
   "source": [
    "# 테스트 데이터 벡터화\n",
    "%time testDataVecs = getAvgFeatureVecs(\\\n",
    "        test_documents, model, num_features )\n",
    "imp.fit(testDataVecs)\n",
    "testDataVecs=imp.transform(testDataVecs) ##nan, infinite 제거"
   ]
  },
  {
   "cell_type": "code",
   "execution_count": 95,
   "metadata": {},
   "outputs": [],
   "source": [
    "# 문서별 민원 분류 확률값 저장\n",
    "forest_w2v_proba = forest_w2v.predict_proba(testDataVecs)"
   ]
  },
  {
   "cell_type": "code",
   "execution_count": 96,
   "metadata": {},
   "outputs": [],
   "source": [
    "# 민원 분류 확률 Top2\n",
    "topn = 2\n",
    "topn_class = np.argsort(forest_w2v_proba)[:,:-topn-1:-1]\n",
    "forest_w2v.classes_[topn_class]\n",
    "\n",
    "result_w2v_top1 = forest_w2v.classes_[topn_class][:,0]\n",
    "result_w2v_top2 = forest_w2v.classes_[topn_class][:,1]"
   ]
  },
  {
   "cell_type": "code",
   "execution_count": 98,
   "metadata": {},
   "outputs": [
    {
     "data": {
      "text/html": [
       "<div>\n",
       "<style scoped>\n",
       "    .dataframe tbody tr th:only-of-type {\n",
       "        vertical-align: middle;\n",
       "    }\n",
       "\n",
       "    .dataframe tbody tr th {\n",
       "        vertical-align: top;\n",
       "    }\n",
       "\n",
       "    .dataframe thead th {\n",
       "        text-align: right;\n",
       "    }\n",
       "</style>\n",
       "<table border=\"1\" class=\"dataframe\">\n",
       "  <thead>\n",
       "    <tr style=\"text-align: right;\">\n",
       "      <th></th>\n",
       "      <th>글번호</th>\n",
       "      <th>분류</th>\n",
       "      <th>분류2</th>\n",
       "    </tr>\n",
       "  </thead>\n",
       "  <tbody>\n",
       "    <tr>\n",
       "      <th>6614</th>\n",
       "      <td>168288</td>\n",
       "      <td>교통</td>\n",
       "      <td>안전</td>\n",
       "    </tr>\n",
       "    <tr>\n",
       "      <th>6615</th>\n",
       "      <td>168290</td>\n",
       "      <td>환경</td>\n",
       "      <td>안전</td>\n",
       "    </tr>\n",
       "    <tr>\n",
       "      <th>6616</th>\n",
       "      <td>168292</td>\n",
       "      <td>환경</td>\n",
       "      <td>교통</td>\n",
       "    </tr>\n",
       "    <tr>\n",
       "      <th>6617</th>\n",
       "      <td>168293</td>\n",
       "      <td>교통</td>\n",
       "      <td>문화</td>\n",
       "    </tr>\n",
       "    <tr>\n",
       "      <th>6618</th>\n",
       "      <td>168295</td>\n",
       "      <td>안전</td>\n",
       "      <td>교통</td>\n",
       "    </tr>\n",
       "    <tr>\n",
       "      <th>...</th>\n",
       "      <td>...</td>\n",
       "      <td>...</td>\n",
       "      <td>...</td>\n",
       "    </tr>\n",
       "    <tr>\n",
       "      <th>10672</th>\n",
       "      <td>179106</td>\n",
       "      <td>교통</td>\n",
       "      <td>복지</td>\n",
       "    </tr>\n",
       "    <tr>\n",
       "      <th>10673</th>\n",
       "      <td>179107</td>\n",
       "      <td>주택</td>\n",
       "      <td>문화</td>\n",
       "    </tr>\n",
       "    <tr>\n",
       "      <th>10674</th>\n",
       "      <td>179108</td>\n",
       "      <td>안전</td>\n",
       "      <td>교통</td>\n",
       "    </tr>\n",
       "    <tr>\n",
       "      <th>10675</th>\n",
       "      <td>179109</td>\n",
       "      <td>환경</td>\n",
       "      <td>문화</td>\n",
       "    </tr>\n",
       "    <tr>\n",
       "      <th>10676</th>\n",
       "      <td>179110</td>\n",
       "      <td>환경</td>\n",
       "      <td>안전</td>\n",
       "    </tr>\n",
       "  </tbody>\n",
       "</table>\n",
       "<p>3949 rows × 3 columns</p>\n",
       "</div>"
      ],
      "text/plain": [
       "          글번호  분류 분류2\n",
       "6614   168288  교통  안전\n",
       "6615   168290  환경  안전\n",
       "6616   168292  환경  교통\n",
       "6617   168293  교통  문화\n",
       "6618   168295  안전  교통\n",
       "...       ...  ..  ..\n",
       "10672  179106  교통  복지\n",
       "10673  179107  주택  문화\n",
       "10674  179108  안전  교통\n",
       "10675  179109  환경  문화\n",
       "10676  179110  환경  안전\n",
       "\n",
       "[3949 rows x 3 columns]"
      ]
     },
     "execution_count": 98,
     "metadata": {},
     "output_type": "execute_result"
    }
   ],
   "source": [
    "# 민원 분류 결과 데이터프레임으로 저장\n",
    "output_w2v = pd.DataFrame(data={'글번호':test_df['글번호'], '분류':result_w2v_top1,'분류2':result_w2v_top2})\n",
    "output_w2v"
   ]
  },
  {
   "cell_type": "code",
   "execution_count": 99,
   "metadata": {},
   "outputs": [
    {
     "name": "stdout",
     "output_type": "stream",
     "text": [
      "환경    1189\n",
      "교통     941\n",
      "문화     441\n",
      "안전     362\n",
      "건강     269\n",
      "복지     254\n",
      "주택     197\n",
      "경제     140\n",
      "여성     123\n",
      "세금      33\n",
      "Name: 분류, dtype: int64\n"
     ]
    }
   ],
   "source": [
    "# 민원 예측 결과 통계량\n",
    "print(output_w2v['분류'].value_counts())"
   ]
  },
  {
   "cell_type": "code",
   "execution_count": 100,
   "metadata": {},
   "outputs": [
    {
     "data": {
      "text/html": [
       "<div>\n",
       "<style scoped>\n",
       "    .dataframe tbody tr th:only-of-type {\n",
       "        vertical-align: middle;\n",
       "    }\n",
       "\n",
       "    .dataframe tbody tr th {\n",
       "        vertical-align: top;\n",
       "    }\n",
       "\n",
       "    .dataframe thead th {\n",
       "        text-align: right;\n",
       "    }\n",
       "</style>\n",
       "<table border=\"1\" class=\"dataframe\">\n",
       "  <thead>\n",
       "    <tr style=\"text-align: right;\">\n",
       "      <th></th>\n",
       "      <th>글번호</th>\n",
       "      <th>제목</th>\n",
       "      <th>작성일</th>\n",
       "      <th>분류_x</th>\n",
       "      <th>내용</th>\n",
       "      <th>부서의견</th>\n",
       "      <th>contents</th>\n",
       "      <th>tokens</th>\n",
       "      <th>all_tokens</th>\n",
       "      <th>분류_y</th>\n",
       "      <th>분류2</th>\n",
       "    </tr>\n",
       "  </thead>\n",
       "  <tbody>\n",
       "    <tr>\n",
       "      <th>0</th>\n",
       "      <td>168288</td>\n",
       "      <td>신호등 관련</td>\n",
       "      <td>2014-11-21</td>\n",
       "      <td>교통</td>\n",
       "      <td>안녕하세요. 외국을 다니다 보니 다른나라는 자동차 신호등에도 타이머가 있습니다. 서...</td>\n",
       "      <td>NaN</td>\n",
       "      <td>신호등 관련\\n안녕하세요. 외국을 다니다 보니 다른나라는 자동차 신호등에도 타이머가...</td>\n",
       "      <td>[신호등, 외국, 다니다, 나라, 자동차, 신호등, 타이머, 보행자, 신호, 타이머...</td>\n",
       "      <td>[신호등, 외국, 다니, 보, 니, 나라, 는, 자동차, 신호등, 에, 도, 타이머...</td>\n",
       "      <td>교통</td>\n",
       "      <td>안전</td>\n",
       "    </tr>\n",
       "    <tr>\n",
       "      <th>1</th>\n",
       "      <td>168290</td>\n",
       "      <td>도로주변의 유적지 보호</td>\n",
       "      <td>2014-11-21</td>\n",
       "      <td>문화</td>\n",
       "      <td>아침뉴스에 자동차 한대가 사직단 대문을 받았다는 소식이 있었습니다.400년 넘은 문...</td>\n",
       "      <td>choiss0님 안녕하십니까? 우리 문화재에 대해 깊은 관심과 애정을 가지고 의견 ...</td>\n",
       "      <td>도로주변의 유적지 보호\\n아침뉴스에 자동차 한대가 사직단 대문을 받았다는 소식이 있...</td>\n",
       "      <td>[도로, 유적지, 보호, 아침, 뉴스, 자동차, 한대, 사직단, 대문, 받다, 소식...</td>\n",
       "      <td>[도로, 의, 유적지, 보호, 아침, 뉴스, 에, 자동차, 한대, 가, 사직단, 대...</td>\n",
       "      <td>환경</td>\n",
       "      <td>안전</td>\n",
       "    </tr>\n",
       "    <tr>\n",
       "      <th>2</th>\n",
       "      <td>168292</td>\n",
       "      <td>자전거 보호강화 및 거치대 활용방안</td>\n",
       "      <td>2014-11-21</td>\n",
       "      <td>교통</td>\n",
       "      <td>열정을 갖고 시정을 챙겨주셔서 감사하다는 말씀을 먼저 드립니다. 제가 최근에 황당한...</td>\n",
       "      <td>NaN</td>\n",
       "      <td>자전거 보호강화 및 거치대 활용방안\\n열정을 갖고 시정을 챙겨주셔서 감사하다는 말씀...</td>\n",
       "      <td>[자전거, 보호, 강화, 및, 거치다, 열정, 시정, 챙겨주다, 말씀, 먼저, 드리...</td>\n",
       "      <td>[자전거, 보호, 강화, 및, 거치, 대, 열정, 가지, 고, 시정, 챙겨주, 시,...</td>\n",
       "      <td>환경</td>\n",
       "      <td>교통</td>\n",
       "    </tr>\n",
       "    <tr>\n",
       "      <th>3</th>\n",
       "      <td>168293</td>\n",
       "      <td>레일바이크</td>\n",
       "      <td>2014-11-21</td>\n",
       "      <td>환경</td>\n",
       "      <td>보통 레일바이크를 타려면 서울보다 멀리 가야 합니다. 하지만 가까운데에 레일 바이크...</td>\n",
       "      <td>NaN</td>\n",
       "      <td>레일바이크\\n보통 레일바이크를 타려면 서울보다 멀리 가야 합니다. 하지만 가까운데에...</td>\n",
       "      <td>[레일, 바이크, 보통, 레일, 바이크, 타다, 멀리, 가다, 가깝다, 레일, 바이...</td>\n",
       "      <td>[레일, 바이크, 보통, 레일, 바이크, 를, 타, 려면, 멀리, 가, 아야, 하,...</td>\n",
       "      <td>교통</td>\n",
       "      <td>문화</td>\n",
       "    </tr>\n",
       "    <tr>\n",
       "      <th>4</th>\n",
       "      <td>168295</td>\n",
       "      <td>당곡사거리~숭실대입구역 삼거리를 직선으로 연결하는 가칭 당곡터널의 건설을 제안합니다.</td>\n",
       "      <td>2014-11-21</td>\n",
       "      <td>안전</td>\n",
       "      <td>택시일을 4년째 하면서 강남권에서 신림동,봉천동 방향의 승객을 모실때 남부순환로길이...</td>\n",
       "      <td>ohc1968님 안녕하세요? 귀하께서는 택시업계에 종사하시면서 승객의 편의 및 시정...</td>\n",
       "      <td>당곡사거리~숭실대입구역 삼거리를 직선으로 연결하는 가칭 당곡터널의 건설을 제안합니다...</td>\n",
       "      <td>[당, 곡, 사거리, 숭실대, 입, 구역, 삼거리, 직선, 연결, 가칭, 당, 곡,...</td>\n",
       "      <td>[당, 곡, 사거리, 숭실대, 입, 구역, 삼거리, 를, 직선, 으로, 연결, 하,...</td>\n",
       "      <td>안전</td>\n",
       "      <td>교통</td>\n",
       "    </tr>\n",
       "    <tr>\n",
       "      <th>...</th>\n",
       "      <td>...</td>\n",
       "      <td>...</td>\n",
       "      <td>...</td>\n",
       "      <td>...</td>\n",
       "      <td>...</td>\n",
       "      <td>...</td>\n",
       "      <td>...</td>\n",
       "      <td>...</td>\n",
       "      <td>...</td>\n",
       "      <td>...</td>\n",
       "      <td>...</td>\n",
       "    </tr>\n",
       "    <tr>\n",
       "      <th>3944</th>\n",
       "      <td>179106</td>\n",
       "      <td>지하철 임산부 지정석 관련</td>\n",
       "      <td>2017-08-31</td>\n",
       "      <td>교통</td>\n",
       "      <td>안녕하세요  수고하십니다.다름이 아니오라 지하철 임산부지정석 관련 건의 드립니다.현...</td>\n",
       "      <td>김혁님 안녕하십니까? 제안 참여에 감사드리며 “지하철 임산부 지정석”건에 대하여 답...</td>\n",
       "      <td>지하철 임산부 지정석 관련\\n안녕하세요  수고하십니다.다름이 아니오라 지하철 임산부...</td>\n",
       "      <td>[지하철, 임산부, 지정석, 다르다, 오라, 지하철, 임산부, 지정석, 건의, 드리...</td>\n",
       "      <td>[지하철, 임산부, 지정석, 하, 시, ㅂ니다, 다르, ㅁ, 아니, 오라, 지하철,...</td>\n",
       "      <td>교통</td>\n",
       "      <td>복지</td>\n",
       "    </tr>\n",
       "    <tr>\n",
       "      <th>3945</th>\n",
       "      <td>179107</td>\n",
       "      <td>채동선 작곡가의 서울 집을 보존해 주세요.</td>\n",
       "      <td>2017-08-31</td>\n",
       "      <td>문화</td>\n",
       "      <td>서울 성북동의 옛날짜장면집 뒷 골목에 한옥집들 사이로 고풍스러운 2층 적산가옥이 보...</td>\n",
       "      <td>NaN</td>\n",
       "      <td>채동선 작곡가의 서울 집을 보존해 주세요.\\n서울 성북동의 옛날짜장면집 뒷 골목에 ...</td>\n",
       "      <td>[동서, 작곡가, 집, 보존, 성북동, 옛날, 짜장면, 집, 뒤, 골목, 한옥, 집...</td>\n",
       "      <td>[채, 동서, ㄴ, 작곡가, 의, 집, 보존, 하, 아, 주, 시, 어요, 성북동,...</td>\n",
       "      <td>주택</td>\n",
       "      <td>문화</td>\n",
       "    </tr>\n",
       "    <tr>\n",
       "      <th>3946</th>\n",
       "      <td>179108</td>\n",
       "      <td>한강및 지천에서의 안전</td>\n",
       "      <td>2017-08-31</td>\n",
       "      <td>환경</td>\n",
       "      <td>시민의 안전과 편의를 위하여 불철주야 수고 하심에 감사드립니다.저는 주로 한강및 한...</td>\n",
       "      <td>NaN</td>\n",
       "      <td>한강및 지천에서의 안전\\n시민의 안전과 편의를 위하여 불철주야 수고 하심에 감사드립...</td>\n",
       "      <td>[한강, 및, 지천, 안전, 시민, 안전, 편의, 위하다, 불철주야, 감사드리다, ...</td>\n",
       "      <td>[한강, 및, 지천, 에서, 의, 안전, 시민, 의, 안전, 과, 편의, 를, 위하...</td>\n",
       "      <td>안전</td>\n",
       "      <td>교통</td>\n",
       "    </tr>\n",
       "    <tr>\n",
       "      <th>3947</th>\n",
       "      <td>179109</td>\n",
       "      <td>세빛섬 이전 가능한가 ?</td>\n",
       "      <td>2017-08-31</td>\n",
       "      <td>환경</td>\n",
       "      <td>안녕하세요 ?최근에 노들섬이 2018년 말 경 개발된다는 기사를 본것 같습니다.예전...</td>\n",
       "      <td>NaN</td>\n",
       "      <td>세빛섬 이전 가능한가 ?\\n안녕하세요 ?최근에 노들섬이 2018년 말 경 개발된다는...</td>\n",
       "      <td>[]</td>\n",
       "      <td>[세빛섬 이전 가능한가 안녕하세요 최근에 노들섬이 2018년 말 경 개발된다는 기사...</td>\n",
       "      <td>환경</td>\n",
       "      <td>문화</td>\n",
       "    </tr>\n",
       "    <tr>\n",
       "      <th>3948</th>\n",
       "      <td>179110</td>\n",
       "      <td>한강 시민공원 주차장에 태양광 패널로 지붕을 설치하면 좋겠습니다.</td>\n",
       "      <td>2017-08-31</td>\n",
       "      <td>환경</td>\n",
       "      <td>한강시민공원에서 주차장으로 쓰이는 면적은 매우 넓습니다.대부분이 야외 공간이므로 여...</td>\n",
       "      <td>NaN</td>\n",
       "      <td>한강 시민공원 주차장에 태양광 패널로 지붕을 설치하면 좋겠습니다.\\n한강시민공원에서...</td>\n",
       "      <td>[한강, 시민공원, 주차장, 태양광, 패널, 지붕, 설치, 한강시민공원, 주차장, ...</td>\n",
       "      <td>[한강, 시민공원, 주차장, 에, 태양광, 패널, 로, 지붕, 설치, 하, 면, 좋...</td>\n",
       "      <td>환경</td>\n",
       "      <td>안전</td>\n",
       "    </tr>\n",
       "  </tbody>\n",
       "</table>\n",
       "<p>3949 rows × 11 columns</p>\n",
       "</div>"
      ],
      "text/plain": [
       "         글번호                                               제목        작성일 분류_x  \\\n",
       "0     168288                                           신호등 관련 2014-11-21   교통   \n",
       "1     168290                                     도로주변의 유적지 보호 2014-11-21   문화   \n",
       "2     168292                              자전거 보호강화 및 거치대 활용방안 2014-11-21   교통   \n",
       "3     168293                                            레일바이크 2014-11-21   환경   \n",
       "4     168295  당곡사거리~숭실대입구역 삼거리를 직선으로 연결하는 가칭 당곡터널의 건설을 제안합니다. 2014-11-21   안전   \n",
       "...      ...                                              ...        ...  ...   \n",
       "3944  179106                                   지하철 임산부 지정석 관련 2017-08-31   교통   \n",
       "3945  179107                          채동선 작곡가의 서울 집을 보존해 주세요. 2017-08-31   문화   \n",
       "3946  179108                                     한강및 지천에서의 안전 2017-08-31   환경   \n",
       "3947  179109                                    세빛섬 이전 가능한가 ? 2017-08-31   환경   \n",
       "3948  179110             한강 시민공원 주차장에 태양광 패널로 지붕을 설치하면 좋겠습니다. 2017-08-31   환경   \n",
       "\n",
       "                                                     내용  \\\n",
       "0     안녕하세요. 외국을 다니다 보니 다른나라는 자동차 신호등에도 타이머가 있습니다. 서...   \n",
       "1     아침뉴스에 자동차 한대가 사직단 대문을 받았다는 소식이 있었습니다.400년 넘은 문...   \n",
       "2     열정을 갖고 시정을 챙겨주셔서 감사하다는 말씀을 먼저 드립니다. 제가 최근에 황당한...   \n",
       "3     보통 레일바이크를 타려면 서울보다 멀리 가야 합니다. 하지만 가까운데에 레일 바이크...   \n",
       "4     택시일을 4년째 하면서 강남권에서 신림동,봉천동 방향의 승객을 모실때 남부순환로길이...   \n",
       "...                                                 ...   \n",
       "3944  안녕하세요  수고하십니다.다름이 아니오라 지하철 임산부지정석 관련 건의 드립니다.현...   \n",
       "3945  서울 성북동의 옛날짜장면집 뒷 골목에 한옥집들 사이로 고풍스러운 2층 적산가옥이 보...   \n",
       "3946  시민의 안전과 편의를 위하여 불철주야 수고 하심에 감사드립니다.저는 주로 한강및 한...   \n",
       "3947  안녕하세요 ?최근에 노들섬이 2018년 말 경 개발된다는 기사를 본것 같습니다.예전...   \n",
       "3948  한강시민공원에서 주차장으로 쓰이는 면적은 매우 넓습니다.대부분이 야외 공간이므로 여...   \n",
       "\n",
       "                                                   부서의견  \\\n",
       "0                                                   NaN   \n",
       "1     choiss0님 안녕하십니까? 우리 문화재에 대해 깊은 관심과 애정을 가지고 의견 ...   \n",
       "2                                                   NaN   \n",
       "3                                                   NaN   \n",
       "4     ohc1968님 안녕하세요? 귀하께서는 택시업계에 종사하시면서 승객의 편의 및 시정...   \n",
       "...                                                 ...   \n",
       "3944  김혁님 안녕하십니까? 제안 참여에 감사드리며 “지하철 임산부 지정석”건에 대하여 답...   \n",
       "3945                                                NaN   \n",
       "3946                                                NaN   \n",
       "3947                                                NaN   \n",
       "3948                                                NaN   \n",
       "\n",
       "                                               contents  \\\n",
       "0     신호등 관련\\n안녕하세요. 외국을 다니다 보니 다른나라는 자동차 신호등에도 타이머가...   \n",
       "1     도로주변의 유적지 보호\\n아침뉴스에 자동차 한대가 사직단 대문을 받았다는 소식이 있...   \n",
       "2     자전거 보호강화 및 거치대 활용방안\\n열정을 갖고 시정을 챙겨주셔서 감사하다는 말씀...   \n",
       "3     레일바이크\\n보통 레일바이크를 타려면 서울보다 멀리 가야 합니다. 하지만 가까운데에...   \n",
       "4     당곡사거리~숭실대입구역 삼거리를 직선으로 연결하는 가칭 당곡터널의 건설을 제안합니다...   \n",
       "...                                                 ...   \n",
       "3944  지하철 임산부 지정석 관련\\n안녕하세요  수고하십니다.다름이 아니오라 지하철 임산부...   \n",
       "3945  채동선 작곡가의 서울 집을 보존해 주세요.\\n서울 성북동의 옛날짜장면집 뒷 골목에 ...   \n",
       "3946  한강및 지천에서의 안전\\n시민의 안전과 편의를 위하여 불철주야 수고 하심에 감사드립...   \n",
       "3947  세빛섬 이전 가능한가 ?\\n안녕하세요 ?최근에 노들섬이 2018년 말 경 개발된다는...   \n",
       "3948  한강 시민공원 주차장에 태양광 패널로 지붕을 설치하면 좋겠습니다.\\n한강시민공원에서...   \n",
       "\n",
       "                                                 tokens  \\\n",
       "0     [신호등, 외국, 다니다, 나라, 자동차, 신호등, 타이머, 보행자, 신호, 타이머...   \n",
       "1     [도로, 유적지, 보호, 아침, 뉴스, 자동차, 한대, 사직단, 대문, 받다, 소식...   \n",
       "2     [자전거, 보호, 강화, 및, 거치다, 열정, 시정, 챙겨주다, 말씀, 먼저, 드리...   \n",
       "3     [레일, 바이크, 보통, 레일, 바이크, 타다, 멀리, 가다, 가깝다, 레일, 바이...   \n",
       "4     [당, 곡, 사거리, 숭실대, 입, 구역, 삼거리, 직선, 연결, 가칭, 당, 곡,...   \n",
       "...                                                 ...   \n",
       "3944  [지하철, 임산부, 지정석, 다르다, 오라, 지하철, 임산부, 지정석, 건의, 드리...   \n",
       "3945  [동서, 작곡가, 집, 보존, 성북동, 옛날, 짜장면, 집, 뒤, 골목, 한옥, 집...   \n",
       "3946  [한강, 및, 지천, 안전, 시민, 안전, 편의, 위하다, 불철주야, 감사드리다, ...   \n",
       "3947                                                 []   \n",
       "3948  [한강, 시민공원, 주차장, 태양광, 패널, 지붕, 설치, 한강시민공원, 주차장, ...   \n",
       "\n",
       "                                             all_tokens 분류_y 분류2  \n",
       "0     [신호등, 외국, 다니, 보, 니, 나라, 는, 자동차, 신호등, 에, 도, 타이머...   교통  안전  \n",
       "1     [도로, 의, 유적지, 보호, 아침, 뉴스, 에, 자동차, 한대, 가, 사직단, 대...   환경  안전  \n",
       "2     [자전거, 보호, 강화, 및, 거치, 대, 열정, 가지, 고, 시정, 챙겨주, 시,...   환경  교통  \n",
       "3     [레일, 바이크, 보통, 레일, 바이크, 를, 타, 려면, 멀리, 가, 아야, 하,...   교통  문화  \n",
       "4     [당, 곡, 사거리, 숭실대, 입, 구역, 삼거리, 를, 직선, 으로, 연결, 하,...   안전  교통  \n",
       "...                                                 ...  ...  ..  \n",
       "3944  [지하철, 임산부, 지정석, 하, 시, ㅂ니다, 다르, ㅁ, 아니, 오라, 지하철,...   교통  복지  \n",
       "3945  [채, 동서, ㄴ, 작곡가, 의, 집, 보존, 하, 아, 주, 시, 어요, 성북동,...   주택  문화  \n",
       "3946  [한강, 및, 지천, 에서, 의, 안전, 시민, 의, 안전, 과, 편의, 를, 위하...   안전  교통  \n",
       "3947  [세빛섬 이전 가능한가 안녕하세요 최근에 노들섬이 2018년 말 경 개발된다는 기사...   환경  문화  \n",
       "3948  [한강, 시민공원, 주차장, 에, 태양광, 패널, 로, 지붕, 설치, 하, 면, 좋...   환경  안전  \n",
       "\n",
       "[3949 rows x 11 columns]"
      ]
     },
     "execution_count": 100,
     "metadata": {},
     "output_type": "execute_result"
    }
   ],
   "source": [
    "# 민원 분류 예측 결과를 test_df에 merge\n",
    "result_df=pd.merge(test_df,output_w2v,on='글번호')\n",
    "result_df"
   ]
  },
  {
   "cell_type": "markdown",
   "metadata": {},
   "source": [
    "### 민원분류 예측결과 엑셀파일로 저장"
   ]
  },
  {
   "cell_type": "code",
   "execution_count": 145,
   "metadata": {},
   "outputs": [
    {
     "name": "stdout",
     "output_type": "stream",
     "text": [
      "Collecting xlsxwriter\n",
      "  Using cached XlsxWriter-3.0.3-py3-none-any.whl (149 kB)\n",
      "Installing collected packages: xlsxwriter\n",
      "Successfully installed xlsxwriter-3.0.3\n",
      "Note: you may need to restart the kernel to use updated packages.\n"
     ]
    }
   ],
   "source": [
    "pip install xlsxwriter"
   ]
  },
  {
   "cell_type": "code",
   "execution_count": 54,
   "metadata": {},
   "outputs": [],
   "source": [
    "result_df.to_excel('민원분류 예측결과.xlsx',index=None)"
   ]
  },
  {
   "cell_type": "markdown",
   "metadata": {},
   "source": [
    "### 분류 결과 도표 시각화 ###"
   ]
  },
  {
   "cell_type": "code",
   "execution_count": 102,
   "metadata": {},
   "outputs": [
    {
     "name": "stderr",
     "output_type": "stream",
     "text": [
      "C:\\Users\\dkq50\\anaconda3\\lib\\site-packages\\seaborn\\_decorators.py:36: FutureWarning: Pass the following variable as a keyword arg: x. From version 0.12, the only valid positional argument will be `data`, and passing other arguments without an explicit keyword will result in an error or misinterpretation.\n",
      "  warnings.warn(\n",
      "C:\\Users\\dkq50\\anaconda3\\lib\\site-packages\\seaborn\\_decorators.py:36: FutureWarning: Pass the following variable as a keyword arg: x. From version 0.12, the only valid positional argument will be `data`, and passing other arguments without an explicit keyword will result in an error or misinterpretation.\n",
      "  warnings.warn(\n"
     ]
    },
    {
     "data": {
      "text/plain": [
       "Text(0.5, 1.0, '테스트 데이터')"
      ]
     },
     "execution_count": 102,
     "metadata": {},
     "output_type": "execute_result"
    },
    {
     "data": {
      "image/png": "[encoded data removed]",
      "text/plain": [
       "<Figure size 864x360 with 2 Axes>"
      ]
     },
     "metadata": {
      "needs_background": "light"
     },
     "output_type": "display_data"
    }
   ],
   "source": [
    "#학습 데이터 민원 분류 비율 vs 테스트 데이터 민원 분류 비율 #\n",
    "fig, axes = plt.subplots(ncols=2)\n",
    "fig.set_size_inches(12,5)\n",
    "\n",
    "#학습 데이터 플롯\n",
    "train_plot = sns.countplot(train_df['분류'], ax=axes[0],order=train_df['분류'].value_counts().index.to_list())\n",
    "train_plot.set_xticklabels(train_plot.get_xticklabels(),rotation=45,ha='right')\n",
    "train_plot.set_title('학습 데이터')\n",
    "\n",
    "#테스트 데이터 플롯\n",
    "test_plot = sns.countplot(output_w2v['분류'], ax=axes[1],order=result_df['분류_y'].value_counts().index.to_list())\n",
    "test_plot.set_xticklabels(test_plot.get_xticklabels(),rotation=45,ha='right')\n",
    "test_plot.set_title('테스트 데이터')"
   ]
  },
  {
   "cell_type": "code",
   "execution_count": null,
   "metadata": {},
   "outputs": [],
   "source": []
  }
 ],
 "metadata": {
  "file_extension": ".py",
  "interpreter": {
   "hash": "71983d4614f4bca5a3b402268e3287b05b08a37bb91635263544d2d0bb2a12a0"
  },
  "kernelspec": {
   "display_name": "Python 3.9.7 ('hamtori')",
   "language": "python",
   "name": "python3"
  },
  "language_info": {
   "codemirror_mode": {
    "name": "ipython",
    "version": 3
   },
   "file_extension": ".py",
   "mimetype": "text/x-python",
   "name": "python",
   "nbconvert_exporter": "python",
   "pygments_lexer": "ipython3",
   "version": "3.9.7"
  },
  "mimetype": "text/x-python",
  "name": "python",
  "npconvert_exporter": "python",
  "orig_nbformat": 2,
  "pygments_lexer": "ipython3",
  "version": 3
 },
 "nbformat": 4,
 "nbformat_minor": 2
}
